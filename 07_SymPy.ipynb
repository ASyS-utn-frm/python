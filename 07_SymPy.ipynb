{
  "cells": [
    {
      "cell_type": "markdown",
      "source": [
        "<center>\n",
        "\n",
        "\n",
        "<div style=\"display: flex; justify-content: center;\">\n",
        "    <img src=\"data:image/jpeg;base64,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\" alt=\"Logo UTN\"/>\n",
        "</div>\n",
        "</center>\n",
        "<center>\n",
        "    <div style=\"font-family: 'Georgia', serif; font-size: 24px;\">\n",
        "        <p><strong>Ingeniería en Electrónica. Análisis de Señales y Sistemas</strong></p>\n",
        "    </div>\n",
        "</center>"
      ],
      "metadata": {
        "id": "g3l9lKJUVvUD"
      }
    },
    {
      "cell_type": "markdown",
      "metadata": {
        "id": "swFrjFop_F8s"
      },
      "source": [
        "#Introducción a SymPy\n",
        "\n",
        "\n",
        "# 1. ¿Qué es SymPy?\n",
        "\n",
        "SymPy es una biblioteca de Python para matemáticas simbólicas. Esto significa que, a diferencia de las matemáticas numéricas donde trabajamos con valores específicos, en las matemáticas simbólicas trabajamos con símbolos y expresiones algebraicas. SymPy nos permite realizar cálculos matemáticos complejos de manera simbólica, lo que es muy útil para resolver problemas de álgebra, cálculo, y análisis matemático de manera exacta.\n",
        "\n",
        "# 2. Importación de SymPy\n",
        "\n",
        "La importación de SymPy es un paso necesario para poder utilizar sus funcionalidades. En Python, usamos la palabra clave `import` seguida del nombre de la biblioteca. Aquí, `sy` es el alias que usamaremos para abreviar SymPy.\n",
        "\n"
      ]
    },
    {
      "cell_type": "code",
      "execution_count": 2,
      "metadata": {
        "id": "-ZD5yESS_F8x"
      },
      "outputs": [],
      "source": [
        "import sympy as sy"
      ]
    },
    {
      "cell_type": "markdown",
      "metadata": {
        "id": "yup4Ntnj_F8y"
      },
      "source": [
        "Adicionalmente dentro del entorno de Jupyter podemos ejecutar la siguiente instrucción que permite *renderizar* las expresiones resultantes. Esto es para que se muestren las ecuaciones con un formato más agradable."
      ]
    },
    {
      "cell_type": "code",
      "execution_count": 3,
      "metadata": {
        "id": "95MGc37i_F8y"
      },
      "outputs": [],
      "source": [
        "sy.init_printing()"
      ]
    },
    {
      "cell_type": "markdown",
      "source": [
        "Ahora podremos usar la función display() para que las expresiones aparezcan renderizadas."
      ],
      "metadata": {
        "id": "OlXx7mzPJREC"
      }
    },
    {
      "cell_type": "markdown",
      "metadata": {
        "id": "lB_qQRW8_F8z"
      },
      "source": [
        "# 3. Variables simbólicas\n",
        "\n",
        "Las variables simbólicas son el elemento fundamental de `SymPy`, ya que todas las operaciones de álgebra simbólica dependen de ellas. Para crear una variable simbólica, utilizamos la función `symbols`, que asigna un símbolo específico a dicha variable:"
      ]
    },
    {
      "cell_type": "code",
      "execution_count": 4,
      "metadata": {
        "id": "A-d6cXeW_F8z",
        "colab": {
          "base_uri": "https://localhost:8080/"
        },
        "outputId": "06c62d2b-40b8-4bad-a661-62433cf4db76"
      },
      "outputs": [
        {
          "output_type": "stream",
          "name": "stdout",
          "text": [
            "<class 'sympy.core.symbol.Symbol'>\n"
          ]
        }
      ],
      "source": [
        "x = sy.symbols(\"x\")\n",
        "print(type(x))"
      ]
    },
    {
      "cell_type": "markdown",
      "metadata": {
        "id": "WKvPeY4U_F80"
      },
      "source": [
        "Con la función `symbols`, se define una nueva variable simbólica que se almacena en `x`. Al hacer esto, se verifica que `x` es un objeto de la clase `Symbol`. Una vez que la variable x está definida, se pueden empezar a crear expresiones algebraicas y manipularlas matemáticamente. Por ejemplo, podemos sumar, restar, multiplicar y dividir usando `x` como si fuera cualquier otra variable matemática, pero con la ventaja de que `SymPy` nos permite realizar estas operaciones de manera simbólica y no numérica. Esto significa que podemos simplificar, expandir y factorizar expresiones, entre otras operaciones."
      ]
    },
    {
      "cell_type": "code",
      "execution_count": 5,
      "metadata": {
        "id": "0r32py0E_F81",
        "colab": {
          "base_uri": "https://localhost:8080/",
          "height": 38
        },
        "outputId": "24287530-dbfe-4c1d-9ecc-4b3b16b7d6f1"
      },
      "outputs": [
        {
          "output_type": "execute_result",
          "data": {
            "text/plain": [
              "x + 2"
            ],
            "text/latex": "$\\displaystyle x + 2$"
          },
          "metadata": {},
          "execution_count": 5
        }
      ],
      "source": [
        "x + 2"
      ]
    },
    {
      "cell_type": "code",
      "execution_count": 6,
      "metadata": {
        "id": "r5Qwrcmk_F81",
        "colab": {
          "base_uri": "https://localhost:8080/",
          "height": 38
        },
        "outputId": "c481acac-4ec1-4db2-beee-dcf697d3f450"
      },
      "outputs": [
        {
          "output_type": "execute_result",
          "data": {
            "text/plain": [
              " 2           \n",
              "x  - 2⋅x - 10"
            ],
            "text/latex": "$\\displaystyle x^{2} - 2 x - 10$"
          },
          "metadata": {},
          "execution_count": 6
        }
      ],
      "source": [
        "x**2 - 2*x - 10"
      ]
    },
    {
      "cell_type": "code",
      "execution_count": 7,
      "metadata": {
        "id": "8In_qS9V_F82",
        "colab": {
          "base_uri": "https://localhost:8080/",
          "height": 38
        },
        "outputId": "ad17946d-bc82-40c7-972c-faa88d393fba"
      },
      "outputs": [
        {
          "output_type": "execute_result",
          "data": {
            "text/plain": [
              "√x - sin(x)"
            ],
            "text/latex": "$\\displaystyle \\sqrt{x} - \\sin{\\left(x \\right)}$"
          },
          "metadata": {},
          "execution_count": 7
        }
      ],
      "source": [
        "sy.sqrt(x) - sy.sin(x)"
      ]
    },
    {
      "cell_type": "markdown",
      "metadata": {
        "id": "lNZ-HajZ_F82"
      },
      "source": [
        "Puedes definir múltiples variables separando por comas cada representación simbólica. Por ejemplo, si deseas definir las variables `p`, `q`y `r`, puedes hacerlo de la siguiente manera:"
      ]
    },
    {
      "cell_type": "code",
      "execution_count": 51,
      "metadata": {
        "id": "0KgQWOtd_F82",
        "colab": {
          "base_uri": "https://localhost:8080/",
          "height": 51
        },
        "outputId": "231149fa-ea14-4f51-f825-7406c2fcaad3"
      },
      "outputs": [
        {
          "output_type": "execute_result",
          "data": {
            "text/plain": [
              " q   r\n",
              "p  + ─\n",
              "     q"
            ],
            "text/latex": "$\\displaystyle p^{q} + \\frac{r}{q}$"
          },
          "metadata": {},
          "execution_count": 51
        }
      ],
      "source": [
        "p,q,r = sy.symbols(\"p,q,r\")\n",
        "p**q + r/q"
      ]
    },
    {
      "cell_type": "markdown",
      "source": [
        "## 3.1 Variables simbólicas con restricciones\n",
        "\n",
        "Cuando trabajamos en un contexto específico, como en ecuaciones donde necesitamos números enteros o valores reales, es importante poder restringir nuestras variables simbólicas. En `SymPy`, podemos definir variables como enteras (`integer=True`), reales (`real=True`), o complejas (`complex=True`). Al declarar estas restricciones, le indicamos a `SymPy` cómo debe tratar a cada variable durante los cálculos.\n",
        "\n",
        "Por ejemplo, si definimos una variable `n` como entera y `y` como real:\n"
      ],
      "metadata": {
        "id": "r9Poni2S5xLU"
      }
    },
    {
      "cell_type": "code",
      "source": [
        "n = sy.symbols('n', integer=True)\n",
        "y = sy.symbols('y', real=True)"
      ],
      "metadata": {
        "id": "TaZfN5Ax51QX"
      },
      "execution_count": null,
      "outputs": []
    },
    {
      "cell_type": "markdown",
      "source": [
        "Este tipo de restricciones en las variables es útil en muchos contextos, ya que ayuda a SymPy a realizar los cálculos de manera coherente y evita ambigüedades en expresiones simbólicas.\n",
        "\n",
        "\n",
        "\n"
      ],
      "metadata": {
        "id": "vih4lQYC6ghT"
      }
    },
    {
      "cell_type": "markdown",
      "metadata": {
        "id": "v-awbR8F_F84"
      },
      "source": [
        "# 4. Simplificación y expanción de expresiones:\n",
        "\n",
        "SymPy es una herramienta muy poderosa para la manipulación y simplificación de expresiones algebraicas. En los siguientes apartados, revisaremos algunos casos básicos y explicaremos cómo utilizar las diferentes funciones que SymPy ofrece.\n",
        "\n",
        "Para comenzar, es necesario definir algunas variables simbólicas que utilizaremos en nuestros ejemplos.\n",
        "\n"
      ]
    },
    {
      "cell_type": "code",
      "execution_count": 8,
      "metadata": {
        "id": "tbRMRMep_F84"
      },
      "outputs": [],
      "source": [
        "x,y,z = sy.symbols(\"x,y,z\")\n",
        "a,b,c,d,k,m,n = sy.symbols(\"a,b,c,d,k,m,n\")"
      ]
    },
    {
      "cell_type": "markdown",
      "metadata": {
        "id": "YlxxaAkx_F84"
      },
      "source": [
        "Por defecto, SymPy evalúa y simplifica automáticamente las expresiones algebraicas combinando términos semejantes. Observa los siguientes ejemplos:"
      ]
    },
    {
      "cell_type": "code",
      "execution_count": 9,
      "metadata": {
        "id": "17g2H_8-_F85",
        "colab": {
          "base_uri": "https://localhost:8080/",
          "height": 38
        },
        "outputId": "d8584e10-f771-48bc-e6e0-5ddb300dfe2c"
      },
      "outputs": [
        {
          "output_type": "execute_result",
          "data": {
            "text/plain": [
              "   3      2            \n",
              "5⋅x  - 9⋅x  - 15⋅x - 10"
            ],
            "text/latex": "$\\displaystyle 5 x^{3} - 9 x^{2} - 15 x - 10$"
          },
          "metadata": {},
          "execution_count": 9
        }
      ],
      "source": [
        "x**2 + 5*x**3 - 10*x**2 - 5*x - 10*(x + 1)"
      ]
    },
    {
      "cell_type": "code",
      "execution_count": 10,
      "metadata": {
        "id": "3ZZtuYYK_F85",
        "colab": {
          "base_uri": "https://localhost:8080/",
          "height": 51
        },
        "outputId": "1b10c878-2068-4021-f3de-b86d3f2945b2"
      },
      "outputs": [
        {
          "output_type": "execute_result",
          "data": {
            "text/plain": [
              "               x\n",
              "-6⋅a⋅b + c⋅d + ─\n",
              "               y"
            ],
            "text/latex": "$\\displaystyle - 6 a b + c d + \\frac{x}{y}$"
          },
          "metadata": {},
          "execution_count": 10
        }
      ],
      "source": [
        "expr = a*b + c*d + x/y - 7*a*b\n",
        "expr"
      ]
    },
    {
      "cell_type": "markdown",
      "source": [
        "## 4.1 Factorización de Expresiones\n",
        "\n",
        "La factorización es una técnica que nos permite expresar una expresión algebraica como el producto de sus factores. Esto puede ser útil para simplificar expresiones complejas, resolver ecuaciones, o reescribir términos. SymPy ofrece la función `factor` para factorizar expresiones de manera automática.\n",
        "\n",
        "Por ejemplo, si tenemos la expresión $ ab + ac$, es fácil identificar que se puede factorizar como $ a(b + c) $. `SymPy` realiza esta factorización sin ningún problema:\n"
      ],
      "metadata": {
        "id": "Ii9PK7T18ZQa"
      }
    },
    {
      "cell_type": "code",
      "execution_count": 11,
      "metadata": {
        "id": "JItWIfgJ_F85",
        "colab": {
          "base_uri": "https://localhost:8080/",
          "height": 38
        },
        "outputId": "744b81ec-e184-441a-f478-8f96607bfcb5"
      },
      "outputs": [
        {
          "output_type": "execute_result",
          "data": {
            "text/plain": [
              "a⋅(b + c)"
            ],
            "text/latex": "$\\displaystyle a \\left(b + c\\right)$"
          },
          "metadata": {},
          "execution_count": 11
        }
      ],
      "source": [
        "expr = a*b + a*c\n",
        "sy.factor(expr)"
      ]
    },
    {
      "cell_type": "markdown",
      "metadata": {
        "id": "ZOhbc3EH_F86"
      },
      "source": [
        "De igual forma se sabe que una expresión de la forma $ ac + ad + bc + bd $ se puede factorizar como\n",
        "$ (a + b) (d + c) $."
      ]
    },
    {
      "cell_type": "code",
      "execution_count": 12,
      "metadata": {
        "id": "B1MV3X93_F86",
        "colab": {
          "base_uri": "https://localhost:8080/",
          "height": 38
        },
        "outputId": "19d47604-e307-4d45-a3f8-b166113da8cb"
      },
      "outputs": [
        {
          "output_type": "execute_result",
          "data": {
            "text/plain": [
              "(a + b)⋅(c + d)"
            ],
            "text/latex": "$\\displaystyle \\left(a + b\\right) \\left(c + d\\right)$"
          },
          "metadata": {},
          "execution_count": 12
        }
      ],
      "source": [
        "expr = a*c + a*d + b*c + b*d\n",
        "sy.factor(expr)"
      ]
    },
    {
      "cell_type": "markdown",
      "metadata": {
        "id": "D49ulkrY_F87"
      },
      "source": [
        "Otro ejemplo común es el de un binomio al cuadrado. Sabemos que $ (a+b)(a+b) $ puede factorizarse como $ a^2 + 2ab + b^2 $.\n"
      ]
    },
    {
      "cell_type": "code",
      "execution_count": 13,
      "metadata": {
        "id": "-maYAWlq_F87",
        "colab": {
          "base_uri": "https://localhost:8080/",
          "height": 39
        },
        "outputId": "9fd43c9e-7601-4a55-895a-663a7c8966e3"
      },
      "outputs": [
        {
          "output_type": "execute_result",
          "data": {
            "text/plain": [
              "       2\n",
              "(a + b) "
            ],
            "text/latex": "$\\displaystyle \\left(a + b\\right)^{2}$"
          },
          "metadata": {},
          "execution_count": 13
        }
      ],
      "source": [
        "expr = a**2 + 2*a*b + b**2\n",
        "sy.factor(expr)"
      ]
    },
    {
      "cell_type": "markdown",
      "metadata": {
        "id": "VQLJZsMi_F87"
      },
      "source": [
        "## 4.2 Expansión de Expresiones\n",
        "\n",
        "La expansión es el proceso inverso de la factorización. En lugar de encontrar factores, expandimos una expresión algebraica al multiplicar todos sus términos. `SymPy` ofrece la función expand para obtener la expresión expandida de cualquier producto.\n",
        "\n",
        "Por ejemplo, si tenemos una expresión factorizada como $(x-7)(x-3)$ la función `expand` devolverá la expresión resultante de realizar la multiplicación:"
      ]
    },
    {
      "cell_type": "code",
      "execution_count": 14,
      "metadata": {
        "id": "YQzMT0qw_F87",
        "colab": {
          "base_uri": "https://localhost:8080/",
          "height": 38
        },
        "outputId": "dbbb27e0-75c0-400e-8922-28daeab41f43"
      },
      "outputs": [
        {
          "output_type": "execute_result",
          "data": {
            "text/plain": [
              " 2            \n",
              "x  - 10⋅x + 21"
            ],
            "text/latex": "$\\displaystyle x^{2} - 10 x + 21$"
          },
          "metadata": {},
          "execution_count": 14
        }
      ],
      "source": [
        "expr = (x-7)*(x-3)\n",
        "sy.expand(expr)"
      ]
    },
    {
      "cell_type": "markdown",
      "metadata": {
        "id": "s9QVbcFN_F88"
      },
      "source": [
        "`SymPy` también puede manejar cualquier cantidad de factores. Aquí mostramos algunos ejemplos con diferentes combinaciones:"
      ]
    },
    {
      "cell_type": "code",
      "execution_count": 15,
      "metadata": {
        "id": "MWclNwKD_F88",
        "colab": {
          "base_uri": "https://localhost:8080/",
          "height": 38
        },
        "outputId": "c4b42604-a376-4049-b90f-91441613495a"
      },
      "outputs": [
        {
          "output_type": "execute_result",
          "data": {
            "text/plain": [
              " 2    2\n",
              "x  - y "
            ],
            "text/latex": "$\\displaystyle x^{2} - y^{2}$"
          },
          "metadata": {},
          "execution_count": 15
        }
      ],
      "source": [
        "expr = (x + y)*(x - y)\n",
        "sy.expand(expr)"
      ]
    },
    {
      "cell_type": "code",
      "execution_count": 16,
      "metadata": {
        "id": "uhSScHrG_F88",
        "colab": {
          "base_uri": "https://localhost:8080/",
          "height": 38
        },
        "outputId": "35957fcc-ce4e-46f7-e608-fd775d2de4a2"
      },
      "outputs": [
        {
          "output_type": "execute_result",
          "data": {
            "text/plain": [
              " 2            2\n",
              "x  + 2⋅x⋅y + y "
            ],
            "text/latex": "$\\displaystyle x^{2} + 2 x y + y^{2}$"
          },
          "metadata": {},
          "execution_count": 16
        }
      ],
      "source": [
        "expr = (x + y)*(x+y)\n",
        "sy.expand(expr)"
      ]
    },
    {
      "cell_type": "code",
      "execution_count": 17,
      "metadata": {
        "id": "lhA-bDdY_F88",
        "colab": {
          "base_uri": "https://localhost:8080/",
          "height": 38
        },
        "outputId": "6ca00b58-b600-43cc-e224-b1d944fb81f1"
      },
      "outputs": [
        {
          "output_type": "execute_result",
          "data": {
            "text/plain": [
              " 2            2\n",
              "x  + 2⋅x⋅y + y "
            ],
            "text/latex": "$\\displaystyle x^{2} + 2 x y + y^{2}$"
          },
          "metadata": {},
          "execution_count": 17
        }
      ],
      "source": [
        "sy.expand( (x + y)**2 )"
      ]
    },
    {
      "cell_type": "code",
      "execution_count": 18,
      "metadata": {
        "id": "K-H4T18-_F89",
        "colab": {
          "base_uri": "https://localhost:8080/",
          "height": 38
        },
        "outputId": "ad2369fa-eb29-4fc5-98f6-9805275b335e"
      },
      "outputs": [
        {
          "output_type": "execute_result",
          "data": {
            "text/plain": [
              " 3      2          2    3\n",
              "x  + 3⋅x ⋅y + 3⋅x⋅y  + y "
            ],
            "text/latex": "$\\displaystyle x^{3} + 3 x^{2} y + 3 x y^{2} + y^{3}$"
          },
          "metadata": {},
          "execution_count": 18
        }
      ],
      "source": [
        "sy.expand( (x + y)**3 )"
      ]
    },
    {
      "cell_type": "code",
      "execution_count": 19,
      "metadata": {
        "id": "ZluJnct7_F89",
        "colab": {
          "base_uri": "https://localhost:8080/",
          "height": 38
        },
        "outputId": "ead4fdfe-44b2-46a1-b948-3d10f81df065"
      },
      "outputs": [
        {
          "output_type": "execute_result",
          "data": {
            "text/plain": [
              "   2                2\n",
              "a⋅m  + 2⋅a⋅m⋅n + a⋅n "
            ],
            "text/latex": "$\\displaystyle a m^{2} + 2 a m n + a n^{2}$"
          },
          "metadata": {},
          "execution_count": 19
        }
      ],
      "source": [
        "sy.expand( a*(m + n)**2 )"
      ]
    },
    {
      "cell_type": "markdown",
      "metadata": {
        "id": "9xRcILOK_F89"
      },
      "source": [
        "## 4.3 Simplificaciones\n",
        "\n",
        "Para simplificaciones y operaciones más complejas, `SymPy` ofrece una función general llamada `simplify`. Esta función evalúa y simplifica una expresión utilizando varias técnicas según el contexto y el tipo de términos involucrados.\n",
        "\n",
        "\n",
        "\n",
        "Suponiendo que se tiene la siguiente expresión algebraica racional y se requiere reducir:\n",
        "\n",
        "$$ \\frac{x^2 - 3x}{x^2 + 3x}$$\n",
        "\n",
        "Se puede notar que tanto en el numerador como en el denominador se puede factorizar $x$, lo cual conduce a:\n",
        "\n",
        "$$ \\frac{x(x - 3)}{x(x + 3)} = \\frac{x-3}{x+3} $$\n",
        "\n",
        "Con `SymPy`:"
      ]
    },
    {
      "cell_type": "code",
      "execution_count": 20,
      "metadata": {
        "id": "JPrN1S8R_F89",
        "colab": {
          "base_uri": "https://localhost:8080/",
          "height": 52
        },
        "outputId": "1f3a3c3d-6a60-40fe-8ce8-d1356a3b8d27"
      },
      "outputs": [
        {
          "output_type": "execute_result",
          "data": {
            "text/plain": [
              "x - 3\n",
              "─────\n",
              "x + 3"
            ],
            "text/latex": "$\\displaystyle \\frac{x - 3}{x + 3}$"
          },
          "metadata": {},
          "execution_count": 20
        }
      ],
      "source": [
        "expr = (x**2 - 3*x)/(x**2 + 3*x)\n",
        "sy.simplify(expr)"
      ]
    },
    {
      "cell_type": "markdown",
      "source": [
        "Más ejemplos:"
      ],
      "metadata": {
        "id": "DqIMYfD3GB_0"
      }
    },
    {
      "cell_type": "code",
      "execution_count": 21,
      "metadata": {
        "id": "YghJJStd_F8-",
        "colab": {
          "base_uri": "https://localhost:8080/",
          "height": 37
        },
        "outputId": "5ca504f6-8717-422d-85f9-e25c90174590"
      },
      "outputs": [
        {
          "output_type": "execute_result",
          "data": {
            "text/plain": [
              "1"
            ],
            "text/latex": "$\\displaystyle 1$"
          },
          "metadata": {},
          "execution_count": 21
        }
      ],
      "source": [
        "sy.simplify( sy.sin(x)**2 + sy.cos(x)**2 )"
      ]
    },
    {
      "cell_type": "code",
      "execution_count": 22,
      "metadata": {
        "id": "9bYPowRz_F8-",
        "colab": {
          "base_uri": "https://localhost:8080/",
          "height": 38
        },
        "outputId": "9eec26ed-74ba-4e2e-83f8-2e51e308c11f"
      },
      "outputs": [
        {
          "output_type": "execute_result",
          "data": {
            "text/plain": [
              "cos(x + y)"
            ],
            "text/latex": "$\\displaystyle \\cos{\\left(x + y \\right)}$"
          },
          "metadata": {},
          "execution_count": 22
        }
      ],
      "source": [
        "sy.simplify( sy.cos(x)*sy.cos(y) - sy.sin(x)*sy.sin(y) )"
      ]
    },
    {
      "cell_type": "code",
      "execution_count": 23,
      "metadata": {
        "id": "GjyQYol7_F8-",
        "colab": {
          "base_uri": "https://localhost:8080/",
          "height": 38
        },
        "outputId": "e7bd40ce-d02c-4193-b871-96bcd4c20e99"
      },
      "outputs": [
        {
          "output_type": "execute_result",
          "data": {
            "text/plain": [
              "   2   \n",
              "tan (x)"
            ],
            "text/latex": "$\\displaystyle \\tan^{2}{\\left(x \\right)}$"
          },
          "metadata": {},
          "execution_count": 23
        }
      ],
      "source": [
        "sy.simplify( (1+sy.tan(x)**2)/(1+sy.cot(x)**2) )"
      ]
    },
    {
      "cell_type": "markdown",
      "metadata": {
        "id": "UPX8791a_F8_"
      },
      "source": [
        "Para la manipulación de expresiones que contienen funciones trigonométricas se prefiere  utilizar la función `trigsimp`.\n",
        "\n",
        "Si en lugar de reducir una expresión trigonométrica se requiere expandirla, también existe la función `expand_trig`, la cual maneja de mejor manera las manipulaciones trigonométricas:"
      ]
    },
    {
      "cell_type": "code",
      "execution_count": 24,
      "metadata": {
        "id": "8XdExvM3_F9A",
        "colab": {
          "base_uri": "https://localhost:8080/",
          "height": 38
        },
        "outputId": "2db5c357-623b-4def-81ef-98049234e16f"
      },
      "outputs": [
        {
          "output_type": "execute_result",
          "data": {
            "text/plain": [
              "sin(x)⋅cos(y) + sin(y)⋅cos(x)"
            ],
            "text/latex": "$\\displaystyle \\sin{\\left(x \\right)} \\cos{\\left(y \\right)} + \\sin{\\left(y \\right)} \\cos{\\left(x \\right)}$"
          },
          "metadata": {},
          "execution_count": 24
        }
      ],
      "source": [
        "sy.expand_trig( sy.sin(x+y) )"
      ]
    },
    {
      "cell_type": "markdown",
      "source": [
        "## 5. Sustituciones"
      ],
      "metadata": {
        "id": "WCPrjt4QFnJT"
      }
    },
    {
      "cell_type": "markdown",
      "source": [
        "\n",
        "## 5.1 Sustituciones simbólicas simples\n",
        "\n",
        "En `SymPy`, podemos sustituir una variable simbólica por otra variable, expresión o valor numérico. Esta funcionalidad es especialmente útil cuando deseamos evaluar expresiones en puntos específicos o simplificar expresiones sustituyendo variables por otras relaciones conocidas. El método para esto es `.subs`."
      ],
      "metadata": {
        "id": "HgOie1ywFsIZ"
      }
    },
    {
      "cell_type": "code",
      "source": [
        "expr = sy.cos(x)**2 + sy.sin(x)**2\n",
        "expr"
      ],
      "metadata": {
        "id": "3ldCHmCxFw11",
        "colab": {
          "base_uri": "https://localhost:8080/",
          "height": 38
        },
        "outputId": "270be926-e878-41a3-a0d6-25c5896db245"
      },
      "execution_count": 25,
      "outputs": [
        {
          "output_type": "execute_result",
          "data": {
            "text/plain": [
              "   2         2   \n",
              "sin (x) + cos (x)"
            ],
            "text/latex": "$\\displaystyle \\sin^{2}{\\left(x \\right)} + \\cos^{2}{\\left(x \\right)}$"
          },
          "metadata": {},
          "execution_count": 25
        }
      ]
    },
    {
      "cell_type": "markdown",
      "source": [
        "Ahora sustituiremos $x$ por $y^2$ usando el método `.susb` de una expresión como se muestra a continuación:"
      ],
      "metadata": {
        "id": "-oSqynkzF8D4"
      }
    },
    {
      "cell_type": "code",
      "source": [
        "expr2 = expr.subs(x, y**2)\n",
        "expr2"
      ],
      "metadata": {
        "id": "CY4Go4thF3Ch",
        "colab": {
          "base_uri": "https://localhost:8080/",
          "height": 38
        },
        "outputId": "f58b8bd4-5c53-4705-832b-84ace1e7a011"
      },
      "execution_count": 26,
      "outputs": [
        {
          "output_type": "execute_result",
          "data": {
            "text/plain": [
              "   2⎛ 2⎞      2⎛ 2⎞\n",
              "sin ⎝y ⎠ + cos ⎝y ⎠"
            ],
            "text/latex": "$\\displaystyle \\sin^{2}{\\left(y^{2} \\right)} + \\cos^{2}{\\left(y^{2} \\right)}$"
          },
          "metadata": {},
          "execution_count": 26
        }
      ]
    },
    {
      "cell_type": "markdown",
      "source": [
        "Hay que tener en cuenta que la expresión que está guardada en la variable, `expr` no cambia. Cuando se aplica el método `.subs ` devuelve la expresión modificada pero sin modificar la original.\n",
        "\n"
      ],
      "metadata": {
        "id": "yV2MgbYOGKkc"
      }
    },
    {
      "cell_type": "code",
      "source": [
        "expr"
      ],
      "metadata": {
        "id": "MMzyE_dnGRw4",
        "colab": {
          "base_uri": "https://localhost:8080/",
          "height": 38
        },
        "outputId": "ce39f833-0091-4dec-d958-0b72ec8ad678"
      },
      "execution_count": 27,
      "outputs": [
        {
          "output_type": "execute_result",
          "data": {
            "text/plain": [
              "   2         2   \n",
              "sin (x) + cos (x)"
            ],
            "text/latex": "$\\displaystyle \\sin^{2}{\\left(x \\right)} + \\cos^{2}{\\left(x \\right)}$"
          },
          "metadata": {},
          "execution_count": 27
        }
      ]
    },
    {
      "cell_type": "markdown",
      "source": [
        "## 5.2  Sustitución simbólica de una Expresión Compleja\n",
        "\n",
        "Podemos realizar sustituciones más complejas, como reemplazar $\\sin(x)\n",
        "$ con la función exponencial $e^x$. Esto puede ser útil en contextos donde queramos expresar funciones trigonométricas en términos de otras funciones."
      ],
      "metadata": {
        "id": "XzsvcHyjpd0C"
      }
    },
    {
      "cell_type": "code",
      "source": [
        "expr.subs(sy.sin(x), sy.exp(x))"
      ],
      "metadata": {
        "id": "ET3ZvqXRGs6R",
        "colab": {
          "base_uri": "https://localhost:8080/",
          "height": 38
        },
        "outputId": "ac1d86d0-d723-4cb1-9af2-5b56e1713ee8"
      },
      "execution_count": 28,
      "outputs": [
        {
          "output_type": "execute_result",
          "data": {
            "text/plain": [
              " 2⋅x      2   \n",
              "ℯ    + cos (x)"
            ],
            "text/latex": "$\\displaystyle e^{2 x} + \\cos^{2}{\\left(x \\right)}$"
          },
          "metadata": {},
          "execution_count": 28
        }
      ]
    },
    {
      "cell_type": "markdown",
      "source": [
        "## 5.3 Sustitución Numérica\n",
        "Para evaluar una expresión en un valor específico de una variable, usamos también .subs, seguido del valor deseado:"
      ],
      "metadata": {
        "id": "B8S_E4PFH67t"
      }
    },
    {
      "cell_type": "code",
      "source": [
        "expr.subs(x,3)"
      ],
      "metadata": {
        "id": "6bUkf_riIFrF",
        "colab": {
          "base_uri": "https://localhost:8080/",
          "height": 37
        },
        "outputId": "2207de96-fa05-4a69-e64f-42c402a2ba2c"
      },
      "execution_count": 29,
      "outputs": [
        {
          "output_type": "execute_result",
          "data": {
            "text/plain": [
              "   2         2   \n",
              "sin (3) + cos (3)"
            ],
            "text/latex": "$\\displaystyle \\sin^{2}{\\left(3 \\right)} + \\cos^{2}{\\left(3 \\right)}$"
          },
          "metadata": {},
          "execution_count": 29
        }
      ]
    },
    {
      "cell_type": "markdown",
      "source": [
        "Esta instrucción reemplaza $x$ por $3$ en la expresión `expr`. Sin embargo, el resultado podría no ser decimal a menos que incluyamos el método `.evalf()`.\n"
      ],
      "metadata": {
        "id": "nNV7tTLoIGAN"
      }
    },
    {
      "cell_type": "markdown",
      "source": [
        "## 5.4 Evaluación Numérica con `.evalf()`\n",
        "\n",
        "El método `.evalf()` permite obtener un resultado decimal de una expresión después de realizar sustituciones numéricas. Por ejemplo, si deseamos obtener un resultado decimal con precisión de 7 dígitos, podemos hacer lo siguiente:"
      ],
      "metadata": {
        "id": "C_qaA2FXqbhE"
      }
    },
    {
      "cell_type": "code",
      "source": [
        "expresion =  sy.exp(x)\n",
        "print('la expresión es: ')\n",
        "display(expresion)\n",
        "valor = expresion.subs(x,5).evalf(7)\n",
        "print(f'Si reemplazamos x por 5 y la avaluamos con 7 dígitos obtenemos: {valor}')\n"
      ],
      "metadata": {
        "id": "6kM6Nm-cIYDg",
        "colab": {
          "base_uri": "https://localhost:8080/",
          "height": 73
        },
        "outputId": "5cd96d28-2250-4e71-fa8c-a9fab68e71f2"
      },
      "execution_count": 30,
      "outputs": [
        {
          "output_type": "stream",
          "name": "stdout",
          "text": [
            "la expresión es: \n"
          ]
        },
        {
          "output_type": "display_data",
          "data": {
            "text/plain": [
              " x\n",
              "ℯ "
            ],
            "text/latex": "$\\displaystyle e^{x}$"
          },
          "metadata": {}
        },
        {
          "output_type": "stream",
          "name": "stdout",
          "text": [
            "Si reemplazamos x por 5 y la avaluamos con 7 dígitos obtenemos: 148.4132\n"
          ]
        }
      ]
    },
    {
      "cell_type": "markdown",
      "source": [
        "Si queremos resultados exactos en formato de fracción en vez de decimales, podemos utilizar `sy.Rational` para especificar valores en forma de fracción:"
      ],
      "metadata": {
        "id": "mDnJJ2-dquhw"
      }
    },
    {
      "cell_type": "code",
      "source": [
        "expr = x**2 / 4\n",
        "expr_frac = expr.subs(x, sy.Rational(3, 2))\n",
        "expr_frac\n"
      ],
      "metadata": {
        "colab": {
          "base_uri": "https://localhost:8080/",
          "height": 51
        },
        "id": "W2PmzTakqzmc",
        "outputId": "0dcce0b8-4933-4620-c012-8959a113bfc7"
      },
      "execution_count": 31,
      "outputs": [
        {
          "output_type": "execute_result",
          "data": {
            "text/plain": [
              "9/16"
            ],
            "text/latex": "$\\displaystyle \\frac{9}{16}$"
          },
          "metadata": {},
          "execution_count": 31
        }
      ]
    },
    {
      "cell_type": "markdown",
      "source": [
        "Esta última expresión mantendrá la precisión fraccionaria en lugar de convertir los valores a decimales, lo cual es especialmente útil en contextos donde se requieren respuestas exactas."
      ],
      "metadata": {
        "id": "jKLrdBmvq2x0"
      }
    },
    {
      "cell_type": "markdown",
      "metadata": {
        "id": "LrpTsobq_F9A"
      },
      "source": [
        "## 6. Resolución de Ecuaciones\n",
        "\n",
        "Una de las funciones más útiles de `SymPy` es `solve`, la cual permite resolver una amplia variedad de ecuaciones, desde ecuaciones polinomiales y sistemas lineales hasta inecuaciones y sistemas no lineales. La sintaxis de `solve` se adapta automáticamente a la ecuación o sistema dado, permitiendo resolver con una estructura muy simple.\n",
        "\n",
        "Para comenzar, recordemos que `SymPy` trata las ecuaciones como expresiones algebraicas. Esto significa que para resolver una ecuación, el término que queremos igualar a cero debe ser pasado como argumento en la función `solve`. Veamos algunos ejemplos básicos.\n",
        "\n",
        "### Ejemplo 1: Ecuación Lineal\n",
        "\n",
        "Para resolver una ecuación simple como \\( x - 3 = 0 \\), pasamos la expresión `x - 3` a `solve`, asumiendo que está igualada a cero. `solve` nos devolverá el valor de \\( x \\) que satisface la ecuación.\n",
        "\n"
      ]
    },
    {
      "cell_type": "code",
      "execution_count": 32,
      "metadata": {
        "id": "hm7g7MCl_F9A",
        "colab": {
          "base_uri": "https://localhost:8080/"
        },
        "outputId": "80b5114f-b977-4374-952e-b983ffd757c2"
      },
      "outputs": [
        {
          "output_type": "stream",
          "name": "stdout",
          "text": [
            "Solución de la ecuación lineal: [3]\n"
          ]
        }
      ],
      "source": [
        "x = sy.symbols(\"x\")\n",
        "\n",
        "# Resolver ecuación lineal\n",
        "solucion = sy.solve(x - 3)\n",
        "print(\"Solución de la ecuación lineal:\", solucion)"
      ]
    },
    {
      "cell_type": "markdown",
      "metadata": {
        "id": "QtkngPih_F9A"
      },
      "source": [
        "### Ejemplo 2: Ecuación Cuadrática\n",
        "\n",
        "Si la ecuación es cuadrática, `solve` buscará soluciones tanto reales como complejas. Para resolver \\( x^2 + 2x + 2 = 0 \\):\n",
        "\n"
      ]
    },
    {
      "cell_type": "code",
      "execution_count": 33,
      "metadata": {
        "id": "P3mbxwIZ_F9B",
        "colab": {
          "base_uri": "https://localhost:8080/"
        },
        "outputId": "604a311d-fef6-460b-fe37-999db87230cb"
      },
      "outputs": [
        {
          "output_type": "stream",
          "name": "stdout",
          "text": [
            "Soluciones de la ecuación cuadrática: [-1 - I, -1 + I]\n"
          ]
        }
      ],
      "source": [
        "# Resolver ecuación cuadrática\n",
        "solucion_cuadratica = sy.solve(x**2 + 2*x + 2)\n",
        "print(\"Soluciones de la ecuación cuadrática:\", solucion_cuadratica)\n"
      ]
    },
    {
      "cell_type": "markdown",
      "metadata": {
        "id": "dJD1V5hs_F9B"
      },
      "source": [
        "Aquí, el resultado incluye soluciones complejas, ya que esta ecuación no tiene raíces reales.\n"
      ]
    },
    {
      "cell_type": "markdown",
      "source": [
        "### Ejemplo 3: Resolver para una Variable Específica\n",
        "\n",
        "Cuando trabajamos con ecuaciones que incluyen múltiples variables, debemos indicar la variable sobre la cual queremos resolver. Esto es útil para ecuaciones cuadráticas en su forma general, por ejemplo:\n",
        "\n",
        "$$\n",
        "a x^2 + b x + c = 0\n",
        "$$\n"
      ],
      "metadata": {
        "id": "q4pV9bVJyHbv"
      }
    },
    {
      "cell_type": "code",
      "execution_count": 35,
      "metadata": {
        "id": "X5X1AzLg_F9B",
        "colab": {
          "base_uri": "https://localhost:8080/",
          "height": 85
        },
        "outputId": "12519a75-8a25-45ab-faa6-cabefa033556"
      },
      "outputs": [
        {
          "output_type": "stream",
          "name": "stdout",
          "text": [
            "Solución general de la ecuación cuadrática:\n"
          ]
        },
        {
          "output_type": "execute_result",
          "data": {
            "text/plain": [
              "⎡        _____________          _____________⎤\n",
              "⎢       ╱           2          ╱           2 ⎥\n",
              "⎢-b - ╲╱  -4⋅a⋅c + b    -b + ╲╱  -4⋅a⋅c + b  ⎥\n",
              "⎢─────────────────────, ─────────────────────⎥\n",
              "⎣         2⋅a                    2⋅a         ⎦"
            ],
            "text/latex": "$\\displaystyle \\left[ \\frac{- b - \\sqrt{- 4 a c + b^{2}}}{2 a}, \\  \\frac{- b + \\sqrt{- 4 a c + b^{2}}}{2 a}\\right]$"
          },
          "metadata": {},
          "execution_count": 35
        }
      ],
      "source": [
        "a, b, c = sy.symbols(\"a b c\")\n",
        "expresion = a*x**2 + b*x + c\n",
        "\n",
        "# Resolver ecuación general cuadrática para x\n",
        "solucion_general = sy.solve(expresion, x)\n",
        "print(\"Solución general de la ecuación cuadrática:\")\n",
        "\n",
        "solucion_general\n"
      ]
    },
    {
      "cell_type": "markdown",
      "metadata": {
        "id": "z0HIacbd_F9B"
      },
      "source": [
        "### Ejemplo 4: Sistema de Ecuaciones\n",
        "\n",
        "`SymPy` también permite resolver sistemas de ecuaciones simultáneas. Para resolver el siguiente sistema:\n",
        "\n",
        "$$\n",
        "\\begin{cases}\n",
        "x + y = 5 \\\\\n",
        "x - y = 1 \\\\\n",
        "\\end{cases}\n",
        "$$\n",
        "\n",
        "Primero definimos las ecuaciones y luego las pasamos a `solve` en forma de lista.\n"
      ]
    },
    {
      "cell_type": "code",
      "execution_count": 36,
      "metadata": {
        "id": "4q-bABWO_F9C",
        "colab": {
          "base_uri": "https://localhost:8080/"
        },
        "outputId": "3fea5dc4-5fa1-413c-bce2-c9559bbfd03b"
      },
      "outputs": [
        {
          "output_type": "stream",
          "name": "stdout",
          "text": [
            "Solución del sistema de ecuaciones: {x: 3, y: 2}\n"
          ]
        }
      ],
      "source": [
        "y = sy.symbols(\"y\")\n",
        "# Definir el sistema de ecuaciones\n",
        "ecuacion1 = x + y - 5\n",
        "ecuacion2 = x - y - 1\n",
        "\n",
        "# Resolver el sistema\n",
        "solucion_sistema = sy.solve((ecuacion1, ecuacion2), (x, y))\n",
        "print(\"Solución del sistema de ecuaciones:\", solucion_sistema)\n"
      ]
    },
    {
      "cell_type": "markdown",
      "source": [
        "En este caso, `solve` devolverá un diccionario con los valores de `x` e `y` que satisfacen ambas ecuaciones.\n"
      ],
      "metadata": {
        "id": "P_LVzMtmyoBE"
      }
    },
    {
      "cell_type": "code",
      "source": [
        "# Resolver ecuación no lineal\n",
        "solucion_no_lineal = sy.solve(x**3 - x + 1)\n",
        "print(\"Soluciones de la ecuación no lineal:\")\n",
        "solucion_no_lineal"
      ],
      "metadata": {
        "colab": {
          "base_uri": "https://localhost:8080/",
          "height": 106
        },
        "id": "fgeiSgM6yxGq",
        "outputId": "18fff01a-3e11-4f1c-fc6f-d53162d5aeb2"
      },
      "execution_count": 38,
      "outputs": [
        {
          "output_type": "stream",
          "name": "stdout",
          "text": [
            "Soluciones de la ecuación no lineal:\n"
          ]
        },
        {
          "output_type": "execute_result",
          "data": {
            "text/plain": [
              "⎡                                                   ____________                     ____________  ↪\n",
              "⎢                                  ⎛  1   √3⋅ⅈ⎞    ╱ 3⋅√69   27     ⎛  1   √3⋅ⅈ⎞    ╱ 3⋅√69   27   ↪\n",
              "⎢                                  ⎜- ─ - ────⎟⋅3 ╱  ───── + ──     ⎜- ─ + ────⎟⋅3 ╱  ───── + ──   ↪\n",
              "⎢                1                 ⎝  2    2  ⎠ ╲╱     2     2      ⎝  2    2  ⎠ ╲╱     2     2    ↪\n",
              "⎢- ───────────────────────────── - ─────────────────────────────, - ─────────────────────────────  ↪\n",
              "⎢                   ____________                 3                                3                ↪\n",
              "⎢  ⎛  1   √3⋅ⅈ⎞    ╱ 3⋅√69   27                                                                    ↪\n",
              "⎢  ⎜- ─ - ────⎟⋅3 ╱  ───── + ──                                                                    ↪\n",
              "⎣  ⎝  2    2  ⎠ ╲╱     2     2                                                                     ↪\n",
              "\n",
              "↪                                        ____________                   ⎤\n",
              "↪                                       ╱ 3⋅√69   27                    ⎥\n",
              "↪                                    3 ╱  ───── + ──                    ⎥\n",
              "↪                 1                  ╲╱     2     2            1        ⎥\n",
              "↪ - ─────────────────────────────, - ──────────────── - ────────────────⎥\n",
              "↪                    ____________           3               ____________⎥\n",
              "↪   ⎛  1   √3⋅ⅈ⎞    ╱ 3⋅√69   27                           ╱ 3⋅√69   27 ⎥\n",
              "↪   ⎜- ─ + ────⎟⋅3 ╱  ───── + ──                        3 ╱  ───── + ── ⎥\n",
              "↪   ⎝  2    2  ⎠ ╲╱     2     2                         ╲╱     2     2  ⎦"
            ],
            "text/latex": "$\\displaystyle \\left[ - \\frac{1}{\\left(- \\frac{1}{2} - \\frac{\\sqrt{3} i}{2}\\right) \\sqrt[3]{\\frac{3 \\sqrt{69}}{2} + \\frac{27}{2}}} - \\frac{\\left(- \\frac{1}{2} - \\frac{\\sqrt{3} i}{2}\\right) \\sqrt[3]{\\frac{3 \\sqrt{69}}{2} + \\frac{27}{2}}}{3}, \\  - \\frac{\\left(- \\frac{1}{2} + \\frac{\\sqrt{3} i}{2}\\right) \\sqrt[3]{\\frac{3 \\sqrt{69}}{2} + \\frac{27}{2}}}{3} - \\frac{1}{\\left(- \\frac{1}{2} + \\frac{\\sqrt{3} i}{2}\\right) \\sqrt[3]{\\frac{3 \\sqrt{69}}{2} + \\frac{27}{2}}}, \\  - \\frac{\\sqrt[3]{\\frac{3 \\sqrt{69}}{2} + \\frac{27}{2}}}{3} - \\frac{1}{\\sqrt[3]{\\frac{3 \\sqrt{69}}{2} + \\frac{27}{2}}}\\right]$"
          },
          "metadata": {},
          "execution_count": 38
        }
      ]
    },
    {
      "cell_type": "markdown",
      "metadata": {
        "id": "fXJw29Fh_F9C"
      },
      "source": [
        "## 7. Derivadas e Integrales\n",
        "\n",
        "SymPy ofrece potentes herramientas para el cálculo simbólico de derivadas e integrales, lo que permite realizar estos cálculos sin necesidad de valores específicos para las variables. A continuación, exploraremos cómo calcular derivadas e integrales de expresiones algebraicas en SymPy, con ejemplos básicos y avanzados.\n"
      ]
    },
    {
      "cell_type": "markdown",
      "metadata": {
        "id": "W7nM52dM_F9E"
      },
      "source": [
        "#### 7.1 Derivadas\n",
        "\n",
        "Para calcular la derivada de una expresión en `SymPy`, usamos la función `diff`. Esta función espera al menos dos argumentos: una expresión algebraica y una variable respecto a la cual se derivará. Veamos algunos ejemplos:\n",
        "\n",
        "\n",
        "\n"
      ]
    },
    {
      "cell_type": "code",
      "execution_count": 42,
      "metadata": {
        "id": "taTlnfsn_F9F",
        "colab": {
          "base_uri": "https://localhost:8080/",
          "height": 94
        },
        "outputId": "3e1c5c7c-7330-45e0-9c0b-d6b5d6e5ae6b"
      },
      "outputs": [
        {
          "output_type": "stream",
          "name": "stdout",
          "text": [
            "La expresión es:\n"
          ]
        },
        {
          "output_type": "display_data",
          "data": {
            "text/plain": [
              " x       \n",
              "ℯ ⋅cos(x)"
            ],
            "text/latex": "$\\displaystyle e^{x} \\cos{\\left(x \\right)}$"
          },
          "metadata": {}
        },
        {
          "output_type": "stream",
          "name": "stdout",
          "text": [
            "La derivada de la expresión es:\n"
          ]
        },
        {
          "output_type": "display_data",
          "data": {
            "text/plain": [
              "   x           x       \n",
              "- ℯ ⋅sin(x) + ℯ ⋅cos(x)"
            ],
            "text/latex": "$\\displaystyle - e^{x} \\sin{\\left(x \\right)} + e^{x} \\cos{\\left(x \\right)}$"
          },
          "metadata": {}
        }
      ],
      "source": [
        "x = sy.symbols(\"x\")\n",
        "exp=sy.exp(x) * sy.cos(x)\n",
        "print(\"La expresión es:\")\n",
        "display(exp)\n",
        "# Derivada de una función exponencial multiplicada por una función trigonométrica\n",
        "print(\"La derivada de la expresión es:\")\n",
        "exp_deriv=sy.diff(exp, x)\n",
        "display(exp_deriv)"
      ]
    },
    {
      "cell_type": "markdown",
      "metadata": {
        "id": "cEMRRBOo_F9F"
      },
      "source": [
        "Para calcular derivadas de orden superior, podemos pasar un tercer argumento a `diff` indicando el orden de la derivada:\n"
      ]
    },
    {
      "cell_type": "code",
      "execution_count": 43,
      "metadata": {
        "id": "QqxRsoxB_F9L",
        "colab": {
          "base_uri": "https://localhost:8080/",
          "height": 37
        },
        "outputId": "1cd4442e-46dc-4381-969a-f69a6b958080"
      },
      "outputs": [
        {
          "output_type": "execute_result",
          "data": {
            "text/plain": [
              "10"
            ],
            "text/latex": "$\\displaystyle 10$"
          },
          "metadata": {},
          "execution_count": 43
        }
      ],
      "source": [
        "# Derivada segunda de la función 5x^2 + 3x - 10 con respecto a x\n",
        "sy.diff(5 * x**2 + 3 * x - 10, x, 2)\n"
      ]
    },
    {
      "cell_type": "markdown",
      "source": [
        "Aquí calculamos la derivada segunda de $f(x) = 5x^2 + 3x - 10 $, que se indica con el último argumento `2`.\n",
        "\n",
        "\n"
      ],
      "metadata": {
        "id": "SgHDylO2BzgV"
      }
    },
    {
      "cell_type": "markdown",
      "source": [
        "Además, `SymPy` permite calcular derivadas parciales de funciones de varias variables simplemente especificando la variable respecto a la cual queremos derivar. Ejemplo:\n"
      ],
      "metadata": {
        "id": "F4KYGY5q1B_Y"
      }
    },
    {
      "cell_type": "code",
      "source": [
        "y, z = sy.symbols(\"y z\")\n",
        "f = sy.exp(x*y) + sy.sin(z)\n",
        "# Derivada parcial con respecto a y\n",
        "sy.diff(f, y)\n"
      ],
      "metadata": {
        "colab": {
          "base_uri": "https://localhost:8080/",
          "height": 38
        },
        "id": "HAH9ZpRB1DMY",
        "outputId": "296bb9a6-9d1c-449b-bc70-cb65476c87e5"
      },
      "execution_count": 44,
      "outputs": [
        {
          "output_type": "execute_result",
          "data": {
            "text/plain": [
              "   x⋅y\n",
              "x⋅ℯ   "
            ],
            "text/latex": "$\\displaystyle x e^{x y}$"
          },
          "metadata": {},
          "execution_count": 44
        }
      ]
    },
    {
      "cell_type": "markdown",
      "source": [
        "Este código calcula la derivada parcial de $e^{xy} + \\sin(z) $ con respecto a \\( y \\).\n"
      ],
      "metadata": {
        "id": "T8fuo5Gk1Ijf"
      }
    },
    {
      "cell_type": "markdown",
      "metadata": {
        "id": "DgZmDo5e_F9L"
      },
      "source": [
        "### 7.2 Integrales\n",
        "\n",
        "La función `integrate` de `SymPy` permite calcular integrales simbólicas. Para integrales indefinidas, simplemente pasamos la función a integrar y la variable de integración:\n",
        "\n"
      ]
    },
    {
      "cell_type": "code",
      "execution_count": 47,
      "metadata": {
        "id": "1-8qBDba_F9M",
        "colab": {
          "base_uri": "https://localhost:8080/",
          "height": 54
        },
        "outputId": "bfd45a8c-7344-4cff-e1fb-97a1bf2278a3"
      },
      "outputs": [
        {
          "output_type": "execute_result",
          "data": {
            "text/plain": [
              " 3      2      \n",
              "x    3⋅x       \n",
              "── + ──── - 7⋅x\n",
              "3     2        "
            ],
            "text/latex": "$\\displaystyle \\frac{x^{3}}{3} + \\frac{3 x^{2}}{2} - 7 x$"
          },
          "metadata": {},
          "execution_count": 47
        }
      ],
      "source": [
        "# Integral indefinida de x^2 + 3x - 7 con respecto a x\n",
        "sy.integrate(x**2 + 3 * x - 7, x)\n"
      ]
    },
    {
      "cell_type": "markdown",
      "metadata": {
        "id": "G3vcWcvu_F9M"
      },
      "source": [
        "Esa instrucción calcula la siguiente integral:\n",
        "\n",
        "$$ \\int \\left( x^2 + 3x - 7 \\, \\right) \\,\\, dx = \\frac{x^3}{3} + \\frac{3x^2}{2} - 7x + C $$\n",
        "\n",
        "La salida será la primitiva de \\( x^2 + 3x - 7 \\) respecto a \\( x \\), sin la constante de integración.\n",
        "\n",
        "\n",
        "Si deseamos calcular una integral definida, podemos pasar una tupla como segundo argumento de la forma `(variable, a, b)`, donde `a` y `b` son los límites de integración:\n",
        "\n",
        "\n",
        "Por ejemplo, para evaluar:\n",
        "\n",
        "$$ \\int_0^{\\pi} \\sin x \\, dx $$\n"
      ]
    },
    {
      "cell_type": "code",
      "execution_count": 48,
      "metadata": {
        "id": "x9wueEo7_F9M",
        "colab": {
          "base_uri": "https://localhost:8080/",
          "height": 51
        },
        "outputId": "8a541d0b-b3c8-474d-c44e-981f8bda1bc0"
      },
      "outputs": [
        {
          "output_type": "execute_result",
          "data": {
            "text/plain": [
              "250/3"
            ],
            "text/latex": "$\\displaystyle \\frac{250}{3}$"
          },
          "metadata": {},
          "execution_count": 48
        }
      ],
      "source": [
        "# Integral definida de z^2 desde -5 hasta 5\n",
        "z = sy.symbols(\"z\")\n",
        "sy.integrate(z**2, (z, -5, 5))\n"
      ]
    },
    {
      "cell_type": "markdown",
      "source": [
        "SymPy también permite integrar funciones más complejas, como polinomios o funciones exponenciales, en cualquier intervalo que definamos.\n"
      ],
      "metadata": {
        "id": "6ET2B0vd2zgi"
      }
    },
    {
      "cell_type": "markdown",
      "source": [
        "## 8. Funciones útiles\n"
      ],
      "metadata": {
        "id": "48IeTXsomVZe"
      }
    },
    {
      "cell_type": "markdown",
      "source": [
        "### 8.1 `sy.plot()`\n",
        "\n",
        "Podemos usar la función sy.plot() para graficar funciones simbólicas. Su uso es el siguiente, la función `sym.plot(f, (x,a, b))` grafica la expresión `f`, tomando la variable `x` desde el valor `a` hasta el valor `b`."
      ],
      "metadata": {
        "id": "RZ99MyDIcWzC"
      }
    },
    {
      "cell_type": "code",
      "source": [
        "x = sy.symbols('x')\n",
        "f = x**2 - 2*x + 1\n",
        "\n",
        "sy.plot(f, (x,-200, 200))"
      ],
      "metadata": {
        "id": "U-i-ozHJcsJw",
        "colab": {
          "base_uri": "https://localhost:8080/",
          "height": 501
        },
        "outputId": "9ed56ef9-8ed0-4448-9769-68b8a7ae23fd"
      },
      "execution_count": 49,
      "outputs": [
        {
          "output_type": "display_data",
          "data": {
            "text/plain": [
              "<Figure size 640x480 with 1 Axes>"
            ],
            "image/png": "[encoded data removed]"
          },
          "metadata": {}
        },
        {
          "output_type": "execute_result",
          "data": {
            "text/plain": [
              "<sympy.plotting.backends.matplotlibbackend.matplotlib.MatplotlibBackend at 0x7ba53cd4d720>"
            ]
          },
          "metadata": {},
          "execution_count": 49
        }
      ]
    },
    {
      "cell_type": "markdown",
      "source": [
        "### 8.1 `sy.Piecewise`\n",
        "\n",
        "Otra función útil es `sy.Piecewise()`. Esta nos permite definir funciones por tramos.\n",
        "\n",
        "Toma como argumento una secuencia de tuplas, donde cada tupla tiene dos elementos: una expresión  de función y una condición que indica el intervalo de la variable independiente donde aplica esa función.\n",
        "\n",
        " `sy.Piecewise((expresión_1, condición_1), (expresión_2, condición_2)...(expresión_n, condición_n))`\n",
        "\n",
        " Esto nos permite conformar funciones como la siguiente\n",
        "\n",
        "$$\n",
        "f(x) =  \\begin{cases}\n",
        "      x^2 & \\text{si } x < 0 \\\\\n",
        "      0.1  x^3 & \\text{si } x \\geq 0\n",
        "   \\end{cases}\n",
        "$$\n",
        "\n",
        " En el siguiente ejemplo, la función f vale $x^2$ cuando $x$ es menor que cero y $(0.1 x^3)$ cuando $x$ es mayor o igual a cero."
      ],
      "metadata": {
        "id": "Q1Wfch4dmppv"
      }
    },
    {
      "cell_type": "code",
      "source": [
        "# Definir la función piecewise\n",
        "f = sy.Piecewise((x**2, x < 0), (0.1*x**3, x >= 0))\n",
        "\n",
        "# Podemos usar la función sym.plot() para graficar funciones simbólicas\n",
        "sy.plot(f, (x,-200, 200))"
      ],
      "metadata": {
        "id": "Pe0fB4mvcDbk",
        "colab": {
          "base_uri": "https://localhost:8080/",
          "height": 501
        },
        "outputId": "e32595b0-238c-46fe-9f43-c784a931c6a0"
      },
      "execution_count": 50,
      "outputs": [
        {
          "output_type": "display_data",
          "data": {
            "text/plain": [
              "<Figure size 640x480 with 1 Axes>"
            ],
            "image/png": "[encoded data removed]"
          },
          "metadata": {}
        },
        {
          "output_type": "execute_result",
          "data": {
            "text/plain": [
              "<sympy.plotting.backends.matplotlibbackend.matplotlib.MatplotlibBackend at 0x7ba53cdd5900>"
            ]
          },
          "metadata": {},
          "execution_count": 50
        }
      ]
    },
    {
      "cell_type": "markdown",
      "source": [
        "----\n",
        "Con esto llegamos al final de este tutorial! Recuerda que los temas que desarrollamos en los tutoriales de la cátedra son tratados de manera básica y contienen solo lo necesario para poder presentar de forma didáctica los contenidos de la asignatura. Entender Python en profundidad requiere un curso completo dedicado a ello.\n",
        "\n",
        "En [este link](https://github.com/vinta/awesome-python)  encontrarás una extensa cantidad de librerías de python para trabajar prácticamente sobre cualquier temática que necesites.\n",
        "\n",
        "En [este link](https://docs.python.org/es/3.9/) encontrarás la documentación completa de Python\n",
        "\n",
        "En [este link](https://docs.sympy.org/latest/index.html) encontrarás la documentación completa de SymPy.\n",
        "\n",
        "\n",
        "Cualquier comentario no dudes en consultar con los profesores de la cátedra.\n"
      ],
      "metadata": {
        "id": "0KY1LoJHCymY"
      }
    }
  ],
  "metadata": {
    "kernelspec": {
      "display_name": "Python 3",
      "language": "python",
      "name": "python3"
    },
    "language_info": {
      "codemirror_mode": {
        "name": "ipython",
        "version": 3
      },
      "file_extension": ".py",
      "mimetype": "text/x-python",
      "name": "python",
      "nbconvert_exporter": "python",
      "pygments_lexer": "ipython3",
      "version": "3.6.5"
    },
    "toc": {
      "base_numbering": 1,
      "nav_menu": {},
      "number_sections": true,
      "sideBar": true,
      "skip_h1_title": false,
      "title_cell": "Contenido",
      "title_sidebar": "Contents",
      "toc_cell": true,
      "toc_position": {},
      "toc_section_display": true,
      "toc_window_display": false
    },
    "colab": {
      "provenance": []
    }
  },
  "nbformat": 4,
  "nbformat_minor": 0
}