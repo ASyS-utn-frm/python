{
  "cells": [
    {
      "cell_type": "markdown",
      "metadata": {
        "id": "eCfZsZ4vcpKJ"
      },
      "source": [
        "<center>\n",
        "\n",
        "\n",
        "<div style=\"display: flex; justify-content: center;\">\n",
        "    <img src=\"data:image/jpeg;base64,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\" alt=\"Logo UTN\"/>\n",
        "</div>\n",
        "</center>\n",
        "<center>\n",
        "    <div style=\"font-family: 'Georgia', serif; font-size: 24px;\">\n",
        "        <p><strong>Ingeniería en Electrónica. Análisis de Señales y Sistemas</strong></p>\n",
        "        <!--<p><em>Profesor Mg. Ing. Javier Velez</em></p>-->\n",
        "    </div>\n",
        "</center>"
      ]
    },
    {
      "cell_type": "markdown",
      "metadata": {
        "id": "Cpn8DYqUmau6"
      },
      "source": [
        "#1. Introducción a Librerías en Python\n",
        "\n",
        "Las librerías en Python son colecciones de módulos que contienen funciones y métodos que pueden ser utilizados en nuestros programas para realizar tareas específicas. Estas librerías nos permiten reutilizar código y simplificar el desarrollo, ya que no necesitamos escribir todo desde cero.\n",
        "\n",
        "Como vimos previamente con `cmath` (librería para trabajar con números complejos) para utilizar una librería en Python, primero necesitamos importarla utilizando la palabra clave `import`. Una vez importada, podemos acceder a todas sus funciones y métodos.\n",
        "\n",
        "**Ejemplo de Importación**\n"
      ]
    },
    {
      "cell_type": "code",
      "execution_count": null,
      "metadata": {
        "id": "Fkb0TbcOmkdE"
      },
      "outputs": [],
      "source": [
        "import numpy as np  # Importamos la librería NumPy con el alias np\n"
      ]
    },
    {
      "cell_type": "markdown",
      "metadata": {
        "id": "I0D53kgXmq7F"
      },
      "source": [
        "En este ejemplo, estamos importando la librería NumPy y asignándole el alias `np` para facilitar su uso."
      ]
    },
    {
      "cell_type": "markdown",
      "metadata": {
        "id": "EBU-fzY2mrWo"
      },
      "source": [
        "# 2. Introducción a NumPy"
      ]
    },
    {
      "cell_type": "markdown",
      "metadata": {
        "id": "VYuHPiBEmrWp"
      },
      "source": [
        "NumPy es una librería fundamental para la computación científica en Python. Proporciona soporte para arreglos (arrays) lo que comprende vectores y matrices multidimensionales, junto con una colección de funciones matemáticas para operar con estos arreglos."
      ]
    },
    {
      "cell_type": "markdown",
      "metadata": {
        "id": "lDnJJ8SlmrWp"
      },
      "source": [
        "## 2.1 Introducción a arreglos (Arrays)\n",
        "\n",
        "Un array (o arreglo) es una estructura de datos que contiene una colección de elementos, todos del mismo tipo, almacenados en posiciones contiguas de memoria. Los arrays permiten almacenar múltiples valores en una sola variable, lo que facilita la organización y manipulación de grandes conjuntos de datos.\n",
        "\n",
        "**Características de los Arrays**\n",
        "\n",
        "- Homogeneidad: Todos los elementos de un array son del mismo tipo. Por ejemplo, todos los elementos pueden ser enteros, flotantes, cadenas de texto, etc; pero no una mezcla de ellos\n",
        "\n",
        "- Acceso Directo: Los elementos de un array pueden ser accedidos directamente utilizando un índice, lo que permite operaciones rápidas de lectura y escritura.\n",
        "\n",
        "- Dimensionalidad: Los arrays pueden ser unidimensionales (vectores), bidimensionales (matrices) o multidimensionales, lo que permite representar datos complejos como tablas, imágenes, y más.\n",
        "\n",
        "- Eficiencia: Los arrays son eficientes en términos de uso de memoria y velocidad de acceso, lo que los hace ideales para operaciones numéricas y científicas.\n",
        "\n",
        "Un array unidimensional es una lista de elementos. En Python, podemos crear un array utilizando la librería NumPy:"
      ]
    },
    {
      "cell_type": "code",
      "execution_count": null,
      "metadata": {
        "colab": {
          "base_uri": "https://localhost:8080/"
        },
        "id": "Zd2NKkkApnfY",
        "outputId": "de212fe1-21c1-4f56-a8e4-9a6f70687fd4"
      },
      "outputs": [
        {
          "name": "stdout",
          "output_type": "stream",
          "text": [
            "Array unidimensional: [1 2 3 4 5]\n"
          ]
        }
      ],
      "source": [
        "import numpy as np\n",
        "\n",
        "# Creando un array unidimensional (vector)\n",
        "arr = np.array([1, 2, 3, 4, 5])\n",
        "print(\"Array unidimensional:\", arr)"
      ]
    },
    {
      "cell_type": "markdown",
      "metadata": {
        "id": "AQnAqj4Vpq1l"
      },
      "source": [
        "Un array bidimensional es similar a una tabla de elementos, con filas y columnas. En NumPy, podemos crear un array bidimensional de la siguiente manera:"
      ]
    },
    {
      "cell_type": "code",
      "execution_count": null,
      "metadata": {
        "colab": {
          "base_uri": "https://localhost:8080/"
        },
        "id": "cXnPXyNSpsJh",
        "outputId": "93ea4a9e-96ed-4173-bcf7-721b82e84f41"
      },
      "outputs": [
        {
          "name": "stdout",
          "output_type": "stream",
          "text": [
            "Array bidimensional:\n",
            " [[1 2 3]\n",
            " [4 5 6]]\n"
          ]
        }
      ],
      "source": [
        "import numpy as np\n",
        "\n",
        "# Creando un array bidimensional (matriz)\n",
        "arr_2d = np.array([[1, 2, 3], [4, 5, 6]])\n",
        "print(\"Array bidimensional:\\n\", arr_2d)"
      ]
    },
    {
      "cell_type": "markdown",
      "metadata": {
        "id": "HDLrjm_xpx-q"
      },
      "source": [
        "**Aplicaciones de los Arrays**\n",
        "\n",
        "- Cálculos Matemáticos: Los arrays son fundamentales para realizar operaciones matemáticas y científicas, como álgebra lineal, cálculo vectorial y transformadas.\n",
        "\n",
        "- Procesamiento de Imágenes: Las imágenes digitales pueden ser representadas como arrays bidimensionales (para imágenes en escala de grises) o tridimensionales (para imágenes en color).\n",
        "\n",
        "- Análisis de Datos: Los arrays permiten almacenar y manipular grandes conjuntos de datos de manera eficiente, siendo una base para herramientas de análisis y visualización de datos.\n",
        "\n",
        "- Simulaciones: En simulaciones numéricas y modelos científicos, los arrays se utilizan para representar y calcular estados y variaciones en sistemas complejos.\n",
        "\n",
        "- Inteligencia Artificial: Los arrays son una pieza elemental de funcionamiento de las redes neuronales y particularmente del aprendizaje profundo (Deep Learning) ya que para estos campos es fundamental trabajar con arreglos de múltiples dimensiones, comunmente llamados tensores.\n",
        "\n",
        "- La forma de manipular la información en NumPy es muy similar a cómo se manipula la información en Matlab, el cual es un software muy utilizado en análisis científico y diseño de sistemas de control electromecánicos.\n",
        "\n",
        "\n",
        "**Propiedad shape**\n",
        "\n",
        "La propiedad `shape` de un arreglo NumPy nos dice las dimensiones del arreglo. Es una tupla de enteros que indican el tamaño del arreglo en cada dimensión. Esto es muy útil para entender la estructura del arreglo y para realizar operaciones que requieren conocimiento de su forma.\n",
        "\n"
      ]
    },
    {
      "cell_type": "code",
      "execution_count": null,
      "metadata": {
        "colab": {
          "base_uri": "https://localhost:8080/"
        },
        "id": "InadjiVm5kny",
        "outputId": "cc744331-36ef-4101-eee4-1330104281cf"
      },
      "outputs": [
        {
          "name": "stdout",
          "output_type": "stream",
          "text": [
            "Forma del arreglo: (2, 3)\n"
          ]
        }
      ],
      "source": [
        "# Ejemplo de uso de shape\n",
        "arr_2d = np.array([[1, 2, 3], [4, 5, 6]])\n",
        "print(\"Forma del arreglo:\", arr_2d.shape)  # Muestra (2, 3)\n"
      ]
    },
    {
      "cell_type": "markdown",
      "metadata": {
        "id": "TXQy3SW85mdd"
      },
      "source": [
        "En este ejemplo, shape devuelve (2, 3), indicando que el arreglo tiene 2 filas y 3 columnas.\n",
        "\n",
        "\n",
        "\n",
        "## 2.2. Arreglos rellenos de Ceros y Unos\n",
        "\n",
        "NumPy proporciona funciones para crear arreglos llenos de ceros o unos."
      ]
    },
    {
      "cell_type": "code",
      "execution_count": null,
      "metadata": {
        "colab": {
          "base_uri": "https://localhost:8080/"
        },
        "id": "1V7M6z__mrWu",
        "outputId": "cc384a39-b6f1-4022-b83e-4abf7da0418b"
      },
      "outputs": [
        {
          "name": "stdout",
          "output_type": "stream",
          "text": [
            "Arreglo de ceros:\n",
            " [[0. 0. 0.]\n",
            " [0. 0. 0.]\n",
            " [0. 0. 0.]]\n",
            "Arreglo de unos:\n",
            " [[1. 1. 1. 1.]\n",
            " [1. 1. 1. 1.]]\n"
          ]
        }
      ],
      "source": [
        "# matriz de 3x3 llena de ceros\n",
        "arr_zeros = np.zeros((3, 3))\n",
        "print(\"Arreglo de ceros:\\n\", arr_zeros)\n",
        "\n",
        "# matriz de 2x4 llena de unos\n",
        "arr_ones = np.ones((2, 4))\n",
        "print(\"Arreglo de unos:\\n\", arr_ones)"
      ]
    },
    {
      "cell_type": "markdown",
      "metadata": {
        "id": "18Pg1FakvTW5"
      },
      "source": [
        "## 2.3. Arreglos con Rangos\n",
        "\n",
        "NumPy ofrece funciones muy útiles para crear arreglos con secuencias de números. Las dos funciones principales que utilizamos para esto son `np.arange` y `np.linspace`.\n",
        "\n",
        "### 2.3.1. `np.arange`\n",
        "\n",
        "La función np.arange es similar a la función range de Python y se utiliza para crear arreglos con secuencias de números equidistantes. La sintaxis es:\n",
        "\n",
        "~~~python\n",
        "np.arange(inicio, fin, paso)\n",
        "~~~\n",
        "\n",
        "- `inicio` (opcional): El valor inicial de la secuencia (incluido). Si se omite, por defecto es 0.\n",
        "\n",
        "- `fin`: El valor final de la secuencia (excluido).\n",
        "\n",
        "- `paso` (opcional): El tamaño del paso entre valores sucesivos en la secuencia. Si se omite, por defecto es 1.\n",
        "\n",
        "**Ejemplo Básico de np.arange**"
      ]
    },
    {
      "cell_type": "code",
      "execution_count": null,
      "metadata": {
        "colab": {
          "base_uri": "https://localhost:8080/"
        },
        "id": "2N1znuODvx87",
        "outputId": "b184110c-a487-4eb9-de5e-34f9f8f66a34"
      },
      "outputs": [
        {
          "name": "stdout",
          "output_type": "stream",
          "text": [
            "Arreglo de 0 a 9: [0 1 2 3 4 5 6 7 8 9]\n"
          ]
        }
      ],
      "source": [
        "import numpy as np\n",
        "\n",
        "# Crear un arreglo de 0 a 9\n",
        "arr_arange = np.arange(10)\n",
        "print(\"Arreglo de 0 a 9:\", arr_arange)\n"
      ]
    },
    {
      "cell_type": "markdown",
      "metadata": {
        "id": "ob7GHuSwxNQZ"
      },
      "source": [
        "**Ejemplo con Paso Específico**"
      ]
    },
    {
      "cell_type": "code",
      "execution_count": null,
      "metadata": {
        "colab": {
          "base_uri": "https://localhost:8080/"
        },
        "id": "nQmEwfYOxOjO",
        "outputId": "e722b65d-a61f-40a6-81f2-1d6362c7d664"
      },
      "outputs": [
        {
          "name": "stdout",
          "output_type": "stream",
          "text": [
            "Arreglo de 0 a 9 con paso de 2: [0 2 4 6 8]\n"
          ]
        }
      ],
      "source": [
        "# Crear un arreglo de 0 a 9 con un paso de 2\n",
        "arr_arange_paso = np.arange(0, 10, 2)\n",
        "print(\"Arreglo de 0 a 9 con paso de 2:\", arr_arange_paso)"
      ]
    },
    {
      "cell_type": "markdown",
      "metadata": {
        "id": "QI_MYRRtxS1P"
      },
      "source": [
        "**Ejemplo con Valores Flotantes**\n"
      ]
    },
    {
      "cell_type": "code",
      "execution_count": null,
      "metadata": {
        "colab": {
          "base_uri": "https://localhost:8080/"
        },
        "id": "YhyCvjApxUNI",
        "outputId": "53c6493c-e2ec-4e8e-875f-c29e2e609590"
      },
      "outputs": [
        {
          "name": "stdout",
          "output_type": "stream",
          "text": [
            "Arreglo de 0 a 1 con paso de 0.2: [0.  0.2 0.4 0.6 0.8]\n"
          ]
        }
      ],
      "source": [
        "# Crear un arreglo de 0 a 1 con un paso de 0.2\n",
        "arr_arange_float = np.arange(0, 1, 0.2)\n",
        "print(\"Arreglo de 0 a 1 con paso de 0.2:\", arr_arange_float)"
      ]
    },
    {
      "cell_type": "markdown",
      "metadata": {
        "id": "FasVfBnUxjyt"
      },
      "source": [
        "## 2.3.2. `np.linspace`\n",
        "\n",
        "La función `np.linspace` se utiliza para crear un arreglo con un número específico de valores equidistantes entre un intervalo. La sintaxis es:\n",
        "\n",
        "~~~\n",
        "np.linspace(inicio, fin, num)\n",
        "~~~\n",
        "\n",
        "- `inicio`: El valor inicial de la secuencia (incluido).\n",
        "- `fin`: El valor final de la secuencia (incluido).\n",
        "- `num`: El número de valores a generar en la secuencia.\n",
        "\n",
        "**Ejemplo Básico de ´np.linspace´**"
      ]
    },
    {
      "cell_type": "code",
      "execution_count": null,
      "metadata": {
        "colab": {
          "base_uri": "https://localhost:8080/"
        },
        "id": "v9PKG1ZIx6PO",
        "outputId": "c810fa23-4609-4500-c788-6b5d5721714d"
      },
      "outputs": [
        {
          "name": "stdout",
          "output_type": "stream",
          "text": [
            "Arreglo con 5 valores entre 0 y 1: [0.   0.25 0.5  0.75 1.  ]\n"
          ]
        }
      ],
      "source": [
        "# Crear un arreglo de 5 valores equidistantes entre 0 y 1\n",
        "arr_linspace = np.linspace(0, 1, 5)\n",
        "print(\"Arreglo con 5 valores entre 0 y 1:\", arr_linspace)\n"
      ]
    },
    {
      "cell_type": "markdown",
      "metadata": {
        "id": "hVRuKrNRx-sQ"
      },
      "source": [
        "**Ejemplo con más valores**"
      ]
    },
    {
      "cell_type": "code",
      "execution_count": null,
      "metadata": {
        "colab": {
          "base_uri": "https://localhost:8080/"
        },
        "id": "r2SBiz9myCkA",
        "outputId": "98b82388-1faa-436a-92b8-e461dd9040a4"
      },
      "outputs": [
        {
          "name": "stdout",
          "output_type": "stream",
          "text": [
            "Arreglo con 10 valores entre 0 y 2: [0.         0.22222222 0.44444444 0.66666667 0.88888889 1.11111111\n",
            " 1.33333333 1.55555556 1.77777778 2.        ]\n"
          ]
        }
      ],
      "source": [
        "# Crear un arreglo de 10 valores equidistantes entre 0 y 2\n",
        "arr_linspace_mas = np.linspace(0, 2, 10)\n",
        "print(\"Arreglo con 10 valores entre 0 y 2:\", arr_linspace_mas)"
      ]
    },
    {
      "cell_type": "markdown",
      "metadata": {
        "id": "degU5rOQyTZb"
      },
      "source": [
        "Estas funciones son muy útiles en el análisis de señales y sistemas, ya que permiten crear fácilmente secuencias de valores para representar tiempos, frecuencias, y otras variables continuas.\n",
        "\n",
        "## 2.4. Operaciones Básicas con Arreglos\n",
        "\n",
        "NumPy permite realizar operaciones matemáticas y lógicas de manera eficiente sobre arreglos. Las operaciones básicas incluyen aritmética de elementos, funciones matemáticas, y operaciones de agregación. Estas operaciones se aplican elemento a elemento y son extremadamente rápidas debido a la optimización interna de NumPy.\n",
        "\n",
        "### 2.4.1 Operaciones Aritméticas\n",
        "\n",
        "Las operaciones aritméticas básicas (suma, resta, multiplicación, y división) pueden realizarse directamente sobre arreglos de NumPy.\n",
        "\n",
        "Ejemplo de Operaciones Aritméticas"
      ]
    },
    {
      "cell_type": "code",
      "execution_count": null,
      "metadata": {
        "colab": {
          "base_uri": "https://localhost:8080/"
        },
        "id": "JMVFMm1dzxqY",
        "outputId": "d84236f8-6ec9-4e4c-8e9d-4761c34427c9"
      },
      "outputs": [
        {
          "name": "stdout",
          "output_type": "stream",
          "text": [
            "Arreglo original: [1 2 3 4]\n",
            "Suma 2 a cada elemento: [3 4 5 6]\n",
            "Resta 1 a cada elemento: [0 1 2 3]\n",
            "Multiplica cada elemento por 3: [ 3  6  9 12]\n",
            "Divide cada elemento por 2: [0.5 1.  1.5 2. ]\n",
            "Cuadrado de cada elemento: [ 1  4  9 16]\n"
          ]
        }
      ],
      "source": [
        "import numpy as np\n",
        "\n",
        "# Crear un arreglo\n",
        "arr = np.array([1, 2, 3, 4])\n",
        "print(\"Arreglo original:\", arr)\n",
        "\n",
        "# Suma\n",
        "print(\"Suma 2 a cada elemento:\", arr + 2)\n",
        "\n",
        "# Resta\n",
        "print(\"Resta 1 a cada elemento:\", arr - 1)\n",
        "\n",
        "# Multiplicación\n",
        "print(\"Multiplica cada elemento por 3:\", arr * 3)\n",
        "\n",
        "# División\n",
        "print(\"Divide cada elemento por 2:\", arr / 2)\n",
        "\n",
        "# Potencia\n",
        "print(\"Cuadrado de cada elemento:\", arr ** 2)\n"
      ]
    },
    {
      "cell_type": "markdown",
      "metadata": {
        "id": "_UvLoct-0XLw"
      },
      "source": [
        "En este ejemplo, cada operación aritmética se aplica a cada elemento del arreglo individualmente. NumPy maneja automáticamente la difusión de valores escalares para aplicar la operación a todos los elementos del arreglo.\n",
        "\n",
        "### 2.4.2 Operaciones entre Arreglos\n",
        "\n",
        "Puedes realizar operaciones aritméticas entre dos arreglos de NumPy de la misma forma que con números escalares. Los arreglos deben tener la misma forma (shape).\n",
        "\n",
        "**Ejemplo de Operaciones entre Arreglos**"
      ]
    },
    {
      "cell_type": "code",
      "execution_count": null,
      "metadata": {
        "colab": {
          "base_uri": "https://localhost:8080/"
        },
        "id": "pSYK1tUL0pGC",
        "outputId": "bf487577-17e6-43b6-8bc0-c94f7831cdd4"
      },
      "outputs": [
        {
          "name": "stdout",
          "output_type": "stream",
          "text": [
            "Suma de dos arreglos: [11 22 33 44]\n",
            "Resta de dos arreglos: [ -9 -18 -27 -36]\n",
            "Multiplicación de dos arreglos: [ 10  40  90 160]\n",
            "División de dos arreglos: [0.1 0.1 0.1 0.1]\n"
          ]
        }
      ],
      "source": [
        "# Crear dos arreglos\n",
        "arr1 = np.array([1, 2, 3, 4])\n",
        "arr2 = np.array([10, 20, 30, 40])\n",
        "\n",
        "# Suma\n",
        "print(\"Suma de dos arreglos:\", arr1 + arr2)\n",
        "\n",
        "# Resta\n",
        "print(\"Resta de dos arreglos:\", arr1 - arr2)\n",
        "\n",
        "# Multiplicación\n",
        "print(\"Multiplicación de dos arreglos:\", arr1 * arr2)\n",
        "\n",
        "# División\n",
        "print(\"División de dos arreglos:\", arr1 / arr2)\n"
      ]
    },
    {
      "cell_type": "markdown",
      "metadata": {
        "id": "Va-FZ8tj0tRk"
      },
      "source": [
        "En este ejemplo, cada operación se realiza elemento a elemento entre los dos arreglos.\n",
        "\n",
        "### 2.4.3 Funciones Matemáticas\n",
        "\n",
        "NumPy proporciona una amplia variedad de funciones matemáticas para realizar operaciones avanzadas en arreglos. Algunas de estas funciones incluyen np.sin, np.cos, np.exp, np.sqrt, y np.log.\n",
        "\n",
        "**Ejemplo de Funciones Matemáticas**"
      ]
    },
    {
      "cell_type": "code",
      "execution_count": null,
      "metadata": {
        "colab": {
          "base_uri": "https://localhost:8080/"
        },
        "id": "eGY88W8306Zv",
        "outputId": "f6270fff-c7b5-43b6-c3c3-0e67337e449b"
      },
      "outputs": [
        {
          "name": "stdout",
          "output_type": "stream",
          "text": [
            "Seno de los elementos: [0.0000000e+00 1.0000000e+00 1.2246468e-16]\n",
            "Coseno de los elementos: [ 1.000000e+00  6.123234e-17 -1.000000e+00]\n",
            "Exponencial de los elementos: [ 1.          4.81047738 23.14069263]\n",
            "Raíz cuadrada de los elementos: [1. 2. 3. 4.]\n",
            "Logaritmo natural de los elementos: [0. 1. 2.]\n"
          ]
        }
      ],
      "source": [
        "# Crear un arreglo\n",
        "arr = np.array([0, np.pi/2, np.pi])\n",
        "\n",
        "# Seno\n",
        "print(\"Seno de los elementos:\", np.sin(arr))\n",
        "\n",
        "# Coseno\n",
        "print(\"Coseno de los elementos:\", np.cos(arr))\n",
        "\n",
        "# Exponencial\n",
        "print(\"Exponencial de los elementos:\", np.exp(arr))\n",
        "\n",
        "# Raíz cuadrada\n",
        "print(\"Raíz cuadrada de los elementos:\", np.sqrt(np.array([1, 4, 9, 16])))\n",
        "\n",
        "# Logaritmo natural\n",
        "print(\"Logaritmo natural de los elementos:\", np.log(np.array([1, np.e, np.e**2])))\n"
      ]
    },
    {
      "cell_type": "markdown",
      "metadata": {
        "id": "M_a-fDom1DRR"
      },
      "source": [
        "En este ejemplo, cada función matemática se aplica a cada elemento del arreglo, devolviendo un nuevo arreglo con los resultados.\n",
        "\n",
        "### 2.4.4 Operaciones de Agregación\n",
        "\n",
        "Las operaciones de agregación calculan un solo valor a partir de un arreglo de valores como cuando calculamos un promedio de numeros o un producto escalar. NumPy proporciona funciones como `np.sum`, `np.mean`, `np.std`, `np.min`, y `np.max` para realizar estas operaciones.\n",
        "\n",
        "**Ejemplo de Operaciones de Agregación**"
      ]
    },
    {
      "cell_type": "code",
      "execution_count": null,
      "metadata": {
        "colab": {
          "base_uri": "https://localhost:8080/"
        },
        "id": "xixEYZKk1KEi",
        "outputId": "fdfa4dc1-e7ad-4a8b-b0fd-be106417f2ca"
      },
      "outputs": [
        {
          "name": "stdout",
          "output_type": "stream",
          "text": [
            "Suma de los elementos: 15\n",
            "Promedio de los elementos: 3.0\n",
            "Desviación estándar de los elementos: 1.4142135623730951\n",
            "Valor mínimo: 1\n",
            "Valor máximo: 5\n"
          ]
        }
      ],
      "source": [
        "# Crear un arreglo\n",
        "arr = np.array([1, 2, 3, 4, 5])\n",
        "\n",
        "# Suma\n",
        "print(\"Suma de los elementos:\", np.sum(arr))\n",
        "\n",
        "# Promedio\n",
        "print(\"Promedio de los elementos:\", np.mean(arr))\n",
        "\n",
        "# Desviación estándar\n",
        "print(\"Desviación estándar de los elementos:\", np.std(arr))\n",
        "\n",
        "# Mínimo\n",
        "print(\"Valor mínimo:\", np.min(arr))\n",
        "\n",
        "# Máximo\n",
        "print(\"Valor máximo:\", np.max(arr))\n"
      ]
    },
    {
      "cell_type": "markdown",
      "metadata": {
        "id": "BlCKwuoTmrWx"
      },
      "source": [
        "### 2.5 Constantes de NumPy\n",
        "\n",
        "NumPy incluye varias constantes matemáticas útiles que pueden ser utilizadas en cálculos científicos y de ingeniería. Aquí están algunas de las más comunes:\n",
        "\n",
        "\n"
      ]
    },
    {
      "cell_type": "code",
      "execution_count": null,
      "metadata": {
        "colab": {
          "base_uri": "https://localhost:8080/"
        },
        "id": "nkKdbRlZ22q9",
        "outputId": "aa4ebf2a-2b51-4d52-e850-336f7f6dc72a"
      },
      "outputs": [
        {
          "name": "stdout",
          "output_type": "stream",
          "text": [
            "Valor de pi: 3.141592653589793\n",
            "Valor de e: 2.718281828459045\n"
          ]
        }
      ],
      "source": [
        "print(\"Valor de pi:\", np.pi)\n",
        "\n",
        "print(\"Valor de e:\", np.e)\n"
      ]
    },
    {
      "cell_type": "markdown",
      "metadata": {
        "id": "xpPIZpKR69hE"
      },
      "source": [
        "## 2.6 Slicing en NumPy\n",
        "\n",
        "El slicing en NumPy nos permite seleccionar y manipular sub-arreglos de un arreglo existente de manera muy eficiente. Esto es especialmente útil en el análisis de señales, donde a menudo necesitamos trabajar con segmentos específicos de una señal.\n",
        "\n",
        "**Sintaxis Básica de Slicing**\n",
        "\n",
        "La sintaxis básica para realizar slicing en NumPy es similar a la de las listas en Python:\n",
        "\n",
        "~~~python\n",
        "arreglo[inicio:fin:paso]\n",
        "~~~"
      ]
    },
    {
      "cell_type": "markdown",
      "metadata": {
        "id": "-N2d-UO8RM2U"
      },
      "source": [
        "- `inicio` : El índice del primer elemento del subarreglo (incluido). Si se omite, se asume el valor 0.\n",
        "\n",
        "- `fin`: El índice del último elemento del subarreglo (excluido). Si se omite, se asume el valor de la longitud del arreglo.\n",
        "\n",
        "- `paso`: El tamaño del paso entre elementos. Si se omite, se asume el valor 1.\n",
        "\n",
        "**Ejemplos de Slicing**\n",
        "\n",
        "\n",
        "Primero, crearemos un vector de ejemplo sobre el que trabajaremos con slicing\n",
        "\n"
      ]
    },
    {
      "cell_type": "code",
      "execution_count": null,
      "metadata": {
        "colab": {
          "base_uri": "https://localhost:8080/"
        },
        "id": "-1aPaQa2SjbX",
        "outputId": "b2597cb6-9355-4f88-d684-8c9ae223af6f"
      },
      "outputs": [
        {
          "name": "stdout",
          "output_type": "stream",
          "text": [
            "Vector completo (primeros 10 elementos): [ 1  2  3  4  5  6  7  8  9 10]\n"
          ]
        }
      ],
      "source": [
        "# Crear un vector de ejemplo\n",
        "vector = np.arange(1, 101)  # Vector con valores del 1 al 100\n",
        "\n",
        "# Mostrar los primeros 10 elementos del vector\n",
        "print(\"Vector completo (primeros 10 elementos):\", vector[:10])\n"
      ]
    },
    {
      "cell_type": "markdown",
      "metadata": {
        "id": "gBWKbp6hSoAx"
      },
      "source": [
        "**Seleccionar un Subarreglo**\n",
        "\n",
        "Podemos seleccionar un segmento específico del vector usando slicing."
      ]
    },
    {
      "cell_type": "code",
      "execution_count": null,
      "metadata": {
        "colab": {
          "base_uri": "https://localhost:8080/"
        },
        "id": "4ee6YzjJSsmt",
        "outputId": "67a39a50-1a5b-4f71-a366-28db2eb104e5"
      },
      "outputs": [
        {
          "name": "stdout",
          "output_type": "stream",
          "text": [
            "Segmento inicial del vector (primeros 10 elementos): [ 1  2  3  4  5  6  7  8  9 10]\n"
          ]
        }
      ],
      "source": [
        "# Seleccionar los primeros 20 elementos del vector\n",
        "segmento_inicial = vector[:20]\n",
        "\n",
        "# Mostrar los primeros 10 elementos del segmento seleccionado\n",
        "print(\"Segmento inicial del vector (primeros 10 elementos):\", segmento_inicial[:10])\n"
      ]
    },
    {
      "cell_type": "markdown",
      "metadata": {
        "id": "Fwtmir7jSynx"
      },
      "source": [
        "**Seleccionar un Segmento Central**\n",
        "\n",
        "Seleccionar una parte central del vector también es sencillo."
      ]
    },
    {
      "cell_type": "code",
      "execution_count": null,
      "metadata": {
        "colab": {
          "base_uri": "https://localhost:8080/"
        },
        "id": "eOSD16kaS03t",
        "outputId": "c8192c5c-bf77-4c7a-fba8-f81195504e54"
      },
      "outputs": [
        {
          "name": "stdout",
          "output_type": "stream",
          "text": [
            "Segmento central del vector (primeros 10 elementos): [41 42 43 44 45 46 47 48 49 50]\n"
          ]
        }
      ],
      "source": [
        "# Seleccionar los elementos del índice 40 al 60\n",
        "segmento_central = vector[40:60]\n",
        "\n",
        "# Mostrar los primeros 10 elementos del segmento central\n",
        "print(\"Segmento central del vector (primeros 10 elementos):\", segmento_central[:10])\n"
      ]
    },
    {
      "cell_type": "markdown",
      "metadata": {
        "id": "AKzBipplS29y"
      },
      "source": [
        "**Seleccionar Elementos con un Paso**\n",
        "\n",
        "Podemos seleccionar elementos a intervalos regulares utilizando el parámetro `paso`."
      ]
    },
    {
      "cell_type": "code",
      "execution_count": null,
      "metadata": {
        "colab": {
          "base_uri": "https://localhost:8080/"
        },
        "id": "Z8q5S1n4TbI_",
        "outputId": "1a1723fb-3977-494b-fb17-16c125e05181"
      },
      "outputs": [
        {
          "name": "stdout",
          "output_type": "stream",
          "text": [
            "Segmento inicial del vector (primeros 10 elementos): [ 1  2  3  4  5  6  7  8  9 10]\n"
          ]
        }
      ],
      "source": [
        "# Seleccionar los primeros 20 elementos del vector\n",
        "segmento_inicial = vector[:20]\n",
        "\n",
        "# Mostrar los primeros 10 elementos del segmento seleccionado\n",
        "print(\"Segmento inicial del vector (primeros 10 elementos):\", segmento_inicial[:10])\n"
      ]
    },
    {
      "cell_type": "markdown",
      "metadata": {
        "id": "fp7g_5EJT-rr"
      },
      "source": [
        "**Advertencia Importante: Vistas y Copias**\n",
        "\n",
        "Es importante tener en cuenta que cuando realizamos slicing en un array de NumPy, se crea una vista del array original, no una copia independiente. Esto significa que cualquier modificación realizada en la vista afectará directamente al array original."
      ]
    },
    {
      "cell_type": "code",
      "execution_count": null,
      "metadata": {
        "colab": {
          "base_uri": "https://localhost:8080/"
        },
        "id": "z2gYxISyUIBG",
        "outputId": "4481e993-d074-46e4-bdc3-b1b60da2b594"
      },
      "outputs": [
        {
          "name": "stdout",
          "output_type": "stream",
          "text": [
            "Vector original después de modificar la vista: [99  2  3  4  5  6  7  8  9 10 11 12 13 14 15 16 17 18 19 20]\n",
            "Vista del vector después de la modificación: [99  2  3  4  5  6  7  8  9 10]\n"
          ]
        }
      ],
      "source": [
        "# Crear una vista usando slicing\n",
        "vista = vector[:10]\n",
        "\n",
        "# Modificar un elemento de la vista\n",
        "vista[0] = 99\n",
        "\n",
        "# Mostrar el vector original y la vista después de la modificación\n",
        "print(\"Vector original después de modificar la vista:\", vector[:20])\n",
        "print(\"Vista del vector después de la modificación:\", vista)\n"
      ]
    },
    {
      "cell_type": "markdown",
      "metadata": {
        "id": "mUAAoyh7UMV5"
      },
      "source": [
        "Si necesitas trabajar con un subarreglo sin modificar el array original, asegúrate de crear una copia explícita usando el método `copy`."
      ]
    },
    {
      "cell_type": "code",
      "execution_count": null,
      "metadata": {
        "colab": {
          "base_uri": "https://localhost:8080/"
        },
        "id": "dfHbU5pUUQhA",
        "outputId": "15f6a9bb-8a15-4603-956e-f885b8297b56"
      },
      "outputs": [
        {
          "name": "stdout",
          "output_type": "stream",
          "text": [
            "Vector original después de modificar la copia: [99  2  3  4  5  6  7  8  9 10 11 12 13 14 15 16 17 18 19 20]\n",
            "Copia del vector después de la modificación: [100   2   3   4   5   6   7   8   9  10]\n"
          ]
        }
      ],
      "source": [
        "# Crear una copia del vector usando slicing y el método copy\n",
        "copia = vector[:10].copy()\n",
        "\n",
        "# Modificar un elemento de la copia\n",
        "copia[0] = 100\n",
        "\n",
        "# Mostrar el vector original y la copia después de la modificación\n",
        "print(\"Vector original después de modificar la copia:\", vector[:20])\n",
        "print(\"Copia del vector después de la modificación:\", copia)\n"
      ]
    },
    {
      "cell_type": "markdown",
      "metadata": {
        "id": "tMDvXpCaUz36"
      },
      "source": [
        "## 3. Trabajando con Arreglos de Números Complejos en NumPy\n",
        "\n",
        "Puedes crear arreglos de números complejos directamente utilizando `numpy.array` y especificando los números complejos:\n",
        "\n",
        "\n"
      ]
    },
    {
      "cell_type": "code",
      "execution_count": null,
      "metadata": {
        "colab": {
          "base_uri": "https://localhost:8080/"
        },
        "id": "0DflL1OjVA96",
        "outputId": "763bc2ed-2079-4fe9-c8f5-6bad2ddabccc"
      },
      "outputs": [
        {
          "name": "stdout",
          "output_type": "stream",
          "text": [
            "Arreglo de números complejos:\n",
            "[1.+2.j 3.+4.j 5.+6.j]\n"
          ]
        }
      ],
      "source": [
        "# Creación de un arreglo de números complejos\n",
        "arreglo_complejo = np.array([1+2j, 3+4j, 5+6j])\n",
        "\n",
        "print(\"Arreglo de números complejos:\")\n",
        "print(arreglo_complejo)\n"
      ]
    },
    {
      "cell_type": "markdown",
      "metadata": {
        "id": "IiuvyBQLVEyk"
      },
      "source": [
        "Puedes acceder a las partes reales e imaginarias de los números complejos en un arreglo utilizando las propiedades `.real` y `.imag`:"
      ]
    },
    {
      "cell_type": "code",
      "execution_count": null,
      "metadata": {
        "colab": {
          "base_uri": "https://localhost:8080/"
        },
        "id": "-AUIDwO5VSqh",
        "outputId": "721815ee-74ba-4e3a-b27d-0aebb91abaa0"
      },
      "outputs": [
        {
          "name": "stdout",
          "output_type": "stream",
          "text": [
            "Partes reales del arreglo:\n",
            "[1. 3. 5.]\n",
            "Partes imaginarias del arreglo:\n",
            "[2. 4. 6.]\n"
          ]
        }
      ],
      "source": [
        "  # Partes reales del arreglo\n",
        "partes_reales = arreglo_complejo.real\n",
        "\n",
        "# Partes imaginarias del arreglo\n",
        "partes_imaginarias = arreglo_complejo.imag\n",
        "\n",
        "print(\"Partes reales del arreglo:\")\n",
        "print(partes_reales)\n",
        "\n",
        "print(\"Partes imaginarias del arreglo:\")\n",
        "print(partes_imaginarias)\n"
      ]
    },
    {
      "cell_type": "markdown",
      "metadata": {
        "id": "iDrY56xGWF2F"
      },
      "source": [
        "**Operaciones con Arreglos de Números Complejos**\n",
        "\n",
        "Puedes realizar operaciones matemáticas con arreglos de números complejos de la misma manera que con arreglos de números reales.\n",
        "\n",
        "### 3.1. Suma y Resta"
      ]
    },
    {
      "cell_type": "code",
      "execution_count": null,
      "metadata": {
        "colab": {
          "base_uri": "https://localhost:8080/"
        },
        "id": "1lnv4s-yWTqB",
        "outputId": "810b6a6e-4427-4904-ef84-bedd67407645"
      },
      "outputs": [
        {
          "name": "stdout",
          "output_type": "stream",
          "text": [
            "Suma de arreglos de números complejos:\n",
            "[2.+3.j 5.+6.j 8.+9.j]\n",
            "Resta de arreglos de números complejos:\n",
            "[0.+1.j 1.+2.j 2.+3.j]\n"
          ]
        }
      ],
      "source": [
        "# Suma de arreglos de números complejos\n",
        "arreglo_suma = arreglo_complejo + np.array([1+1j, 2+2j, 3+3j])\n",
        "\n",
        "# Resta de arreglos de números complejos\n",
        "arreglo_resta = arreglo_complejo - np.array([1+1j, 2+2j, 3+3j])\n",
        "\n",
        "print(\"Suma de arreglos de números complejos:\")\n",
        "print(arreglo_suma)\n",
        "\n",
        "print(\"Resta de arreglos de números complejos:\")\n",
        "print(arreglo_resta)\n"
      ]
    },
    {
      "cell_type": "markdown",
      "metadata": {
        "id": "FwPo5KrUWWOC"
      },
      "source": [
        "### 3.2. Multiplicación y División\n"
      ]
    },
    {
      "cell_type": "code",
      "execution_count": null,
      "metadata": {
        "colab": {
          "base_uri": "https://localhost:8080/"
        },
        "id": "3uLzf-DLWZ_E",
        "outputId": "35255806-c809-4cd3-fa65-178d6bca05c7"
      },
      "outputs": [
        {
          "name": "stdout",
          "output_type": "stream",
          "text": [
            "Multiplicación de arreglos de números complejos:\n",
            "[-1. +3.j -2.+14.j -3.+33.j]\n",
            "División de arreglos de números complejos:\n",
            "[1.5       +0.5j        1.75      +0.25j       1.83333333+0.16666667j]\n"
          ]
        }
      ],
      "source": [
        "# Multiplicación de arreglos de números complejos\n",
        "arreglo_multiplicacion = arreglo_complejo * np.array([1+1j, 2+2j, 3+3j])\n",
        "\n",
        "# División de arreglos de números complejos\n",
        "arreglo_division = arreglo_complejo / np.array([1+1j, 2+2j, 3+3j])\n",
        "\n",
        "print(\"Multiplicación de arreglos de números complejos:\")\n",
        "print(arreglo_multiplicacion)\n",
        "\n",
        "print(\"División de arreglos de números complejos:\")\n",
        "print(arreglo_division)\n"
      ]
    },
    {
      "cell_type": "markdown",
      "metadata": {
        "id": "8wGbAnohWcUH"
      },
      "source": [
        "### 3.3 Magnitud y Fase de Números Complejos\n",
        "\n",
        "Puedes calcular la magnitud y la fase de cada elemento en un arreglo de números complejos utilizando numpy.abs y numpy.angle respectivamente.\n",
        "\n",
        "**Magnitud**"
      ]
    },
    {
      "cell_type": "code",
      "execution_count": null,
      "metadata": {
        "colab": {
          "base_uri": "https://localhost:8080/"
        },
        "id": "DOfpmvN-WnWD",
        "outputId": "d34b56bb-d59f-4e77-ef5b-5d4c7acd5ae9"
      },
      "outputs": [
        {
          "name": "stdout",
          "output_type": "stream",
          "text": [
            "Magnitudes de los elementos del arreglo:\n",
            "[2.23606798 5.         7.81024968]\n"
          ]
        }
      ],
      "source": [
        "# Magnitud de los elementos del arreglo de números complejos\n",
        "magnitudes = np.abs(arreglo_complejo)\n",
        "\n",
        "print(\"Magnitudes de los elementos del arreglo:\")\n",
        "print(magnitudes)\n"
      ]
    },
    {
      "cell_type": "markdown",
      "metadata": {
        "id": "S5PPiGOmWtgD"
      },
      "source": [
        "**Fase**"
      ]
    },
    {
      "cell_type": "code",
      "execution_count": null,
      "metadata": {
        "colab": {
          "base_uri": "https://localhost:8080/"
        },
        "id": "Lp0JtObHW1AT",
        "outputId": "b0ba11bd-a5d8-4d4a-e343-047d50867c5d"
      },
      "outputs": [
        {
          "name": "stdout",
          "output_type": "stream",
          "text": [
            "Fases de los elementos del arreglo:\n",
            "[1.10714872 0.92729522 0.87605805]\n"
          ]
        }
      ],
      "source": [
        "# Fase de los elementos del arreglo de números complejos\n",
        "fases = np.angle(arreglo_complejo)\n",
        "\n",
        "print(\"Fases de los elementos del arreglo:\")\n",
        "print(fases)\n"
      ]
    },
    {
      "cell_type": "markdown",
      "metadata": {
        "id": "FvBULspoW8tq"
      },
      "source": [
        "### 3.4 Funciones Trigonométricas y Exponenciales\n",
        "\n",
        "`numpy` también proporciona funciones para calcular el seno, coseno y la exponencial de números complejos."
      ]
    },
    {
      "cell_type": "code",
      "execution_count": null,
      "metadata": {
        "colab": {
          "base_uri": "https://localhost:8080/"
        },
        "id": "6htiYBkxXK4F",
        "outputId": "4cb448fe-a672-485f-8dd7-aed94da1cbd5"
      },
      "outputs": [
        {
          "name": "stdout",
          "output_type": "stream",
          "text": [
            "Seno de los elementos del arreglo:\n",
            "[   3.16577851 +1.95960104j    3.85373804-27.01681326j\n",
            " -193.43002006+57.21839506j]\n",
            "Coseno de los elementos del arreglo:\n",
            "[  2.03272301  -3.0518978j  -27.0349456   -3.85115333j\n",
            "  57.21909818+193.42764312j]\n",
            "Exponencial de los elementos del arreglo:\n",
            "[ -1.13120438 +2.47172667j -13.12878308-15.20078446j\n",
            " 142.50190552-41.46893679j]\n"
          ]
        }
      ],
      "source": [
        "# Seno de los elementos del arreglo de números complejos\n",
        "senos = np.sin(arreglo_complejo)\n",
        "\n",
        "# Coseno de los elementos del arreglo de números complejos\n",
        "cosenos = np.cos(arreglo_complejo)\n",
        "\n",
        "# Exponencial de los elementos del arreglo de números complejos\n",
        "exponenciales = np.exp(arreglo_complejo)\n",
        "\n",
        "print(\"Seno de los elementos del arreglo:\")\n",
        "print(senos)\n",
        "\n",
        "print(\"Coseno de los elementos del arreglo:\")\n",
        "print(cosenos)\n",
        "\n",
        "print(\"Exponencial de los elementos del arreglo:\")\n",
        "print(exponenciales)\n"
      ]
    },
    {
      "cell_type": "markdown",
      "metadata": {
        "id": "Yi8fUh3b50YT"
      },
      "source": [
        "----\n",
        "Con esto llegamos al final de este tutorial! Recuerda que los temas que desarrollamos en los tutoriales de la cátedra son tratados de manera básica y contienen solo lo necesario para poder presentar de forma didáctica los contenidos de la asignatura. Entender Python en profundidad requiere un curso completo dedicado a ello.\n",
        "\n",
        "En [este link](https://github.com/vinta/awesome-python)  encontrarás una extensa cantidad de librerías de python para trabajar prácticamente sobre cualquier temática que necesites.\n",
        "\n",
        "En [este link](https://docs.python.org/es/3.9/) encontrarás la documentación completa de Python\n",
        "\n",
        "En [este link](https://numpy.org/doc/2.0/user/index.html#user) encontrarás la documentación completa de NumPy.\n",
        "\n",
        "\n",
        "Cualquier comentario no dudes en consultar con los profesores de la cátedra.\n"
      ]
    }
  ],
  "metadata": {
    "anaconda-cloud": {},
    "colab": {
      "provenance": []
    },
    "kernelspec": {
      "display_name": "Python 3",
      "language": "python",
      "name": "python3"
    },
    "language_info": {
      "codemirror_mode": {
        "name": "ipython",
        "version": 3
      },
      "file_extension": ".py",
      "mimetype": "text/x-python",
      "name": "python",
      "nbconvert_exporter": "python",
      "pygments_lexer": "ipython3",
      "version": "3.6.4"
    }
  },
  "nbformat": 4,
  "nbformat_minor": 0
}
