{
  "cells": [
    {
      "cell_type": "markdown",
      "source": [
        "<center>\n",
        "\n",
        "\n",
        "<div style=\"display: flex; justify-content: center;\">\n",
        "    <img src=\"data:image/jpeg;base64,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\" alt=\"Logo UTN\"/>\n",
        "</div>\n",
        "</center>\n",
        "<center>\n",
        "    <div style=\"font-family: 'Georgia', serif; font-size: 24px;\">\n",
        "        <p><strong>Ingeniería en Electrónica. Análisis de Señales y Sistemas</strong></p>\n",
        "        <p><em>Profesor Mg. Ing. Javier Velez</em></p>\n",
        "    </div>\n",
        "</center>"
      ],
      "metadata": {
        "id": "OsoJ7mryT5LT"
      }
    },
    {
      "cell_type": "markdown",
      "metadata": {
        "id": "HH-eBjc6BlG8"
      },
      "source": [
        "# Introducción a los Notebooks de Jupyter y Google Colab"
      ]
    },
    {
      "cell_type": "markdown",
      "source": [
        "Bienvenidos a este tutorial de Python básico utilizando Jupyter Notebooks en Google Colab. Antes de empezar a programar, vamos a conocer las herramientas que usaremos.\n",
        "\n",
        "## 1. ¿Qué es Jupyter?\n",
        "\n",
        "Jupyter es un proyecto de código abierto que permite crear y compartir documentos que contienen código ejecutable, ecuaciones, visualizaciones y texto explicativo. Es muy popular en la comunidad científica y educativa porque facilita el trabajo interactivo y la colaboración. Su nombre viene de los tres principales lenguajes que soporta inicialmente: Julia, Python y R.\n",
        "\n",
        "## 2. ¿Qué son los Jupyter Notebooks?\n",
        "\n",
        "El documento que estás leyendo es un <a href=\"https://jupyter.org/\">Jupyter notebook</a>. Es un documento que puede contener tanto código como texto. Este formato permite combinar explicaciones teóricas con código ejecutable en un solo lugar. Los notebooks están compuestos por \"celdas\". Hay dos tipos principales de celdas:\n",
        "\n",
        "- Celdas de código: donde escribes y ejecutas tu código Python.\n",
        "- Celdas de texto: donde puedes escribir explicaciones, usando un lenguaje de marcado llamado Markdown.\n",
        "Este entorno interactivo hace que aprender y enseñar programación sea más intuitivo y visual.\n",
        "\n",
        "# 3. ¿Qué es Google Colab?\n",
        "\n",
        "Google Colab (o Colaboratory) es un servicio gratuito proporcionado por Google que permite ejecutar Jupyter Notebooks en la nube. Con Colab, no necesitas instalar nada en tu computadora. Solo necesitas una cuenta de Google y acceso a internet. Algunas de las ventajas de usar Colab incluyen:\n",
        "\n",
        "Acceso a recursos en la nube: como GPU y TPU para acelerar la ejecución de código, especialmente útil para proyectos de machine learning.\n",
        "Facilidad para compartir y colaborar: puedes compartir tus notebooks con otros usuarios y trabajar juntos en tiempo real.\n",
        "Almacenamiento en Google Drive: tus notebooks se guardan en tu Google Drive, facilitando el acceso desde cualquier lugar y dispositivo."
      ],
      "metadata": {
        "id": "BkAsqJKa3OuA"
      }
    },
    {
      "cell_type": "markdown",
      "metadata": {
        "id": "bz6-7Q_iBlHE"
      },
      "source": [
        "Este tutorial es introductorio y explica lo mínimo necesario para poder realizar los ejercicios de software planteados en el curso de Análisis de Señales y Sistemas. Si tenés curiosidad y querés conocer más sobre Google Colab podés acceder a los siguientes recursos (alguno de los cuales fueron aprovechados para crear este notebook:\n",
        "\n",
        "- [¿Qué es Colaboratory? (Notebook)](https://colab.research.google.com/notebooks/intro.ipynb). Una gran cantidad de recursos disponibles en la página oficial de Google Colaboratory.\n",
        "- [Google Colab: Python y Machine Learning en la nube (Artículo)](https://www.adictosaltrabajo.com/2019/06/04/google-colab-python-y-machine-learning-en-la-nube/). Un tutorial con las características más relevantes de Colab.\n",
        "\n",
        "\n",
        "Por último, antes de comenzar, si notas que el notebook tiene algún error de cualquier tipo no dejes de avisar!\n"
      ]
    },
    {
      "cell_type": "markdown",
      "metadata": {
        "id": "xzn6xGExBlHH"
      },
      "source": [
        "## 4. Entorno\n",
        "\n",
        "Para poder ejecutar las celdas de código de un Jupyter Notebook primero debemos conectarnos a un entorno\n",
        "\n",
        "¿Qué es un Entorno?\n",
        "En programación, un \"entorno\" se refiere al conjunto de condiciones en las que se ejecuta tu código. Esto incluye:\n",
        "\n",
        "- El Hardware: Los recursos físicos como la CPU, GPU, memoria, etc.\n",
        "\n",
        "- El Sistema Operativo: El software básico que gestiona los recursos de hardware del ordenador.\n",
        "\n",
        "- El Lenguaje de Programación y sus Librerías: Como Python y las bibliotecas adicionales que puedas necesitar (por ejemplo, NumPy, Pandas).\n",
        "\n",
        "\n",
        "\n",
        "En Google Colab, el entorno está basado en la nube, lo que significa que tus programas se ejecutan en los servidores de Google. Esto tiene varias ventajas:\n",
        "\n",
        "- No necesitas instalar nada en tu computadora.\n",
        "\n",
        "- Puedes acceder a hardware potente como GPUs y TPUs para tareas intensivas.\n",
        "\n",
        "- Facilidad de colaboración y compartición de tus proyectos."
      ]
    },
    {
      "cell_type": "markdown",
      "source": [
        "**Conexión al entorno en Colab**\n",
        "\n",
        "\n",
        "En Colab, nuestro notebook se conecta a un entorno de ejecución cuando pulsamos sobre el botón de **Conectar** que se encuentra arriba a la derecha. Luego de presionarlo se crea en los servidores de Google una máquina virtual con todo lo necesario para poder ejecutar el código que escribamos en el notebook.\n",
        "\n",
        "![](https://www.adictosaltrabajo.com/wp-content/uploads/2019/05/connect-colab.png)\n",
        "\n",
        "Aunque utilizaremos Colab para ejecutar los Jupyter Notebooks, también es posible crearlos y ejecutarlos en nuestra computadora sin necesidad de usar Colab ni internet. Para esto, necesitaremos instalar Python y Jupyter. Hay múltiples maneras de hacerlo, pero quizás la forma más simple es instalar la distribución llamada [anaconda](https://www.anaconda.com/).\n",
        "\n",
        "Profundizaremos sobre el entorno de ejecución más adelante."
      ],
      "metadata": {
        "id": "2P30nWhbp2lX"
      }
    },
    {
      "cell_type": "markdown",
      "source": [
        "## 5. Celdas\n",
        "\n",
        "Como se mencionó, un notebook de Jupyter está compuesto por dos tipos de **celdas** las **ejecutables** o **de código** y las de **texto**.\n",
        "\n",
        "Para añadir una nueva celda podemos posicionar el mouse sobre el límite inferior de una celda existente y hacer click en \"+ Código\" para crear un celda ejecutable o en \"+ Texto\" para agregar una celda de texto. También se pueden crear desde el menú superior dentro de \"Insertar\". Podemos crear tantas celdas como queramos."
      ],
      "metadata": {
        "id": "uVyNJAoaIw4U"
      }
    },
    {
      "cell_type": "markdown",
      "source": [
        "### 5.1 Celdas de código"
      ],
      "metadata": {
        "id": "sK02An5m8AF5"
      }
    },
    {
      "cell_type": "markdown",
      "metadata": {
        "id": "hMXS7QffBlHI"
      },
      "source": [
        "Una celda de código es donde puedes escribir y ejecutar tu código. Para ejecutar una celda de código, simplemente pulsa el botón con el ícono de \"Play\" que se encuentra a la izquierda de la celda. Debajo de la celda aparecerá el resultado de la ejecución, si lo hay. A continuación puedes ver y ejecutar un ejemplo de celda de código:"
      ]
    },
    {
      "cell_type": "code",
      "source": [
        "print(\"Hola mundo\")"
      ],
      "metadata": {
        "id": "xmcusf_3LXpl"
      },
      "execution_count": null,
      "outputs": []
    },
    {
      "cell_type": "markdown",
      "source": [
        "Otra manera de ejecutarla es seleccionar la celda con el mouse y pulsar las teclas Ctrl+Enter. Una celda puede contener tantas líneas de código como se desee, y al ejecutarla, se ejecutará todo el código escrito en su interior.\n",
        "\n",
        "\n",
        "Podemos cambiar el orden de una celda utilizando las flechas (una hacia arriba y otra hacia abajo) que aparecen en la parte superior derecha de la celda al seleccionarla. Junto a estas flechas, también encontrarás opciones para modificar las celdas, como borrarlas, añadir comentarios y enlaces.\n",
        "\n",
        "\n",
        "\n"
      ],
      "metadata": {
        "id": "A0UEAIahL6fN"
      }
    },
    {
      "cell_type": "markdown",
      "metadata": {
        "id": "HigfAq5uBlHP"
      },
      "source": [
        "### 5.2. Celdas de Texto"
      ]
    },
    {
      "cell_type": "markdown",
      "metadata": {
        "id": "AQVj0GLNBlHP"
      },
      "source": [
        "Las celdas de texto se formatean utilizando un lenguaje de marcado sencillo llamado Markdown. Esto es similar a cómo damos formato al texto en aplicaciones de mensajería, como WhatsApp, cuando queremos que una palabra aparezca en negrita, cursiva, etcétera.\n",
        "\n",
        "Las celdas de texto en Jupyter Notebooks tienen dos modos: modo de visualización y modo de edición. El modo de visualización es el modo por defecto, donde el contenido de la celda se muestra formateado. Para ingresar al modo de edición, haz doble clic sobre la celda; solo entonces podrás introducir o modificar el texto en ella. Una vez que hayas terminado de editar el contenido, puedes regresar al modo de visualización presionando la combinación de teclas 'Ctrl+Enter'.\n",
        "\n",
        "\n",
        "\n",
        "\n",
        "\n",
        "\n"
      ]
    },
    {
      "cell_type": "markdown",
      "metadata": {
        "id": "lox3ssQmBlHQ"
      },
      "source": [
        "A continuación, se presentan algunos ejemplos de código Markdown. Debes hacer doble clic en esta celda para ver cómo está codificada y poder editarla.\n",
        "\n",
        "\n",
        "# Este texto es tratado como un título porque tiene un signo numeral al comienzo\n",
        "## Este texto es tratado como un subtítulo porque tiene 2 numerales al comienzo\n",
        "###  Y así podemos seguir hasta 5 numerales\n",
        "*cursiva* o _cursiva_\n",
        "\n",
        "**negrita**\n",
        "\n",
        "~~tachado~~\n",
        "\n",
        "Sin sangría\n",
        ">Un tab\n",
        ">>Dos tabs\n",
        "\n",
        "Viñetas:\n",
        "* One\n",
        "* Two\n",
        "* Three\n",
        "\n",
        "Viñetas numéricas:\n",
        "1. One\n",
        "1. Two\n",
        "1. Three\n",
        "\n",
        "Un link: https://google.com\n",
        "\n",
        "Una frase con un link: [Colaboratory](https://research.google.com/colaboratory)\n",
        "\n",
        "un gif incrustado en el texto: ![Rafa](https://media0.giphy.com/media/ASd0Ukj0y3qMM/giphy.gif)"
      ]
    },
    {
      "cell_type": "markdown",
      "metadata": {
        "id": "HXVqD7DdBlHR"
      },
      "source": [
        "Acá encontrarán una referencia más completa de cómo usar [markdown](https://daringfireball.net/projects/markdown/syntax)."
      ]
    },
    {
      "cell_type": "markdown",
      "metadata": {
        "id": "-o2Incv2BlHR"
      },
      "source": [
        "Para escribir fórmulas matemáticas se puede usar un lenguaje llamado LaTex. Queda fuera del alcance de este curso la enseñanza de LaTex, pero se presentan algunos ejemplos de referencia para mostrar su sintaxis:\n",
        "\n",
        "\n",
        "\n",
        ">$y=x^2$\n",
        "\n",
        ">$e^{i\\pi} + 1 = 0$\n",
        "\n",
        ">$e^x=\\sum_{i=0}^\\infty \\frac{1}{i!}x^i$\n",
        "\n",
        ">$\\frac{n!}{k!(n-k)!} = {n \\choose k}$\n",
        "\n",
        ">$A_{m,n} =\n",
        " \\begin{pmatrix}\n",
        "  a_{1,1} & a_{1,2} & \\cdots & a_{1,n} \\\\\n",
        "  a_{2,1} & a_{2,2} & \\cdots & a_{2,n} \\\\\n",
        "  \\vdots  & \\vdots  & \\ddots & \\vdots  \\\\\n",
        "  a_{m,1} & a_{m,2} & \\cdots & a_{m,n}\n",
        " \\end{pmatrix}$\n",
        "\n",
        "Tablas:\n",
        "\n",
        "\n",
        "Primera columna | Segunda columna\n",
        "--- | ---\n",
        "Fila 1, Col 1 | Fila 1, Col 2\n",
        "Fila 2, Col 1 | Fila 2, Col 2\n",
        "\n",
        "\n"
      ]
    },
    {
      "cell_type": "markdown",
      "metadata": {
        "id": "tTe3TBFEBlHL"
      },
      "source": [
        "Dividir nuestro programa en múltiples celdas de ejecución en Jupyter Notebook es una práctica poderosa y eficiente. Al segmentar el código en partes funcionales más pequeñas, podemos enfocarnos en una sección a la vez. Esto nos permite probar y verificar cada parte del programa mientras lo desarrollamos, asegurándonos de que todo funcione correctamente antes de avanzar. Además, las celdas de texto nos ofrecen un espacio para agregar comentarios y explicaciones detalladas, enriqueciendo nuestro notebook con información útil y facilitando su comprensión. Este enfoque no solo mejora la organización del código, sino que también acelera la detección y corrección de errores, haciendo que el proceso de desarrollo sea más fluido y manejable.\n",
        "\n",
        "\n",
        "\n",
        "\n",
        "\n",
        "\n"
      ]
    },
    {
      "cell_type": "markdown",
      "metadata": {
        "id": "nWKLhIGYBlHS"
      },
      "source": [
        "## 6. Detalles del entorno de ejecución\n",
        "\n",
        "En un Jupyter Notebook, cada celda de código es independiente, pero todas comparten el mismo kernel. El kernel es el componente subyacente que se encarga de ejecutar el código y devolver los resultados. Piensa en el kernel como el cerebro del notebook: mantiene el estado de todas las variables y funciones mientras trabajas. Cuando te conectas al kernel, este empieza a ejecutar y recordar todo lo que haces durante la sesión.\n",
        "\n",
        "Aunque las celdas son independientes entre sí, pueden interactuar debido a que comparten el mismo kernel. Esto significa que las variables y funciones que declares en una celda estarán disponibles para su uso en otras celdas. Por ejemplo, si defines una variable en una celda, podrás utilizarla en cualquier otra celda del notebook.\n",
        "\n",
        "Normalmente, las celdas se ejecutan en el orden en que están dispuestas, de arriba hacia abajo. Sin embargo, a veces es necesario ejecutar o modificar una celda que está más arriba en el notebook. Para ayudarte a mantener el control del flujo de ejecución, cada celda muestra un número entre corchetes a la izquierda que indica el orden en que ha sido ejecutada. Esto te permite ver rápidamente el flujo de ejecución y realizar los ajustes necesarios.\n",
        "\n",
        "A continuación se presentan tres celdas, en las primeras dos se definen dos variables llamadas \"a\" y \"b\" y en la tercera se las usa para presentar un mensaje."
      ]
    },
    {
      "cell_type": "code",
      "execution_count": null,
      "metadata": {
        "id": "GJA9VTwRBlHU"
      },
      "outputs": [],
      "source": [
        "a = 2"
      ]
    },
    {
      "cell_type": "code",
      "execution_count": null,
      "metadata": {
        "id": "-ZzqTFxRBlHV"
      },
      "outputs": [],
      "source": [
        "b = 3"
      ]
    },
    {
      "cell_type": "code",
      "execution_count": null,
      "metadata": {
        "id": "lA5EymfCBlHV",
        "outputId": "b7f7beb5-95e7-4c23-d220-54b3e901c93f",
        "colab": {
          "base_uri": "https://localhost:8080/"
        }
      },
      "outputs": [
        {
          "output_type": "stream",
          "name": "stdout",
          "text": [
            "el resultado de a+b es:  5\n"
          ]
        }
      ],
      "source": [
        "print('El resultado de a+b es: ', a + b)"
      ]
    },
    {
      "cell_type": "markdown",
      "metadata": {
        "id": "VK0QsPAEBlHV"
      },
      "source": [
        "\n",
        "Desde el menú de «Entorno de ejecución» se puede reiniciar el estado del entorno de ejecución seleccionando \"Reiniciar la Sesión\". Al hacer esto, el kernel se reinicia y toda la memoria se borra, lo que significa que todas las variables, funciones y estados que se hayan definido se perderán. Es como empezar desde cero: todas las celdas de código necesitarán ser ejecutadas nuevamente para restaurar cualquier variable o función que se estaba utilizando. Esta opción es útil cuando quieres asegurarte de que tu notebook se ejecuta sin depender de cualquier estado previo, ayudando a evitar errores que puedan surgir de ejecuciones anteriores."
      ]
    },
    {
      "cell_type": "markdown",
      "metadata": {
        "id": "NQcmKdzCBlHW"
      },
      "source": [
        "El tiempo máximo que puedes estar conectado a una misma máquina desde un notebook es de 12 horas. Si pasás más de 90 minutos sin utilizar un notebook, el entorno se desconecta."
      ]
    },
    {
      "cell_type": "markdown",
      "metadata": {
        "id": "duRp_qtSBlHW"
      },
      "source": [
        "## 7. Panel lateral\n",
        "Del panel lateral por ahora solo nos interesará solo el ícono $\\{X\\}$ que nos indicará las variables que hemos declarado y que valor hay cargado en ellas."
      ]
    },
    {
      "cell_type": "markdown",
      "source": [
        "## 8. Comentar código\n",
        "\n",
        "Los comentarios en Python son esenciales para hacer que el código sea más legible y comprensible. Nos permiten agregar notas o explicaciones sin que afecten la ejecución del programa. Python soporta dos tipos de comentarios: comentarios de una sola línea y comentarios de varias líneas.\n",
        "\n",
        "**Comentarios de Una Sola Línea**\n",
        "\n",
        "Los comentarios de una sola línea comienzan con el símbolo #. Todo el texto que sigue a este símbolo en la misma línea es ignorado por el intérprete de Python.\n",
        "\n"
      ],
      "metadata": {
        "id": "j_ZjQ2V02oZM"
      }
    },
    {
      "cell_type": "code",
      "source": [
        "# Esto es un comentario de una sola línea\n",
        "print(\"Hola, mundo!\")  # Este comentario sigue a una línea de código\n"
      ],
      "metadata": {
        "id": "2vTyNz0629tN"
      },
      "execution_count": null,
      "outputs": []
    },
    {
      "cell_type": "markdown",
      "source": [
        "En el ejemplo anterior, `# Esto es un comentario de una sola línea` y `# Este comentario sigue a una línea de código` son comentarios que no afectan la ejecución del código.\n",
        "\n",
        "**Comentarios de Varias Líneas**\n",
        "\n",
        "Para escribir comentarios de varias líneas, se pueden utilizar múltiples símbolos # al inicio de cada línea:"
      ],
      "metadata": {
        "id": "QHL4Q8Zg3ABF"
      }
    },
    {
      "cell_type": "code",
      "source": [
        "# Este es un comentario\n",
        "# de varias líneas.\n",
        "# Cada línea comienza con #"
      ],
      "metadata": {
        "id": "i-S4ufOE3Qse"
      },
      "execution_count": null,
      "outputs": []
    },
    {
      "cell_type": "markdown",
      "source": [
        "Otra forma de escribir comentarios de varias líneas es utilizando comillas triples (`'''` o `\"\"\"`)."
      ],
      "metadata": {
        "id": "SzwaIZ3y3gHe"
      }
    },
    {
      "cell_type": "code",
      "source": [
        "\"\"\"\n",
        "Este es un comentario\n",
        "de varias líneas\n",
        "usando comillas triples.\n",
        "\"\"\""
      ],
      "metadata": {
        "colab": {
          "base_uri": "https://localhost:8080/",
          "height": 36
        },
        "id": "nhUb8h0d3sKQ",
        "outputId": "0379696b-7ec6-493c-a411-efe56e02ea0e"
      },
      "execution_count": null,
      "outputs": [
        {
          "output_type": "execute_result",
          "data": {
            "text/plain": [
              "'\\nEste es un comentario\\nde varias líneas\\nusando comillas triples.\\n'"
            ],
            "application/vnd.google.colaboratory.intrinsic+json": {
              "type": "string"
            }
          },
          "metadata": {},
          "execution_count": 2
        }
      ]
    },
    {
      "cell_type": "markdown",
      "metadata": {
        "id": "fQRcl8beBlHX"
      },
      "source": [
        "## 9. Comandos bash\n",
        "\n",
        "Bash es un programa utilizado en sistemas Linux que permite interactuar con el sistema operativo mediante comandos, comúnmente conocido como consola o terminal. En Google Colab, estamos utilizando un entorno de ejecución en la nube, lo que significa que estamos trabajando en una máquina virtual proporcionada por Google, la cual está alojada en sus servidores. Esta máquina virtual tiene instalado el sistema operativo Linux (específicamente Ubuntu), junto con Python y Jupyter.\n",
        "\n",
        "Google Colab permite ejecutar comandos Bash directamente en este entorno de ejecución, de manera similar a cómo lo harías en la consola de una máquina Linux. Para ejecutar un comando Bash en Colab, simplemente debes añadir un signo de exclamación «!» delante del comando que deseas ejecutar. Colab interpretará esto como una instrucción para el sistema operativo.\n",
        "\n",
        "Esto es especialmente útil cuando necesitas instalar librerías adicionales que no están incluidas por defecto en el entorno de Colab. Por ejemplo, si necesitas instalar una librería, puedes hacerlo ejecutando el siguiente comando en una celda de código:"
      ]
    },
    {
      "cell_type": "code",
      "source": [
        "!pip install nombre_de_la_libreria"
      ],
      "metadata": {
        "id": "Vrf3S-D5Fx-6"
      },
      "execution_count": null,
      "outputs": []
    },
    {
      "cell_type": "markdown",
      "metadata": {
        "id": "Gx2qcAFqBlHX"
      },
      "source": [
        "----\n",
        "Con esto llegamos al final de este tutorial! Recuerda que los temas que desarrollamos en los tutoriales de la cátedra son tratados de manera básica y contienen solo lo necesario para poder presentar de forma didáctica los contenidos de la asignatura. Entender Python en profundidad requiere un curso completo dedicado a ello.\n",
        "\n",
        "En [este link](https://github.com/vinta/awesome-python)  encontrarás una extensa cantidad de librerías de python para trabajar prácticamente sobre cualquier temática que necesites.\n",
        "\n",
        "\n",
        "Cualquier comentario no dudes en consultar con los profesores de la cátedra."
      ]
    }
  ],
  "metadata": {
    "anaconda-cloud": {},
    "kernelspec": {
      "display_name": "Python 3",
      "language": "python",
      "name": "python3"
    },
    "language_info": {
      "codemirror_mode": {
        "name": "ipython",
        "version": 3
      },
      "file_extension": ".py",
      "mimetype": "text/x-python",
      "name": "python",
      "nbconvert_exporter": "python",
      "pygments_lexer": "ipython3",
      "version": "3.9.7"
    },
    "vscode": {
      "interpreter": {
        "hash": "fd69f43f58546b570e94fd7eba7b65e6bcc7a5bbc4eab0408017d18902915d69"
      }
    },
    "colab": {
      "provenance": []
    }
  },
  "nbformat": 4,
  "nbformat_minor": 0
}