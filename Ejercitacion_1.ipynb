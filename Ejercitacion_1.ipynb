{
 "cells": [
  {
   "cell_type": "markdown",
   "metadata": {},
   "source": [
    " # Práctica de Python, NumPy y Matplotlib\n",
    "\n",
    " En este notebook, encontrarás una serie de ejercicios diseñados para practicar lo aprendido sobre Python, NumPy y Matplotlib. \n",
    "\n",
    " # Ejercicio 1: Tipos de Datos y Operaciones Básicas\n",
    "\n",
    "1. Cadenas de Caracteres\n",
    "\n",
    "- Crea una variable `nombre` con tu nombre y una variable `apellido` con tu apellido.\n",
    "- Combina ambas variables en una sola `llamada nombre_completo` e imprime el resultado.\n",
    "Operaciones Numéricas\n",
    "\n"
   ]
  },
  {
   "cell_type": "code",
   "execution_count": null,
   "metadata": {},
   "outputs": [],
   "source": []
  },
  {
   "cell_type": "markdown",
   "metadata": {},
   "source": [
    "2.Operaciones numéricas\n",
    "\n",
    "- Crea dos variables, `a` y `b`, y asígnales los valores 5 y 3, respectivamente.\n",
    "\n",
    "- Realiza las siguientes operaciones: suma, resta, multiplicación, división, y exponenciación. Imprime los resultados de cada operación."
   ]
  },
  {
   "cell_type": "code",
   "execution_count": null,
   "metadata": {},
   "outputs": [],
   "source": []
  },
  {
   "cell_type": "markdown",
   "metadata": {},
   "source": [
    "3. Números Complejos\n",
    "\n",
    "- Crea dos números complejos `z1 = 2 + 3j` y `z2 = 4 - 2j`.\n",
    "\n",
    "- Realiza las siguientes operaciones: suma, resta, multiplicación, y división. Imprime los resultados."
   ]
  },
  {
   "cell_type": "code",
   "execution_count": null,
   "metadata": {},
   "outputs": [],
   "source": []
  },
  {
   "cell_type": "markdown",
   "metadata": {},
   "source": [
    "# Ejercicio 2: Estructuras de Control\n",
    "\n",
    "1. Condicionales\n",
    "\n",
    "Escribe un programa que pida al usuario ingresar un número y determine si es positivo, negativo o cero. Imprime el resultado.\n"
   ]
  },
  {
   "cell_type": "code",
   "execution_count": null,
   "metadata": {},
   "outputs": [],
   "source": []
  },
  {
   "cell_type": "markdown",
   "metadata": {},
   "source": [
    "2. Bucles\n",
    "\n",
    "- Usa un bucle for para imprimir los números del 1 al 10.\n"
   ]
  },
  {
   "cell_type": "code",
   "execution_count": null,
   "metadata": {},
   "outputs": [],
   "source": []
  },
  {
   "cell_type": "markdown",
   "metadata": {},
   "source": [
    "- Usa un bucle while para imprimir los números del 10 al 1."
   ]
  },
  {
   "cell_type": "code",
   "execution_count": null,
   "metadata": {},
   "outputs": [],
   "source": []
  },
  {
   "cell_type": "markdown",
   "metadata": {},
   "source": [
    "# Ejercicio 3: Funciones en Python\n",
    "\n",
    "1. Creación de Funciones\n",
    "\n",
    "- Crea una función llamada `es_par` que tome un número como parámetro y devuelva `True` si el número es par y `False` si es impar. Prueba la función con algunos ejemplos."
   ]
  },
  {
   "cell_type": "code",
   "execution_count": null,
   "metadata": {},
   "outputs": [],
   "source": []
  },
  {
   "cell_type": "markdown",
   "metadata": {},
   "source": [
    "2. Funciones con Múltiples Parámetros\n",
    "\n",
    "- Crea una función llamada suma_complejos que tome dos números complejos como parámetros y devuelva su suma. Prueba la función con z1 y z2 del Ejercicio 1."
   ]
  },
  {
   "cell_type": "code",
   "execution_count": null,
   "metadata": {},
   "outputs": [],
   "source": []
  },
  {
   "cell_type": "markdown",
   "metadata": {},
   "source": [
    "# Ejercicio 4: Trabajando con NumPy\n",
    "\n",
    "1. Creación de Arrays\n",
    "\n",
    "- Crea un array en una variable `arr` con los números del 1 al 10 usando `np.arange()`, no olvides importar la librería NumPy con el alias `np`.\n"
   ]
  },
  {
   "cell_type": "code",
   "execution_count": null,
   "metadata": {},
   "outputs": [],
   "source": []
  },
  {
   "cell_type": "markdown",
   "metadata": {},
   "source": [
    "- Crea un array de ceros de tamaño 5 y otro de unos de tamaño 5."
   ]
  },
  {
   "cell_type": "code",
   "execution_count": null,
   "metadata": {},
   "outputs": [],
   "source": []
  },
  {
   "cell_type": "markdown",
   "metadata": {},
   "source": [
    "2. Operaciones Básicas con Arrays\n",
    "\n",
    "- Multiplica el array arr por 2 y guarda el resultado en arr2."
   ]
  },
  {
   "cell_type": "code",
   "execution_count": null,
   "metadata": {},
   "outputs": [],
   "source": []
  },
  {
   "cell_type": "markdown",
   "metadata": {},
   "source": [
    "- Calcula la suma de todos los elementos de arr2."
   ]
  },
  {
   "cell_type": "code",
   "execution_count": null,
   "metadata": {},
   "outputs": [],
   "source": []
  },
  {
   "cell_type": "markdown",
   "metadata": {},
   "source": [
    "3. Slicing en NumPy\n",
    "\n",
    "- Extrae los primeros 5 elementos de `arr2`."
   ]
  },
  {
   "cell_type": "code",
   "execution_count": null,
   "metadata": {},
   "outputs": [],
   "source": []
  },
  {
   "cell_type": "markdown",
   "metadata": {},
   "source": [
    "- Extrae los últimos 3 elementos de `arr2`."
   ]
  },
  {
   "cell_type": "code",
   "execution_count": null,
   "metadata": {},
   "outputs": [],
   "source": []
  },
  {
   "cell_type": "markdown",
   "metadata": {},
   "source": [
    "# Ejercicio 5: Visualización con Matplotlib\n",
    "\n",
    "1. Gráficos Simples\n",
    "\n",
    "- Crea un gráfico de la función seno (`sin(x)``) para valores de `x` entre 0 y 2π. Usa `np.linspace()` para generar los valores de `x` y `np.sin()` para calcular los valores de `y`."
   ]
  },
  {
   "cell_type": "code",
   "execution_count": null,
   "metadata": {},
   "outputs": [],
   "source": []
  },
  {
   "cell_type": "markdown",
   "metadata": {},
   "source": [
    "2. Personalización de Gráficos\n",
    "\n",
    "- Añade un título al gráfico anterior y etiquetas para los ejes X e Y."
   ]
  },
  {
   "cell_type": "code",
   "execution_count": null,
   "metadata": {},
   "outputs": [],
   "source": []
  },
  {
   "cell_type": "markdown",
   "metadata": {},
   "source": [
    "3. Subgráficos\n",
    "\n",
    "- Crea una figura con dos subgráficos: uno con la función seno y otro con la función coseno, ambos en el rango de 0 a 2π."
   ]
  },
  {
   "cell_type": "code",
   "execution_count": null,
   "metadata": {},
   "outputs": [],
   "source": []
  },
  {
   "cell_type": "markdown",
   "metadata": {},
   "source": [
    "4. Gráficos de Señales Discretas\n",
    "\n",
    "- Crea una señal discreta usando np.arange() y grafícala usando plt.stem()."
   ]
  },
  {
   "cell_type": "code",
   "execution_count": null,
   "metadata": {},
   "outputs": [],
   "source": []
  },
  {
   "cell_type": "markdown",
   "metadata": {},
   "source": [
    "5. Plano Complejo\n",
    "\n",
    "Crea una gráfica que muestre puntos en el plano complejo para los números complejos `z1`, `z2`, y su `suma`. Usa `plt.scatter()` para graficar los puntos."
   ]
  },
  {
   "cell_type": "code",
   "execution_count": null,
   "metadata": {},
   "outputs": [],
   "source": []
  },
  {
   "cell_type": "markdown",
   "metadata": {},
   "source": [
    "# Ejercicio 6: Gráfica de una Señal Cuadrada\n",
    "\n",
    "En este ejercicio, vamos a crear y graficar una señal cuadrada con una amplitud de 2, duración de 3 segundos, frecuencia de muestreo (fs) de 200 Hz, un nivel de DC de 0.5 y un desfase de 300 ms.\n",
    "\n",
    "**Paso 1: Configuración del Tiempo**\n",
    "\n",
    "- Define la duración de la señal en segundos.\n",
    "- Define la frecuencia de muestreo (`fs`) en Hz.\n",
    "- Crea el vector de tiempo `t` que va desde 0 hasta la duración, con `duracion * fs` puntos utilizando `np.linspace`."
   ]
  },
  {
   "cell_type": "code",
   "execution_count": null,
   "metadata": {},
   "outputs": [],
   "source": []
  },
  {
   "cell_type": "markdown",
   "metadata": {},
   "source": [
    "**Paso 2: Crear la Señal Cuadrada**\n",
    "\n",
    "1. Usa la función `signal.square` de la librería scipy para crear una señal cuadrada de amplitud 2 y frecuencia de 1 Hz (una oscilación completa por segundo). No olvides importar la librería primero.\n",
    "\n",
    "2. Multiplica la señal cuadrada por la amplitud deseada (2)."
   ]
  },
  {
   "cell_type": "code",
   "execution_count": null,
   "metadata": {},
   "outputs": [],
   "source": []
  },
  {
   "cell_type": "markdown",
   "metadata": {},
   "source": [
    "**Paso 3: Añadir Nivel de DC**\n",
    "\n",
    "1. Suma un nivel de DC (0.5) a la señal cuadrada."
   ]
  },
  {
   "cell_type": "code",
   "execution_count": null,
   "metadata": {},
   "outputs": [],
   "source": []
  },
  {
   "cell_type": "markdown",
   "metadata": {},
   "source": [
    "**Paso 4: Aplicar Desfase**\n",
    "\n",
    "1. Desplaza la señal en el tiempo por 300 ms restando el desfase del vector de tiempos."
   ]
  }
 ],
 "metadata": {
  "language_info": {
   "name": "python"
  }
 },
 "nbformat": 4,
 "nbformat_minor": 2
}
