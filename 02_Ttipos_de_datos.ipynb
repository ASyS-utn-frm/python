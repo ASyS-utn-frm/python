{
  "cells": [
    {
      "cell_type": "markdown",
      "metadata": {
        "id": "_Gx27H_2kv3B"
      },
      "source": [
        "<center>\n",
        "\n",
        "\n",
        "<div style=\"display: flex; justify-content: center;\">\n",
        "    <img src=\"data:image/jpeg;base64,/9j/4AAQSkZJRgABAQAAAQABAAD/2wBDAAYEBQYFBAYGBQYHBwYIChAKCgkJChQODwwQFxQYGBcUFhYaHSUfGhsjHBYWICwgIyYnKSopGR8tMC0oMCUoKSj/wAALCAB1Aa4BAREA/8QAHQABAAIDAQEBAQAAAAAAAAAAAAcIBAUGAwEJAv/EAFMQAAEDBAADBAUFCQwIBgMBAAECAwQABQYRBxIhEzFBUQgUImFxMjeBkbEVGCNSdHWUsrMWMzZCVFVygpKh0tMkNENWc7TB0Rc1YoTh8CU4ZHb/2gAIAQEAAD8AtTSlKUpSlKUpSlKUpSlKUpSlKUpSlKUpSlKUpSlKUpSlKUpSlKUpSlKUpSlKUpSlKUpSlKUpSlKUpSlKUpSlKUpSlKUqvnpG8YMl4c5TbLfYWbcuNJhduoymVLVz86knRCh00BUS/fR55/JrF+iuf5lXStEsXC0wpiSCmQwh4FPceZIPT66j/wBIHOrpw9wZm82RqI7KXNbjlMpClI5VJWT0BB37I8arl99PnH8gsH6O7/mVZzghl9wznhzAv13bjNzH3HUKTHSUoAS4pI0CSe4eddFm94Vj+G3y8N9mXYMJ6QgODaSpKCUg+7YFVB++nzj+QWD9Hd/zKmf0b+K1/wCJUu/Iv0a3stwEMqbMRtaNlZXvfMo/i1ONVDzn0kcxsWZ320w4VkVGgznozSnGHCopQspGyHB10PKpn9HbiFduI2JXC531mG1IjzTGQIqFJSUhtCuoUo9dqNSrSlVd4zcfcqwriRdrBaolochxOy7NUhlxSzzNJUdkLA71Hwrs/Ru4rX3iW/f0X6Pb2RASwWvVG1I3zle98yj+KKme4vKj2+S83rnbaUtO+7YBNUq++jzz+TWL9Fc/zKffR55/JrF+iuf5lPvo88/k1i/RXP8AMp99Hnn8msX6K5/mU++jzz+TWL9Fc/zKffR55/JrF+iuf5lW64cXqVkeBWG83BLSZc6G2+6GkkIClDZ0CTofTXlxPv8ALxbh/fL3bkMrlwY5dbS8CUEgjvAIOvpqq0L0qcxRLZVMtdkdjBYLrbbTiFKTvqAorOjrx0fhVscFy605vjke82KQHYzo0tB6LZX4oWPBQ/8AkbBBroKUqCPSO4uX/htdrLGsMe3PNzGHHHDLbWsgpUANcqh51qfR/wCNuS8Qs6cs17i2tqKmG5ICozS0r5kqQB1KyNe0fCpf4tZFNxPh/dL1a0sqmRizyB5JUj2nkIOwCPBR8a66oUsGWcUMtuOSHGm8OZt9qu0i2J9fRJDiuzI0TyEjuI8uu+lTNF7b1Vn1rs/WOQdp2e+Xm111vrrdRXxj4rO4JkFjgQYaZiFf6ZdjyKUqNC50t840ehKldCdj2deNSsy6h5lDrK0rbWkKSpJ2FA9QRXH8Ts5bwu3Q0x4Lt0vdye9Wt1uaOlPue8+CRsbPvFcwJfGphr1523YZKSfaNtadeQ8B+KHCeTm/uqVoy1uR2lut9k4pIKkb3ynXUb91cZgOWzshyfNLdNZjNsWW4Jix1NJUFLSU72vZOz8NUu2WTofFuw4s0zGMCfAflOuKSrtApB6AHetfRXR5XcXbRi14uUZKFvw4b0htKwSkqQgqAOvDYrB4d3uRkuC2K9TkNNyp8RuQ4hoEIClDZABJOvpr0zMZObY3+4s2YXHtRz/dUOdl2ejvXZ9ebfL7tbqKcfyvi5fMkyKyRUYMiVY3GW5C3ESuRZcQVJ5NEnuHXYFTZbvW/ufF+6XYevdknt+w32faaHNy768u96311UV5dxbVYuLtsxpEVtyyAtR7nNKSTGkPhXYJ5t6A9kE78CfKpcqNeK2W5NZcmxGxYg1Z1TL4uSgruaXC2jskJUPkEEdCrwPhWpuubZ/gzTdxz2y2Sdj4WlEmbYnHeeIFHQWptzqpOyO6pcjPtSY7T8dxLjLqAtC0nYUkjYI92qrJ6blhW7bMcv7SCUMOOQ3iB3c4Ckfqr+uqlVe30Wc7Yynh5GtL7w+61lQmM42T1WyOjax7teyfen3isD0y/mlj/nRn9RyqQ1fX0UPmRs//ABpP7ZVc76XudsWbDBi0R4G53flLqUnq1HSrZJ8uZQCR5jmqllXO9C2wuQcCut4eRym5zOVv/wBTbQ1v+0pY+irDV+a/Fn50cu/O0r9qqrR+hP8ANxefzqr9i1VhaUqgHpQ/Pjkf/t/2DdSh6Df+tZh/Qi/a7VqpTKZMV5hZIS6goJHeARqq+feo4n/Pl9/tNf4Kfeo4n/Pl9/tNf4Kgn0hOG1s4aZBa4FomTJTcqKX1qlFJIPOU6HKB06VquBmEQeIOdosd0kyY0dUZx7tIxSF7TrQ9oEa6+VWL+9RxP+fL7/aa/wAFPvUcT/ny+/2mv8FTlidjYxrGrZZYjjrseAwmO2t3XMoJGgToAbrl+PnzN5Z+RK+0V+dNdzwk4kXbhvkaZ9uUXoLxCZkJStIfQPsUNnSvD3gkG/8AhWVWnM8ejXmwyA/DeGiD0W2sd6FjwUPL6RsEGt5SqienB/CLF/yV79dNc36G3zuPfmx79durMekV8zt/+Mb/AJlqpHquXC3h/b8tuOezZl0v0NxrJ5rIRb7guO2QCk7KR3q6nr8KsK2lq329CVukMRmgC46vZ5UjvUo+4bJqt+P2nOM+kZZltniY05aMnSuAym8KfDqYbZU2nkCBpIVrm+I3Ui+j7dpwxqZiV/Un7vYs/wCoPgK3zs62y4N/xSnoPcn31g8a1LxzN8FzmUw6/ZLO7IjTy2grMdL6AlLuh4A739HnXZSeJmEx7X90Xcqs3qvLzAplIUo+4IBKifdrddVFfblRWZDB5mnUBxB1rYI2KhrAb3bcW4tcRbVkU2PbZVwmtT4ZlLDSZDRQRtClaBIPQj4+R16NXWDlXpG2p/HpLVwiWazvImyY6gtptbitJRzjoVeOh7/I6kXiN832T/muV+yVXG8GsvxqNwvxOHJyKzsy0W9ltTDk1pK0q5QOUpKtg+6pTqJuFfzwcWvyqB+wVUkZJeIuPWC4Xe4K5YkJhb7h8SEjeh7z3D3mq2WbAuI2U4FeXHI+KhnLnRdXnJi3xLaJ0poApHKnlAHKPDZBqa+DGUvZXgcN+4bTeISlQLi2r5SJDXsq37z0V/WrluL82LbuLvCqXcJTESK29PK3n3A2hP4FI6qPQdSBX3jNxBx+bhVyxzH58W+3+9MqgxINvdS+oqcHLzHlJCQBs7PlUkYVanbFh1jtMhYcfgwWYziwdgqQgJJH0isTiLikbNsMulgmEJTLa024RvsnB1Qv6FAfEbFfnBkNnnY/e5tpuzCmJ0N0tOtnwI8R5g94PiCDWTiGTXXEL/GvFhlKjTWD0I6pWk96VDxSfEf9amPi7xvgcSOFse1SIDsC+tTWn3EJ9thaUpWCUq7x1UOhH0moCqwmA8eYuA8H4FhtEByZkCFPqK3hysM8ziiknrtZ0R0GvjUG5Fe7jkd5lXW9SnJc+SrncdWep8gB3AAdAB0ArKwrGbhmGTwLHaGyuVLcCd69ltP8Zav/AEpGyfhX6R4nYomMY3bbJbU6iwWEsoJ71aHVR95Oyfea2tfmvxZ+dHLvztK/aqq0foT/ADcXn86q/YtVYWlKoB6UPz45H/7f9g3Uoeg3/rWYf0Iv2u1a+lKp16bn8Nce/N6v2iq530QPnjZ/IX/sFXnpSuB4+fM3ln5Er7RX51p+UNjfWpf498HZXD+aLpaEOyMYlKHZuE8yoqj/ALNw+Xkrx7j17+c4P8TLrw2yES4ZVItj5CZsEq0l5PmPJY8D9B6E1f3D8mtWX4/FvNikpkQpCdg9ykK8UKHgoeIrc1UT04P4RYv+Svfrprm/Q2+dx782Pfrt1Zj0ivmdv/xjf8y1Uj1H8DP+HFnvE21w71ZbfPdmLMppOmeaRvlWVnQBVsaJJ8K7qVHYmxHY8ppt+M+gocbWApK0kaII8QRXP33JcVwGBb412mwrLDWktRWuXkRpAGwkJGgBsfXWNh2RYXlF4uE/FZVtm3MNoTLkR29OlHXkC1aBI6HXwrrXkIcaWh5KVtKSQpKhsEHvBHlUNu3rgZasgUD+5Fq5IX1W3EQpKFePtBJSD9NS9b5kW4QmZdukMyYjqQpp5lYWhafMEdCK5rKm8PveQW/G8mgwLhc5DK5MViVF7X2E/KUFFJCfrBre2OyWuwwhEsluiW+LvfZRWUtpJ8yAOp99czlvEfBbJIftGSX63IdWktvxV7d9kjRStKQdbB7jXjj2IcNb3CZudgx/F5sYq2iRGhsqAUPeB0I8u8V1l/vNux+0v3O9S24cBjl7R9w+ynagkb+kgfTX22QbY29IuVsjxEu3EIdelMITuSAPYUpQ+V0PQ+RrCRJsGYQ7nbz6ndosaQYk2O4gOIS6gglCkkaJB0a3aEJbQlCEhKEjQSBoAeVaDEpWN3BV1mYsYDilTFtTnYiAkrkJ+VzkAcyuo6+O6yr/AI1Y8iDIv9nt9zDG+yEuOh3k3reuYHW9D6q1WDQcMSmZIwu32djsH1xJDkGKhopdTrmQSAD02K6ulQ/x84NROIsEXC2KaiZLGRytuq6IkJHc25/0V4fDuo/klguuM3Z62X6C/BnNfKadTrY8we4g+BGwa1dKVvMPxW9ZheG7Zj0B2ZKWRvlHstj8Zau5I95q9PA7hLA4aWha1rRMv0pIEqWB0SO/s299QkHx7yep8AJPpX5r8WfnRy787Sv2qqtH6E/zcXn86q/YtVYWlKoB6UPz45H/AO3/AGDdSh6Df+tZh/Qi/a7Vr6UqnXpufw1x783q/aKrnfRA+eNn8hf+wVeelK4Hj58zeWfkSvtFfnUn5Q+NfqLMt0O7WZyBcozUqFIZ7N1l1O0rSR1BFUY4+8HpfDq6GfbQ5JxmUvTLx6qjqP8AsnD9ivH41ouDfE+6cNcg9Yjc0m0yCBMhFWg4n8ZPkseB+g9Kv3imR2vK7DFvFilIkwZCdpUO9J8UqHgodxFVb9OD+EWL/kr366a5v0Nvnce/Nj367dWY9Ir5nb/8Y3/MtVI9U7uN/MDFuJtqexUz4twyWbHF5f5fVoTjikpClnRUkp6KB7tkVanB7cu0YZYrc7MTNXEgssmSk7S7yoA5gfEHXT3VF/HyS9DzvhnIjWld4eRLmFMFspCnvwSegKunTv6+Vd1w+us25qnev4Y/jPZhHIXVNK7ffNvXJ5aHf+NXN+kjPlRsEhW+LJciNXi6xrZKkNnRbYcJ5zvw2E6PuJreXhnEuHOIR2FWLdoChGDESAZKiSknmWACT0SdqPj399bXhxcbDdsMt03EWEx7G4F+rNJZ7IJAcUFaR4DmCq4vJP8A9k8P/M0v7a6/ipdpdi4cZJdLaSmbFguuNKA3yK5eivo7/orQ8GMMsFp4e2d+PDjS5dxiNy5c11AcckOOJClFSjskbPQf9d1zkG2xcL9IuFb8aQmLbshtjsidAa6NIdbJ5XgkdE70U9OnU+dbj0nfmQyT4Mft260eMzZPB/IImN3uQ69g10Xqz3B5WzAdV19WdV+KevKo/wDfl3HAgauHEkH/AHrmfYit3xvzAYTw3utzacCJziPVYezr8Mvok/1RtX9Woc4J3jHcJ4jwMdsF/jXS2X+3th9TTpUG7i0PaPXuSsb179Dwqz1RN6OX/kWX/wD+on/aipZqCeP3Gq7cNMnt9sttrgzGpMMSVLkKWFBXOpOhojp7IqMPvsMk/wB3rR/ac/xVo8r9IN3LoIh5JhWPXBgdU9r2vMj3pUFcyT7wRUM3eRDlTVu2+D6iwruYDqnAn4FXX691hVsrHMgQpgeudsTc2R/sFvraSfiU9fqIqZ8b9I2XjFuTBx/Dcet8UdeRgOJ5j5qO9qPvOzW2++wyT/d60f2nP8VS56PnF658Tpt6ZuduhQ0wG2loMcqJVzlQO+Yn8Wppr83+NLBj8WsvQoa3dH1ge5Syof3GrI+hHKQvCshiBQ7Rq4JdI8gttIH6h+qrH0pX57+klKTL425QtCgpKHm2unmlpCT/AHg1MfoOR1CPl8kj2SuK2DrvIDpP2irS0pVOvTc/hrj35vV+0VXO+iB88bP5C/8AYKvPSlcDx8+ZvLPyJX2ivzqT8ofGv1Pj/wCrtf0R9leF3tkK82yTbrpGalQZKC26y4NpWk//AHv8Kohx54QTeHF29agh2VjUpf8Ao8kjZZUf9k57/I/xh79gavgtxSufDW/dq1zybLJUBNhb6KH46PJYH19x8x3/AKXN+tuTuYXeLJJTJt8qE8ptxP8ATSCkjwIPQjwNa/0Nvnce/Nj367dWY9Ir5nb/APGN/wAy1Uj1wOE8PkWe2Zhb705HuEPILpKnKaCCAGngByK34jXeKzeFuMXTDsdVY7jcm7jBiOqTbneUh1Efe0tueBKe4EeHTwrXcUcMveSXnF7tjdzgwJ1kdedSZbKnUqLiUp7gfAA/XW2wqFmcWTKOYXe0z2FIAYTCiqZKVb6kkk7Gq2OaYxbcxxqZY702pcOSnRKDpaFA7StJ8FAgH/4rgI+LcVLdB+5ULM7LMgpSW25k+Aoyko7hvSuVRA8T1NdlwyxMYPg9rx1MwzfUkrBfLfJzlS1LPs7Ovla7/CvO5Yf67xKs+Weu8n3PhPRPVey32nOd83Nvpry0a6abFYnQ34ktpD0Z9tTTraxtK0qGiCPIg1Ett4fZzhza7dgeWQTYOcqYh3iKp1UQE7KULSdqHXoD/wDJ6Ph9w+Xj94n5FkF1dvuUz0Bp2c42G0NNA77JpA6JTsD46HdWfxZxR/N8AumPRJTUV6Z2fK86kqSnlcSs7A69ydVt8jx23ZLjkmyXuOmTBkNdm4k9/uUk+BB6g+BFcpwX4fSOHdnu9vk3P7pCXcFym3lJIXyFCUgL33q9nrWZlmFvZNnWN3O4SWFWOzBx8QSgkvSVDSVq8NJHUe/fnX88SsBjZVjYi2v1a2XeNIamQZqGQCw82rYPTrrWx9PurtIvbCMz60WzI5B2hb3y82uut9dbqHbBgPEPF3bw1jmS2FqDPuL9w5JEFbi0qcO9b2PACpas6JzVqiIuzzL9wS0kSHWUFCFua9opB7hvwqn/AKbPzh2T81J/bOVXelKUpSrP+g7/AObZb/wI36zlW1qlfpgYU/Z85Rk0dom3XdKQ4sDoiQhOik+XMkBQ8/a8q4TgjxNk8M8nXMDKpVrlpDUyMk6UpIOwtPhzJ2db6EEjpvYu3iPFHDcritu2m/wu1UNmNIcDLyT5FCtH6Rse+umkXi2Rmi7IuMNpsd61vpSB9JNRDxS9ITGMXgPx8dlM3y9EFLaY6uZhpX4y3B0IHkkkn3d9UguU6Tc7jKnTnVPS5TqnnnFd61qOyT8Savr6NGFPYZwyiouDRauVyWZshChpTfMAEIPkQkAkeBJqVqUqnXpufw1x783q/aKrnfRA+eNn8hf+wVeelK4Hj58zeWfkSvtFfnUn5Q+NfqfH/wBXa/oj7K9Kwb5aYN9tEq2XaM3KgykFt1lwbCh/0PiCOoI2Kobx14ST+G95L0cOSsclLIiyiNlB7+yc8lDwPcoDY8QIuLi1NpbK1FtJJSknoCe/Q+gfVU5eht87j35se/XbqzHpFfM7f/jG/wCZaqR6r7w54tXaLlt3h52+j9z8q7yoNtuiwlCI7rSv3hwgAAFJSUk9d76nrr3sfE+/ZPxpx1m3BUXBp/rjMQqbTzTyy2Sp7qOYJ5iAnWu4767AnuoKgu5jlmfZtEh5+7YYNonIjsR0wWHgUqRvvVo/bUx43FlwbHEjXK5qu0ttGnJqmktl47J3yp6DpodPKo046ZZlWNXzDGsNbEt+Y9JL8ApSfW0NtpWUbI2Drm1rrvXf3V08bN4eS8LblkuNyClSID7iQoDtI7yGyShafBSTrp3HoeoNZvCu5zL1w4xu5XN4vzpUFp550pA51lIJOhofVXC55Nyq6carfimP5Q9YYTllM9am4jT/ADLDqk9yx4jXj4V5Xm85vwukwbhlF8YyjEn5CI0uQqGmNJhFZ0lzSPZUnffvr3CpoBBGx3VClru2acVbjcZmM31GL4hEkrix5DcZL8mcpB0pftdEo33a+HXrrJi37LuHmX2a0ZrdGsgx69PiHEuvq6WH48g/JbcSnoQruB7+8+GqmFQJSQDokdD5VCub2zKcOxqbfLxxYuKIkZOwhNpi87ij8lCenVRPQfX3V1fBWLlyMRbnZ9dHpl1naeTHW0hv1VvXspISke0d7O+7oPA76/JLxFx6wXC73BXLEhMLfcPiQkb0Pee4e81FfAPOcgvky52fOAG7u603eIIICeaG8NhIAA6IOh16+1o91TLWNKgQ5awuVEjvLA0FONhRA8uorTZK7jGM2aRdb4zbYcBgbW64yn6ABrZJ8AOpqonE7j/Ku8l2JhNsiWa2glIkqjNqkujz7iEfAbPvqDZUh6XIcfkurdecPMtazsqPvNeVZECbJt8tuVBfcYkNnaHG1aINT7wt9IP1GQ1Bz+1Q7jCUQn7oMxUJfb960gaWPho/GraWdnHrzbI1xtUe2y4MhAW0800gpWPq/u8K2cWFFiFRixmGCr5RbbCd/HVZFarKMftmUWOVaL5FRKgSU8q21eHkoHvBB6gjqKqDxI9GfI7LIdk4gsXu272lkqCJLY8iDoL+I6nyqFLvjd8szqmrtZ7jCWk6IkRlo+0VrUNOOK5W21qV3aSkk11uMcM8zyZ1CLPjtwcQoj8M40Wmh/XXpP8AfVneDPo5w8YmR71mLzNyurJDjMRsbYYV4KJPy1Dw6AA+fQ1YalKVUf0zbTcrjmVhXb7fMlITAIUphhSwD2iuhIFc/wCibZbrA4uMvTrZOjM+pPjtHo60J3odNkaq7FKVwvHRh2TwiylmM0488uGoJbbSVKUdjoAO+vz+TjF+5h/+Eunf/JHP+1fpxH6MN7/FH2V/dK1+Q2W3ZFZpVqvMVuXAko5HWljoR5jyI7wR1B61RHjDwZveC5CW7dFl3OyySVRJLLRWpI/EcCR0UPPuPePEDr/REs10gcVnnp9tmxmjbXk87zC0J3zt9NkVYj0ivmcv/wAY3/MtVI9Qhwjxm2ZXg+b2fIIYkQZGTziUK2kghSCFJPeCPMVn5VAYt/HLhVEgR0sQ40S4NNttp0htIZAAHlUwVVOQeGTfFPiD/wCJsdK5CrigxCtqQr2OT2tdkNd+u+rHYHIscnELW5ievuEGuSIAladISSnWl+13g99cVxPSo8WuFJCSQJc7ZA7vwArnOLuL3TDTf8swqOp+3XSK6zfrSjoF8yFJEpseC072rQ6jZ8SakHgoCnhJiIUCCLazsH+iKj3PsntOIekfa7rkMlcWAccUz2oZW4OcvqIGkgnwNeefZO3xlt7GHYPEnSbdLktLud2ejLZYjsIWFkJKwCpZIGhr/uJ5QhKWw2B7IHKB7qgTAcojcGmZmH52zKg25mW69bLulhbkeQytRUAopBKVgk7Hv+BPveb1/wCMmW4zBxaLLXi1muDd1m3d5lTTbq298jTXMAVE7O+njvw6zqtSUIUtaglCRsqJ0APOqw3HibiWX8Ukzsruhj4rjzm7XDMZ1wTpHjIWEpI5U69kH3HxUKnXCeIGNZu5LRjNwVMVECVPAx3GuUK3r5aRv5J7q4jjw3Ly64WDhza31R13dwzLhICOcMRWuo2O48ywNDzTrxrm85xbJ8EuVl4gzcnfyIWV1EeSwLc1HUITh5XNdn8rWwQCOnf01VgY7zcmO0+wsLZdSFoWO5SSNgikl9qLGdkSXEtMNILjjizpKUgbJJ8gK/P7jzxQl8RsoX2DjjePw1lEGOegUO4uqH4yv7h08yYwropWF5BDxNGSzLY/GsrjqWWpDw5O1UoEjlSepGknqBr31ztdC5hmQIxKNkwtj7lifK0iW0AtKClRSefXVHUd50DXPVMvo48V38DyJu13V9SsZnuBLyVHpGcPQOp8h3cw8R17wKvekhQBSQQeoI8aUpQgEaI2K/hLLSFbS2hJ8wkCv7pSlKUpSlKUpSlKUr4tKVpKVpCknwI3X2gAHcNU0N711pXwpSTspG/hX0AAaA0KaBI6d1KAaGh3V8KQe8A19pXxSUrSUrAUk94I3X0AAAAAAeAoRsaPdXzkT+Kn6qAAdwA+FfdDe9DfnQ9Ro91B0Gh3VBvpd5Y5YOGyLVFcKJN6e9XUQdHsUjmc+v2Un3KNUdqyPorcI4uRE5dk0ZL9tYcKIMVwbQ+4n5Tih4pSegHcSDvu0ZM9MoBPCOMEgAC6MgAf8NyqRVfP0VW0PcDbU06hLja3ZKVIUNhQLq9gjxFQL6T/AAlYwq5M3/HmezsM9woWwkdIr2idDyQoAkDwII7tVA1X79GHLHMq4UwBKcLk21rMB1RPVQQAUE/1Ckb8walhaghClKOkpGyT4Cta1f7U9jpvzc5lVnDCpJlg+x2QBJVvyABr5KyC0xEWxcm4R2kXNaW4alr0H1KTzJSnzJHdWRNukKDLgxZcltmROcLUZtR6urCSoge/QJ+ivL7t231y4xPXGjJtzSXpbYO1MoUCUkj3hKvqrzfyOzx8cF/euMZFlLSXxMK/wZQrXKd+/Y+usHJs3xrF347GQXiNAefQXGkOk7UkHWwAK9LlmWPWzH4l8uF2jR7TLKQxJWSEuFQJSB031AJ+is+xXq23+2NXGyzo86C5vleYWFJJHeNjxHlWtsGb4zkN1kW2yXqHNnMJK1tMr2eUHlKge5QBIGxsdazW8itDtvuc5u4MKiWxx1qY6Feywtrq4FeRT41p7HxJw2+3BuDasjt0iY7+9sh3lU57kg65j8K6C9XWDZLXIuV2lNxIMdPM684dJQN66/SRWSp9pMYyC4nsAjtC5vpy63vflquStHE7CbvPZhW7Jba7KePK032vKXD5J5tbPuFdjXDSeLWCRpDkd/JoCHm1FCkEq2CDoju8NVtrznGNWW12+43W8RYsK4JCorrhOngQFbT033EGthZL9a75aE3S0zWZNuVzakJOk+ySFdT5aNaO18TMLut3btduyW2yJzi+zbbQ7++K8kK7lH4E10Dd4tzl7ds6JrBujTIkLi834QNk6C9eWxrdf2zdIT91k21qS2ufGbQ68wD7SEL3yk/HlP1Vz2QcR8Px66G3XnIYEWaNc7Sl7Le+7n1vk/rarfy7xbollcu781hNsba7dUoLCm+z1vm5h3jXjWY04h1pDjagpCwFJUO4g9xrg8u4n4/j+R2+0PXi0tOqdInqfka9VRy9AQAdKUopA5tADZPhvu2Xmn2G32HEOMuJC0OIUClSSNggjoRrxrkmOJuFSLum2M5LbVzFO9ilId9lTm9coX8knfTQNdI7dITV2YtjkltNwfaW80wT7S0JIClD3AqH11qcpzfGsUdZayG9Q4Lzw5m2nF7WoefKNnXv1qtpZLvbr7bGbhZpsedBd3yPsLC0q0dHqPEEEar5bbxb7nInMW+YzIegveryUNq2WnNA8qvfois+sC03m3XgzBa5rEow5C4sgNK2WnU/KQoeBFf3a7nCurTzluktyEMvLjOKQd8riFcq0n3gjVfzbrxb7lKnxoExmQ/Ad7CShCtlpegeVXv0a1+U5hj2KIZVkV3iQC9+9IdX7a/PlSOpHvAr+oGXY/cMcfv0G7w5FnYSpTsptzmQ2EjaubyIBB0etZ8+7W+32ld0nzY8a3IQHVSHlhCAk9x2fPYrS4vn2K5VKcjY/fIc2ShPMWUK5V8v4wSdEj3jpW4N5tqb6myqmsC6qj+tCKVacLXNy84HiNgiv7TdISru5akyWzcW2EyVR9+0G1KKQr4EpI+iv5fvFvYvMa0vTGUXKS2t5mOVe2tCNcxA92x/9Br+p90hW9+EzNktsuzXuwjpWdF1zlKuUe/SSforMqnnpuzFrzLHYRP4NmAp4D3rcIP7MVW6v0z4d2dqwYJYLXHSEojQmkHXirlBUfpUSfpqKfTL+aWN+dGf2btUiq+voofMjZ/+NJ/bKrpeOdnavnCTKYryQeSE5JQT4LaHaJP1pr85atV6Dk1e8ugk/gx6s8keR/CA/YPqq0stCnIryEdVKQQPjqoBteU2OL6M0iySbpEZvTVofti7ctwCSJXKpsNdl8rmKiPD391b/iBj0a7weFtgvsdRZdkdg+3zFKkqEF3qCO5SVAEHzArUybjeYXEnAMVyntZM+DcXnYl05PYuEX1V1IWo+DqSQlafeCO+u1xPR418QB//ABWz9V6uKttnnfu5j8NHGFjHLXcFZCl3+IuGVc7EfXiEyCrof4rYrZcSrhJt3GeyvQ79ZrE6bFISZN2QFNKHbt+wBzo9o6339wPSsviq/Nm4zw9dg3S2ybk7kEPspzbfPFcd7N32wkL2Ub30Cvpr24OdnAg5haMgPZ5Gi4vTbu0gcraw6kcrrAHXslISNfxuYK31rA4VXli2ZNbcStd4tmS2E25yRbJscpMmC0lSB2L/AC9NEKACuhJSQR06Y1tIPCnjJog6ud8/UNYuW5DjF44I2uyw50C65I9bozNthwnkOykSwhHIpISeZBSobKumgDutpxaXc8guOPYbEtSb8tltF1vUQSUx0Oto9ltClka0p32ta2Q3WdwtuU5PD684xf0KYvmOsriPNLdDiuwU2VML5h0UOQhO/EoNcqjJcQlejna7LOnW65XRyytR41tYcS9KMrswGwltO1JWF6666a3U24ozPj4vZ2bwvtLm3DZRKXvfM6EALO/H2t1x+UfPbgn5vuf2MVpOOMp2Fl3DuRGulutLyJkvlmXFPMw1uMoe0OZPfvQ9odSK9eIK7heuCspYuUPIPwzapztlTpD8VL6S8hAC1dezBBHN10fPVdLbcywCVEtEa3XmwutOuNNwIrLjZUFkgICWh1SQdeA17q4zIsYdyDjDkUq0y/UMitlrgP22Z1KULK5AU2sD5Tax7Kh5dfCvXhTf38h4p5hImQHbbdGLdAjTIjo/eX0qf5gk/wAZB2FJUO8EV4cHsgxfHcJlWzKp9ttmRsSH/u41cHENuvvFaiXDzaLiVJIII2CNCtXDYW16OOeussOxrNJVcZFoYdSUFuEo7bASeqUk8ygPJQqWcXyKz3m1MxbHerZNmtxEqLceUh1SPZA2pKSSBsio74R5HiGP8PFWvJJ9ttl6jKdTe41xcQh9yQVErUsK6uBW9gjYIIA8qwLdbb076OeTMWOPLZblOy3rTF5Sl5NvU9zJbCT1BLfPyjyUK2V+4i2G14tjpws4xOs63mI6rc9I5JDXM4hKA2wATzJ2SoK0Ry7610d6+fbGPzLO/aMVpMMu9lxziBnDeXzIdvyCVcC/HkznEtdvAKEhlLa1aBSnSgUg9DvddVds0sNp4f3TJLE7EmQWO07L1TRRIkFXKEJKeiipwgbG97qK+HETIOHeXWh/JbMbdDvw+59ylmeiQJNwUtbrbygkewVFS2/EdUDw62IqAMTtNztkjJszxNtcm4MZBcWLlbUq6XGMl9RASO4PI2Sg+Oyk73W44dZjBtHCPKcrRzrifda4yo7a0lK3St9XZI13hSlKSnXma5zh3FyHh9ltom5NZlW+Lfv9AukwzkPiTPcWt1p5SUj2NqUtvxGlJHh1662XKz49xly17MJMWDcJqI6rTLnLCG1xEtgKbaWroCHOYqTsE7B61sOIl2sV54O53IxuVClsJhyUPvQylSFPBob2pPRR0U9evhWs4kFiPF4cXG+NlzFIUlLly2nnbbUWClhxwfiJcPUnoNiv44iXqw5LkGFxcSmwrnkrN2YktO291LpjRUn8Opxad8rZRtPKT7RI0DXnm+M/um40PIiTFW+8wMeYl26cjqY7wkujZH8ZChtKknvBNf3w5vsu+cYryq8QF268QrFHhz45+QHUvuq5m1fxm1JUlST5H3VxF8dyXIb9cOI9hsC50W3y0uWqemchH+hRi4l5CWtcyg9t49+ztOu7rInEi/2uQ5wxvvr0dq0v3hEhMl5wIQEKivEEknQ7x31JNou1uvMUybPcIk+MFFBdivJdQFDRI2kkb6jp76/uXb4UxYXLhx31gaCnWkqIHl1FeP3EtP8ANkH9HR/2rYAAAADQFYtxt0K5xwxcocaWwFBQbkNJcTsdx0QRvqa1v7kMa/3es/6E1/hraQIUW3xkxoEZiLHSSUtMNhCRs7OgOleziEOtqbcSlaFApUlQ2CD3gitb+52yfzPbv0VH/asqDbYMArMGFGjFegostJRza89CsqsBVmta7kLiu2wlXAd0osJLo/r63/fWW7HZecaW602tbSuZtSkglB1rYPgdEj6a+OxmHnWXHmW3HGSVNqUkEoJGiUnwOunSiI7Lch19DLaX3QA44EgKWB3AnvOtnXxr++zR2pc5E9oRylWuuvLfl1NYdxs9sua0KuVuhzFIGkmQwlwpHu2DqvVFvhIYjsIiR0sx1BTLYaSEtEdxSNaBGz3V6eqxxLMrsGvWijsy9yDn5N75ebv1vrqvCDarfb3X3YECJFdfPM6tllKC4fNRA6n416phRUsvtJjMBp8qU6gNjlcKvlFQ8SfHffWNb7Jara6p23WyDEcUNFbEdDZI+IFZaI7CJDj6GW0vuAJW4EgKUB3AnvOtn66+eqx+3de7BrtnUhDjnIOZaRvQJ8R1PT31iQLFaLe/28C1wIr2tdoxHQhWviButjXkuOyuQ2+tltT7YKUOFIKkg62Ae8b0PqrxuNsgXNCEXKFFloQdpTIaS4EnzGwa9IMKLb44jwIzEVgEkNsthCQT39B0rFjWK0RZypsa1QGZi+qn246EuH4qA3WamOymQt9LTYfWkJU4EjmUBvQJ7yBs/XXxEZhEhyQhltL7gCVuBIClAdwJ7yBs/XWLPstruElqRPtsKVIa/e3XmELUj4EjYrLkMNSWFsyGkOsrHKttaQpKh5EHvFYdustqtjqnbbbIMR1SeVS2GENkjv0SAOnSvs2y2qdLblzbZBkSmvkPPMIWtHwURsVn1rk2K0JuRuCbVAE8nZkiOjtSfPn1v++sxUdlUlEhTLZfQkoS4UjmSk62Ae8A6H1Vj3S0267NobutviTUIO0pkspcCT5gKB1Xp6hD9Waj+qR/V2iFNtdmOVBB2CBrQIPdXpJjsSmw3JZbebCgoJcSFDYOwdHxBG69a82I7McLEdptoLWXFBCQnmUepUdd5PnXibdCLJZMON2Rc7Yo7JPKV75ufWvlb677916yY7Eprs5LLbzewrlcSFDYOwdHxBANeNytkC6MBm5wosxkHYbkNJcTvz0oGvrdvhNwDBbhx0QikoMdLSQ3ynvHLrWqyC02Wi0UJLRTylBHTXdrXlWHbLRbbUHBa7fDhBw7WIzCW+Y+/lA3WV6uyJJkBpv1go7Mu8o5ine+XffrZ3qvnqzBkLfLLXbrQG1Ocg5lJGzyk9+up6e+vseOzGjojxmW2mEJ5UttpCUpHkAOgFYj9mtkiE1DkW2E7EaO22FsJUhHwSRod5r2t9vh21gs26JHiMlXMW2G0tp356A7+grJpSlKUpSlKUpSlKUpSlKUpSlKUpSlKUpSlKUpSlKUpSlKUpSlKUpSlKUpSlKUpSlKUpSlKUpSlKUpSlKUpSlKUpSlKV//2Q==\" alt=\"Logo UTN\"/>\n",
        "</div>\n",
        "</center>\n",
        "<center>\n",
        "    <div style=\"font-family: 'Georgia', serif; font-size: 24px;\">\n",
        "        <p><strong>Ingeniería electrónica. Análisis de Señales y Sistemas</strong></p>\n",
        "        <!--<p><em>Profesor Mg. Ing. Javier Velez</em></p>-->\n",
        "    </div>\n",
        "</center>\n"
      ]
    },
    {
      "cell_type": "markdown",
      "metadata": {
        "id": "SECxIqxPEZ5W"
      },
      "source": [
        "# Introducción a Python\n",
        "\n",
        "## ¿Qué es Python?\n",
        "\n",
        "Python es un lenguaje de programación, interpretado, de alto nivel y propósito general, multiplataforma, además de ser un proyecto libre y de código abierto, con una comunidad enorme implicada en el desarrollo y mantenimiento de librerías que hacen posible el *multidominio* actual de Python.\n",
        "\n",
        "Quizás se preguntarán por qué les presentamos Python en esta materia mientras ya están aprendiendo C++ en Informática I y II. Python y C++ son dos lenguajes de programación con enfoques y características diferentes. A continuación se presentan algunas de las principales diferencias entre Python y C++, así como sus usos adecuados:\n",
        "\n",
        "**Facilidad de uso**: Python es considerado un lenguaje de programación fácil de aprender y de escribir, mientras que C++ es más complejo y tiene una curva de aprendizaje más empinada.\n",
        "\n",
        "**Velocidad**: C++ es un lenguaje de programación compilado que puede ser muy rápido, mientras que Python es un lenguaje interpretado que generalmente es más lento que C++. Los detalles de esto lo verán en profundidad durante la carrera.\n",
        "\n",
        "**Tipos de dato**s: Python es un lenguaje de programación de tipado dinámico, lo que significa que no es necesario declarar el tipo de datos de una variable antes de usarla, mientras que C++ es un lenguaje de programación de tipado estático, lo que significa que se deben declarar los tipos de datos antes de usarlos. Además Python es un lenguaje orientado a listas y arreglos, lo que significa que la mayoría de los operadores y funciones nativas pueden trabajar con este tipo de variables.\n",
        "\n",
        "**Orientación a objetos**: Tanto Python como C++ son lenguajes orientados a objetos, pero Python tiene una sintaxis más simple y más fácil de usar para programar en este paradigma.\n",
        "\n",
        "**Uso adecuado**: Python se utiliza a menudo para la creación de prototipos rápidos, análisis de datos, inteligencia artificial y aprendizaje automático, scripting, desarrollo web y aplicaciones de escritorio. Por otro lado, C++ se utiliza comúnmente en sistemas operativos, videojuegos, aplicaciones de alto rendimiento, programación de dispositivos integrados y aplicaciones en tiempo real."
      ]
    },
    {
      "cell_type": "markdown",
      "metadata": {
        "id": "pIirfmT4EZ5g"
      },
      "source": [
        "## 1. Tipos de datos\n",
        "\n",
        "En un lenguaje de programación, los tipos de datos son categorías que definen las características de los datos y determinan qué tipo de operaciones se pueden realizar sobre ellos. Cada tipo de dato tiene sus propiedades y métodos asociados. A continuación, se explican los tipos de datos más comunes que encontrarás en el lenguaje Python."
      ]
    },
    {
      "cell_type": "markdown",
      "metadata": {
        "id": "iSaac95pEZ51"
      },
      "source": [
        "### 1.1. Cadenas de caracteres (Strings) en Python\n",
        "\n",
        "Las cadenas de caracteres, o strings, son un tipo de dato que contiene una secuencia de símbolos. Estos símbolos pueden ser alfanuméricos o cualquier otro símbolo propio de un sistema de escritura. En Python, los strings se definen utilizando comillas dobles (\"\") o simples (''). A continuación, algunos ejemplos:"
      ]
    },
    {
      "cell_type": "code",
      "execution_count": 1,
      "metadata": {
        "colab": {
          "base_uri": "https://localhost:8080/"
        },
        "id": "vRiVOEnEEZ51",
        "outputId": "802ee64b-63e4-4457-9089-6cc0573bb48a"
      },
      "outputs": [
        {
          "name": "stdout",
          "output_type": "stream",
          "text": [
            "<class 'str'>\n",
            "<class 'str'>\n"
          ]
        }
      ],
      "source": [
        "print(type('hola'))\n",
        "print(type(\"hola\"))"
      ]
    },
    {
      "cell_type": "markdown",
      "metadata": {
        "id": "WH4o_oySJzBt"
      },
      "source": [
        "En estos ejemplos, usamos la función `print` para mostrar información en la salida estándar (generalmente, la pantalla) y la función `type()` para determinar el tipo de dato. Ambas funciones son fundamentales en Python:\n",
        "\n",
        "- `print`: Se usa para mostrar resultados, contenido de variables o para depuración de código.\n",
        "\n",
        "- `type`: Indica el tipo de dato o variable.\n",
        "\n",
        "El resultado `<class 'str'>` indica que el tipo de dato es siempre un string, sin importar si usamos comillas simples o dobles.\n",
        "\n",
        "La función `print` puede:\n",
        "\n",
        "- Tomar múltiples argumentos y mostrarlos en la pantalla separados por un espacio.\n",
        "\n",
        "- Manejar caracteres especiales, como el salto de línea (`\\n`), para formatear la salida.\n",
        "\n",
        "Estos son algunos ejemplos del uso de `print` con strings:"
      ]
    },
    {
      "cell_type": "code",
      "execution_count": 2,
      "metadata": {
        "colab": {
          "base_uri": "https://localhost:8080/"
        },
        "id": "6M1TJGbuLA39",
        "outputId": "5250f4a1-fac9-4d09-d889-a2c12e526d61"
      },
      "outputs": [
        {
          "name": "stdout",
          "output_type": "stream",
          "text": [
            "Hola, mundo!\n",
            "Esto es un string.\n",
            "¡Hola!\n",
            "¿Cómo estás?\n",
            "Python es genial!\n"
          ]
        }
      ],
      "source": [
        "print(\"Hola, mundo!\")  # Muestra el texto en la pantalla\n",
        "print(\"Esto es un string.\")  # Otro ejemplo de string\n",
        "print(\"¡Hola!\\n¿Cómo estás?\")  # Utilizando el carácter especial de nueva línea\n",
        "print(\"Python \" + \"es \" + \"genial!\")  # Concatenando strings"
      ]
    },
    {
      "cell_type": "markdown",
      "metadata": {
        "id": "a6uE-l9JEZ52"
      },
      "source": [
        "En estos ejemplos, estamos utilizando `print` para mostrar diferentes cadenas de texto en la salida. Observa cómo:\n",
        "- podemos combinar strings utilizando el operador de concatenación `+`\n",
        "- podemos incluir caracteres especiales para dar formato a la salida.\n",
        "\n",
        "Seguiremos profundizando sobre la función `print` en este tutorial."
      ]
    },
    {
      "cell_type": "markdown",
      "metadata": {
        "id": "WXpG78OMEZ5h"
      },
      "source": [
        "### 1.2 Tipos de datos *Numéricos*\n",
        "\n",
        "Python dispone de los tipos numéricos más habituales:\n",
        "\n",
        "- Enteros (int): números enteros, por ejemplo, 1, 2, 3, etc.\n",
        "\n",
        "- Flotantes (float): números con decimales, por ejemplo, 3.14, 2.5, etc."
      ]
    },
    {
      "cell_type": "code",
      "execution_count": 3,
      "metadata": {
        "colab": {
          "base_uri": "https://localhost:8080/"
        },
        "id": "4PRVBxfiEZ5i",
        "outputId": "aa78c7a3-1bed-4a97-8c85-3d6a0d18d713"
      },
      "outputs": [
        {
          "data": {
            "text/plain": [
              "int"
            ]
          },
          "execution_count": 3,
          "metadata": {},
          "output_type": "execute_result"
        }
      ],
      "source": [
        "type(3)"
      ]
    },
    {
      "cell_type": "code",
      "execution_count": 4,
      "metadata": {
        "colab": {
          "base_uri": "https://localhost:8080/"
        },
        "id": "65qXui_UEZ5k",
        "outputId": "3afe0087-999b-4ce7-e448-7b5d940b4764"
      },
      "outputs": [
        {
          "data": {
            "text/plain": [
              "float"
            ]
          },
          "execution_count": 4,
          "metadata": {},
          "output_type": "execute_result"
        }
      ],
      "source": [
        "type(3.0)"
      ]
    },
    {
      "cell_type": "markdown",
      "metadata": {
        "id": "tApQetsNMS98"
      },
      "source": [
        "El número 3 es de tipo entero (int) porque no tiene una parte decimal. En cambio, el número 3.0 es de tipo flotante (float) porque incluye una parte decimal, aunque sea cero."
      ]
    },
    {
      "cell_type": "markdown",
      "metadata": {
        "id": "PqP8guqIEZ5l"
      },
      "source": [
        "### Operaciones aritméticas\n",
        "\n",
        "Python permite realizar diversas operaciones aritméticas entre tipos numéricos:\n",
        "\n",
        "| Operación | Descripción |\n",
        "|-----------|-------------|\n",
        "| +         | Suma dos valores numéricos |\n",
        "| -         | Resta dos valores numéricos |\n",
        "| *         | Multiplica dos valores numéricos |\n",
        "| /         | Divide dos valores numéricos |\n",
        "| //        | Realiza una división entera entre dos valores numéricos |\n",
        "| %         | Obtiene el residuo de la división entre dos valores numéricos |\n",
        "| **        | Eleva un valor numérico a una potencia |\n",
        "\n",
        "A continuación, algunos ejemplos prácticos:"
      ]
    },
    {
      "cell_type": "code",
      "execution_count": 5,
      "metadata": {
        "colab": {
          "base_uri": "https://localhost:8080/"
        },
        "id": "C4yU2d_jShHA",
        "outputId": "6358b7c6-642e-4f6b-abec-f33cf99f55f7"
      },
      "outputs": [
        {
          "name": "stdout",
          "output_type": "stream",
          "text": [
            "5\n",
            "3\n",
            "12\n",
            "5.0\n",
            "3\n",
            "1\n",
            "8\n"
          ]
        }
      ],
      "source": [
        "print(3 + 2)       # Suma: 5\n",
        "print(5 - 2)       # Resta: 3\n",
        "print(4 * 3)       # Multiplicación: 12\n",
        "print(10 / 2)      # División: 5.0\n",
        "print(10 // 3)     # División entera: 3\n",
        "print(10 % 3)      # Módulo o residuo: 1\n",
        "print(2 ** 3)      # Potencia: 8\n"
      ]
    },
    {
      "cell_type": "markdown",
      "metadata": {
        "id": "iBqxHTu6S1na"
      },
      "source": [
        "### Operaciones Combinadas\n",
        "\n",
        "Python también permite realizar operaciones combinadas, donde se utilizan varios operadores en una misma expresión. Observa cómo se evalúan las operaciones con diferentes tipos de datos:"
      ]
    },
    {
      "cell_type": "code",
      "execution_count": 6,
      "metadata": {
        "colab": {
          "base_uri": "https://localhost:8080/"
        },
        "id": "0WknibxIS3Gr",
        "outputId": "4b85ecd0-e0e3-44eb-cfb8-1a94715f0099"
      },
      "outputs": [
        {
          "data": {
            "text/plain": [
              "-3.0"
            ]
          },
          "execution_count": 6,
          "metadata": {},
          "output_type": "execute_result"
        }
      ],
      "source": [
        " 2 * 4 - (7 - 1)**2 / 3 + 1.0"
      ]
    },
    {
      "cell_type": "markdown",
      "metadata": {
        "id": "FAuhEqmwTBu7"
      },
      "source": [
        "En este caso, Python sigue la precedencia de operadores estándar (paréntesis, exponenciación, multiplicación/división, suma/resta). La expresión se evalúa paso a paso, y el resultado es un número flotante debido a la presencia de 1.0 en el último término y de que las divisiones siempre devuelven datos tipo flotantes.\n",
        "\n",
        "### Números Complejos\n",
        "\n",
        "Python también soporta números complejos, que se definen utilizando una parte real y una imaginaria, denotada por la letra j:"
      ]
    },
    {
      "cell_type": "code",
      "execution_count": 7,
      "metadata": {
        "colab": {
          "base_uri": "https://localhost:8080/"
        },
        "id": "hCpdZ5X_T-4h",
        "outputId": "551112c5-52ef-414f-a859-467c41604444"
      },
      "outputs": [
        {
          "name": "stdout",
          "output_type": "stream",
          "text": [
            "(2+3j)\n",
            "1j\n",
            "3.605551275463989\n"
          ]
        }
      ],
      "source": [
        "print(2 + 3j)  # Número complejo: (2+3j)\n",
        "print(1j)      # Parte imaginaria: 1j\n",
        "print(abs(2 + 3j))  # Módulo del número complejo: 3.605551275463989\n"
      ]
    },
    {
      "cell_type": "markdown",
      "metadata": {
        "id": "BLR-h_E9EZ52"
      },
      "source": [
        "### 1.3. Tipo bool o booleanos\n",
        "\n",
        "Las variables booleanas son valores lógicos, sólo pueden adoptar dos valores: verdadero (True) o falso (False). Un valor booleano se puede definir directamente a partir de las constantes True y False:"
      ]
    },
    {
      "cell_type": "code",
      "execution_count": 8,
      "metadata": {
        "colab": {
          "base_uri": "https://localhost:8080/"
        },
        "id": "Jvruhrw8EZ53",
        "outputId": "a5fd4bca-c4f5-4fe5-9afe-79430b6ae7df"
      },
      "outputs": [
        {
          "name": "stdout",
          "output_type": "stream",
          "text": [
            "<class 'bool'>\n",
            "<class 'bool'>\n"
          ]
        }
      ],
      "source": [
        "print(type(True))\n",
        "print(type(False))"
      ]
    },
    {
      "cell_type": "markdown",
      "metadata": {
        "id": "lQIJVUksEZ53"
      },
      "source": [
        "## 2. Variables"
      ]
    },
    {
      "cell_type": "markdown",
      "metadata": {
        "id": "8PmArQzREZ53"
      },
      "source": [
        "En Python, una variable es un contenedor que almacena un valor o una referencia a un objeto. Las variables se utilizan para almacenar y manipular datos dentro de un programa.\n",
        "\n",
        "En Python, se pueden definir variables simplemente asignando con el signo igual `=`, un valor a un nombre de variable. Por ejemplo, el siguiente código define una variable llamada `mi_variable` y le asigna el valor tipo int 10:"
      ]
    },
    {
      "cell_type": "code",
      "execution_count": 9,
      "metadata": {
        "colab": {
          "base_uri": "https://localhost:8080/"
        },
        "id": "U6spHfltEZ54",
        "outputId": "a96967d9-b6c4-4d28-8950-915d9cb618ca"
      },
      "outputs": [
        {
          "name": "stdout",
          "output_type": "stream",
          "text": [
            "10\n"
          ]
        }
      ],
      "source": [
        "mi_variable = 10\n",
        "print(mi_variable)"
      ]
    },
    {
      "cell_type": "markdown",
      "metadata": {
        "id": "fPD9nQ3yEZ54"
      },
      "source": [
        " Los nombres de las variables en Python pueden contener caracteres alfanuméricos (empezando con una letra) a-z, A-Z, 0-9 y otros símbolos como el guión bajo.\n",
        "\n",
        "Por cuestiones de estilo, las variables suelen empezar con minúscula, reservando la mayúcula para otros tipos más complejos.\n",
        "\n",
        "Algunos nombres no pueden ser usados como nombres de variables porque están reservados por python para distintas funcionalidades:\n",
        "\n",
        "    and, as, assert, break, class, continue, def, del, elif, else, except, exec, finally, for, from, global, if, import, in, is, lambda, not, or, pass, print, raise, return, try, while, with, yield"
      ]
    },
    {
      "cell_type": "markdown",
      "metadata": {
        "id": "xeNU-3W_EZ54"
      },
      "source": [
        "Asignemos a una variable llamada `a` un número complejo:"
      ]
    },
    {
      "cell_type": "code",
      "execution_count": 10,
      "metadata": {
        "id": "YtuXY0FjEZ55"
      },
      "outputs": [],
      "source": [
        "a = 1 + 2j"
      ]
    },
    {
      "cell_type": "markdown",
      "metadata": {
        "id": "aX3GguoMEZ55"
      },
      "source": [
        "En Python __la asignación no imprime nada por pantalla__. Una manera de visualizar la variable que acabamos de asignar es escribirla al final sin operar sobre ella:"
      ]
    },
    {
      "cell_type": "code",
      "execution_count": 11,
      "metadata": {
        "colab": {
          "base_uri": "https://localhost:8080/"
        },
        "id": "p84Q72CmEZ55",
        "outputId": "edf09327-6910-4584-b127-a1597a933ac1"
      },
      "outputs": [
        {
          "data": {
            "text/plain": [
              "3.14159"
            ]
          },
          "execution_count": 11,
          "metadata": {},
          "output_type": "execute_result"
        }
      ],
      "source": [
        "b = 3.14159\n",
        "b"
      ]
    },
    {
      "cell_type": "markdown",
      "metadata": {
        "id": "Vta9DNJHEZ56"
      },
      "source": [
        "Otra manera obviemente es usando la función `print()`, y una manera muy elegante de hacerlo es la siguiente:"
      ]
    },
    {
      "cell_type": "code",
      "execution_count": 12,
      "metadata": {
        "colab": {
          "base_uri": "https://localhost:8080/"
        },
        "id": "zeueCwLBEZ56",
        "outputId": "65770113-b550-43cc-a67c-7dd3269bf458"
      },
      "outputs": [
        {
          "name": "stdout",
          "output_type": "stream",
          "text": [
            "El número grande es: 2579.  El número chico es: 2.\n"
          ]
        }
      ],
      "source": [
        "numero_grande = 2579\n",
        "numero_chico = 2\n",
        "print(f'El número grande es: {numero_grande}.  El número chico es: {numero_chico}.')"
      ]
    },
    {
      "cell_type": "markdown",
      "metadata": {
        "id": "TZ4AITVPgDj5"
      },
      "source": [
        "Observar la letra \"f\" antes de las comillas del string. Esto indica que python va a reemplazar las llaves por el contenido de la variable que está indicada allí."
      ]
    },
    {
      "cell_type": "markdown",
      "metadata": {
        "id": "aspOaVqREZ56"
      },
      "source": [
        "Podemos realizar **asignación de múltiples variables** en una línea:"
      ]
    },
    {
      "cell_type": "code",
      "execution_count": 13,
      "metadata": {
        "colab": {
          "base_uri": "https://localhost:8080/"
        },
        "id": "I8BYd608EZ57",
        "outputId": "247c2864-b0e5-4b66-9762-4dd3a4514391"
      },
      "outputs": [
        {
          "name": "stdout",
          "output_type": "stream",
          "text": [
            "x vale: 1, y vale: 2\n"
          ]
        }
      ],
      "source": [
        "x, y = 1, 2\n",
        "print(f'x vale: {x}, y vale: {y}')"
      ]
    },
    {
      "cell_type": "markdown",
      "metadata": {
        "id": "rSEXfLJ7EZ58"
      },
      "source": [
        "También podemos intercambiar sus valores en una línea:"
      ]
    },
    {
      "cell_type": "code",
      "execution_count": 14,
      "metadata": {
        "colab": {
          "base_uri": "https://localhost:8080/"
        },
        "id": "yGCPD8MGEZ58",
        "outputId": "19884c29-5961-40b6-a740-282da556e25e"
      },
      "outputs": [
        {
          "name": "stdout",
          "output_type": "stream",
          "text": [
            "x vale: 2, y vale: 1\n"
          ]
        }
      ],
      "source": [
        "x, y = y, x\n",
        "print(f'x vale: {x}, y vale: {y}')"
      ]
    },
    {
      "cell_type": "markdown",
      "metadata": {
        "id": "g3xecGw9EZ59"
      },
      "source": [
        "Por último hay que mencionar que los nombres de variables son *case sensitive*, es decir, se distingue entre mayúsculas y minúsculas."
      ]
    },
    {
      "cell_type": "code",
      "execution_count": 16,
      "metadata": {
        "colab": {
          "base_uri": "https://localhost:8080/"
        },
        "id": "SsT6xz3zEZ59",
        "outputId": "a39cf5ed-63dc-42f0-8479-364bfffdd219"
      },
      "outputs": [
        {
          "name": "stdout",
          "output_type": "stream",
          "text": [
            "NOMBRE: Miriam; nombre: Marcelo; Nombre: Braulio.\n"
          ]
        }
      ],
      "source": [
        "NOMBRE = \"Miriam\"\n",
        "nombre = \"Marcelo\"\n",
        "Nombre = ('Braulio')\n",
        "print(f'NOMBRE: {NOMBRE}; nombre: {nombre}; Nombre: {Nombre}.')"
      ]
    },
    {
      "cell_type": "markdown",
      "metadata": {
        "id": "8nBmeQOJEZ59"
      },
      "source": [
        "## 3. Operadores de comparación"
      ]
    },
    {
      "cell_type": "markdown",
      "metadata": {
        "id": "ydM8z234EZ5-"
      },
      "source": [
        "### 3.1 Operadores para comparación de números.\n",
        "\n",
        "Estos son:\n",
        "\n",
        "* `==` igual a\n",
        "* `!=` distinto de\n",
        "* `<` menor que\n",
        "* `<=` menor o igual que\n",
        "* `>` mayor que\n",
        "* `>=` mayor o igual que\n",
        "\n",
        "hacer una comparación de números arrojará como resultado un booleano: `True` o `False`"
      ]
    },
    {
      "cell_type": "code",
      "execution_count": 18,
      "metadata": {
        "colab": {
          "base_uri": "https://localhost:8080/"
        },
        "id": "HEFbcaLzEZ5-",
        "outputId": "d2390d4f-3bfe-4906-dc3f-13eaf020b356"
      },
      "outputs": [
        {
          "data": {
            "text/plain": [
              "False"
            ]
          },
          "execution_count": 18,
          "metadata": {},
          "output_type": "execute_result"
        }
      ],
      "source": [
        "x == y"
      ]
    },
    {
      "cell_type": "code",
      "execution_count": 19,
      "metadata": {
        "colab": {
          "base_uri": "https://localhost:8080/"
        },
        "id": "JHuzPGaFEZ5-",
        "outputId": "387cf2c0-1960-4d56-ea37-1537a30aa0a4"
      },
      "outputs": [
        {
          "name": "stdout",
          "output_type": "stream",
          "text": [
            "True\n"
          ]
        }
      ],
      "source": [
        "print(x != y)"
      ]
    },
    {
      "cell_type": "code",
      "execution_count": 20,
      "metadata": {
        "colab": {
          "base_uri": "https://localhost:8080/"
        },
        "id": "fSY6m8p-EZ5_",
        "outputId": "22e839ce-9ca0-4f95-fd81-ec553ddf46bb"
      },
      "outputs": [
        {
          "name": "stdout",
          "output_type": "stream",
          "text": [
            "False\n",
            "False\n",
            "True\n",
            "True\n"
          ]
        }
      ],
      "source": [
        "print(x < y)\n",
        "print(x <= y)\n",
        "print(x > y)\n",
        "print(x >= y)"
      ]
    },
    {
      "cell_type": "code",
      "execution_count": 21,
      "metadata": {
        "colab": {
          "base_uri": "https://localhost:8080/"
        },
        "id": "TsROGsKhEZ6A",
        "outputId": "c321af04-217d-4bee-ce80-d128d4c69f32"
      },
      "outputs": [
        {
          "data": {
            "text/plain": [
              "False"
            ]
          },
          "execution_count": 21,
          "metadata": {},
          "output_type": "execute_result"
        }
      ],
      "source": [
        "# incluso:\n",
        "x = 5.\n",
        "6. < x < 8."
      ]
    },
    {
      "cell_type": "markdown",
      "metadata": {
        "id": "PXJIZ5AWEZ6A"
      },
      "source": [
        "### 3.2 Operaciones  para comparación de datos tipo booleanos.\n",
        "\n",
        "Las operaciones básicas con booleanos son `and`, `not` y `or`"
      ]
    },
    {
      "cell_type": "code",
      "execution_count": 22,
      "metadata": {
        "colab": {
          "base_uri": "https://localhost:8080/"
        },
        "id": "7GqnibVYEZ6A",
        "outputId": "48a31030-eb78-4733-bc17-ce32e2055f27"
      },
      "outputs": [
        {
          "data": {
            "text/plain": [
              "False"
            ]
          },
          "execution_count": 22,
          "metadata": {},
          "output_type": "execute_result"
        }
      ],
      "source": [
        "True and False"
      ]
    },
    {
      "cell_type": "code",
      "execution_count": 23,
      "metadata": {
        "colab": {
          "base_uri": "https://localhost:8080/"
        },
        "id": "oc-nNmHuEZ6B",
        "outputId": "07ff44c9-9b4b-4540-f8e7-63f79b64d13e"
      },
      "outputs": [
        {
          "data": {
            "text/plain": [
              "True"
            ]
          },
          "execution_count": 23,
          "metadata": {},
          "output_type": "execute_result"
        }
      ],
      "source": [
        "not False"
      ]
    },
    {
      "cell_type": "code",
      "execution_count": 24,
      "metadata": {
        "colab": {
          "base_uri": "https://localhost:8080/"
        },
        "id": "WCrCLc_dEZ6B",
        "outputId": "bf7eff0d-cfee-4595-e928-9f3f0afb9b10"
      },
      "outputs": [
        {
          "data": {
            "text/plain": [
              "True"
            ]
          },
          "execution_count": 24,
          "metadata": {},
          "output_type": "execute_result"
        }
      ],
      "source": [
        "True or False"
      ]
    },
    {
      "cell_type": "markdown",
      "metadata": {
        "id": "oQ9UADQ_EZ6C"
      },
      "source": [
        "y se pueden concatenar tantos como queramos:"
      ]
    },
    {
      "cell_type": "code",
      "execution_count": 25,
      "metadata": {
        "colab": {
          "base_uri": "https://localhost:8080/"
        },
        "id": "FMux6Zs1EZ6C",
        "outputId": "ff7058ae-cfd2-4304-b2b0-fb859715bcb6"
      },
      "outputs": [
        {
          "name": "stdout",
          "output_type": "stream",
          "text": [
            "True\n",
            "True\n"
          ]
        }
      ],
      "source": [
        "print(True and True and True)\n",
        "print(True or False or False)"
      ]
    },
    {
      "cell_type": "markdown",
      "metadata": {
        "id": "jbTqB9ksEZ6C"
      },
      "source": [
        "## 4. Otros tipos de datos: listas y tuplas"
      ]
    },
    {
      "cell_type": "markdown",
      "metadata": {
        "id": "Kk3qPHAkEZ6C"
      },
      "source": [
        "Otro tipo de datos muy importante son las secuencias: las tuplas y las listas. Ambos son conjuntos ordenados de elementos: las tuplas se demarcan con paréntesis y las listas con corchetes. Ambas pueden contener dentro cualquier tipo de dato, incluso se pueden mezclar los tipos de datos:"
      ]
    },
    {
      "cell_type": "code",
      "execution_count": 32,
      "metadata": {
        "colab": {
          "base_uri": "https://localhost:8080/"
        },
        "id": "DyUuuaeeEZ6D",
        "outputId": "ab33f721-0c9c-48fd-81ab-812e7b082b2e"
      },
      "outputs": [
        {
          "name": "stdout",
          "output_type": "stream",
          "text": [
            "[1, 2, 3.0, (4+0j), '5']\n",
            "(1, 0, 3.0, (4+0j), '5', 'hola')\n",
            "False\n"
          ]
        }
      ],
      "source": [
        "una_lista = [1, 2, 3.0, 4 + 0j, \"5\"]\n",
        "una_tupla = (1, 0, 3.0, 4 + 0j, \"5\", \"hola\")\n",
        "print(una_lista)\n",
        "print(una_tupla)\n",
        "print(una_lista == una_tupla)"
      ]
    },
    {
      "cell_type": "markdown",
      "metadata": {
        "id": "IuPMjzoNEZ6D"
      },
      "source": [
        "Para las tuplas, podemos incluso obviar los paréntesis:"
      ]
    },
    {
      "cell_type": "code",
      "execution_count": 33,
      "metadata": {
        "colab": {
          "base_uri": "https://localhost:8080/"
        },
        "id": "kmHUZjvUEZ6D",
        "outputId": "12d2dba1-5531-4846-c7bf-6defeb35b9d7"
      },
      "outputs": [
        {
          "data": {
            "text/plain": [
              "tuple"
            ]
          },
          "execution_count": 33,
          "metadata": {},
          "output_type": "execute_result"
        }
      ],
      "source": [
        "tupla_sin_parentesis = 2,5,6,9,7\n",
        "type(tupla_sin_parentesis)"
      ]
    },
    {
      "cell_type": "markdown",
      "metadata": {
        "id": "mhjpaB_7EZ6E"
      },
      "source": [
        "En los dos tipos podemos:\n",
        "\n",
        "* Comprobar si un elemento está en la secuencia con el operador `in`:"
      ]
    },
    {
      "cell_type": "code",
      "execution_count": 34,
      "metadata": {
        "colab": {
          "base_uri": "https://localhost:8080/"
        },
        "id": "jxyKDJCsEZ6E",
        "outputId": "577052f4-9ca0-4872-9f4d-1e2ccacd6f40"
      },
      "outputs": [
        {
          "data": {
            "text/plain": [
              "True"
            ]
          },
          "execution_count": 34,
          "metadata": {},
          "output_type": "execute_result"
        }
      ],
      "source": [
        "2 in una_lista"
      ]
    },
    {
      "cell_type": "code",
      "execution_count": 35,
      "metadata": {
        "colab": {
          "base_uri": "https://localhost:8080/"
        },
        "id": "BUwz6JotEZ6E",
        "outputId": "e20492db-d079-4cd7-990f-079f6425ea41"
      },
      "outputs": [
        {
          "data": {
            "text/plain": [
              "False"
            ]
          },
          "execution_count": 35,
          "metadata": {},
          "output_type": "execute_result"
        }
      ],
      "source": [
        "2 in una_tupla"
      ]
    },
    {
      "cell_type": "markdown",
      "metadata": {
        "id": "sFAbs5olEZ6F"
      },
      "source": [
        "\n",
        "\n",
        "\n",
        "* Saber cuántos elementos tienen con la función `len`:"
      ]
    },
    {
      "cell_type": "code",
      "execution_count": 36,
      "metadata": {
        "colab": {
          "base_uri": "https://localhost:8080/"
        },
        "id": "gWSO5sAjEZ6F",
        "outputId": "a9c19ee5-ae5b-40b8-8f4d-e08ed900593d"
      },
      "outputs": [
        {
          "data": {
            "text/plain": [
              "5"
            ]
          },
          "execution_count": 36,
          "metadata": {},
          "output_type": "execute_result"
        }
      ],
      "source": [
        "len(una_lista)"
      ]
    },
    {
      "cell_type": "code",
      "execution_count": 37,
      "metadata": {
        "colab": {
          "base_uri": "https://localhost:8080/"
        },
        "id": "3i6RPljjEZ6G",
        "outputId": "f781686e-51a2-4ce7-9fee-68b5caed7d0e"
      },
      "outputs": [
        {
          "data": {
            "text/plain": [
              "6"
            ]
          },
          "execution_count": 37,
          "metadata": {},
          "output_type": "execute_result"
        }
      ],
      "source": [
        "len(una_tupla)"
      ]
    },
    {
      "cell_type": "markdown",
      "metadata": {
        "id": "gxl5LSEpEZ6G"
      },
      "source": [
        "### Indexaxión de elementos en secuencias\n",
        "La indexación en Python se refiere a la manera en que se accede a elementos individuales de secuencias como strings, listas y tuplas. Python utiliza índices basados en cero, lo que significa que la posición del primer elemento es 0.\n",
        "\n",
        "**Indexación básica**\n",
        "\n",
        "Consideremos una cadena de caracteres como ejemplo:"
      ]
    },
    {
      "cell_type": "code",
      "execution_count": 38,
      "metadata": {
        "colab": {
          "base_uri": "https://localhost:8080/"
        },
        "id": "aMX37vl-EZ6G",
        "outputId": "4cf71564-3564-4ee3-c703-fc37c1eb1305"
      },
      "outputs": [
        {
          "name": "stdout",
          "output_type": "stream",
          "text": [
            "6\n"
          ]
        }
      ],
      "source": [
        "mi_string = \"Python\"\n",
        "print(len(mi_string))  # Muestra 6"
      ]
    },
    {
      "cell_type": "markdown",
      "metadata": {
        "id": "iP-IXTnjxIkJ"
      },
      "source": [
        "Vemos que la variable `mi_string` contiene 6 elementos. En Python, la indexación comienza desde 0, por lo que la letra P está en la posición 0 y la letra n (la última de mi_string) está en la posición 5.\n",
        "\n",
        "Podemos acceder a cada carácter de la cadena utilizando el nombre de la variable junto a su índice encerrado entre corchetes:\n"
      ]
    },
    {
      "cell_type": "code",
      "execution_count": 39,
      "metadata": {
        "colab": {
          "base_uri": "https://localhost:8080/"
        },
        "id": "oTcLfmunEZ6H",
        "outputId": "19a70c11-4570-4de9-dfbc-72ab6e2fc513"
      },
      "outputs": [
        {
          "name": "stdout",
          "output_type": "stream",
          "text": [
            "P\n",
            "y\n",
            "t\n",
            "h\n",
            "o\n",
            "n\n"
          ]
        }
      ],
      "source": [
        "print(mi_string[0])  # P\n",
        "print(mi_string[1])  # y\n",
        "print(mi_string[2])  # t\n",
        "print(mi_string[3])  # h\n",
        "print(mi_string[4])  # o\n",
        "print(mi_string[5])  # n\n"
      ]
    },
    {
      "cell_type": "markdown",
      "metadata": {
        "id": "MYlUdy4mzV6n"
      },
      "source": [
        "**Índices Negativos**\n",
        "\n",
        "Python también permite el uso de índices negativos para acceder a los elementos desde el final de la secuencia. El índice -1 representa el último elemento, -2 el penúltimo, y así sucesivamente:"
      ]
    },
    {
      "cell_type": "markdown",
      "metadata": {
        "id": "28hdS5BAEZ6H"
      },
      "source": [
        "Y llegamos al final de este tutorial! Cualquier comentario no dudes en consultar con los profesores de la cátedra."
      ]
    },
    {
      "cell_type": "code",
      "execution_count": 40,
      "metadata": {
        "colab": {
          "base_uri": "https://localhost:8080/"
        },
        "id": "JQlQhRf_zaiT",
        "outputId": "af72dbb3-cc7b-4e25-a476-7b68c60175aa"
      },
      "outputs": [
        {
          "name": "stdout",
          "output_type": "stream",
          "text": [
            "n\n",
            "o\n",
            "h\n",
            "t\n",
            "y\n",
            "P\n"
          ]
        }
      ],
      "source": [
        "print(mi_string[-1])  # n\n",
        "print(mi_string[-2])  # o\n",
        "print(mi_string[-3])  # h\n",
        "print(mi_string[-4])  # t\n",
        "print(mi_string[-5])  # y\n",
        "print(mi_string[-6])  # P\n"
      ]
    },
    {
      "cell_type": "markdown",
      "metadata": {
        "id": "gaHhZSduzh5w"
      },
      "source": [
        "**Slicing**\n",
        "\n",
        "El slicing permite extraer subsecuencias de una secuencia. Se utiliza el operador de dos puntos (`:`) para indicar el rango de índices. La sintaxis es `secuencia[inicio:fin]`, donde `inicio` es el índice del primer elemento incluido y `fin` es el índice del primer elemento excluido:\n"
      ]
    },
    {
      "cell_type": "code",
      "execution_count": 41,
      "metadata": {
        "colab": {
          "base_uri": "https://localhost:8080/"
        },
        "id": "GCPoXuFFzc87",
        "outputId": "41b4fa13-04bf-4cfd-803c-f71c27395b39"
      },
      "outputs": [
        {
          "name": "stdout",
          "output_type": "stream",
          "text": [
            "Py\n",
            "tho\n",
            "Pyth\n",
            "thon\n",
            "Python\n"
          ]
        }
      ],
      "source": [
        "print(mi_string[0:2])  # Py\n",
        "print(mi_string[2:5])  # tho\n",
        "print(mi_string[:4])   # Pyth (desde el inicio hasta el índice 4, no incluido)\n",
        "print(mi_string[2:])   # thon (desde el índice 2 hasta el final)\n",
        "print(mi_string[:])    # Python (toda la secuencia)\n"
      ]
    },
    {
      "cell_type": "markdown",
      "metadata": {
        "id": "wqJDiodhz6Sy"
      },
      "source": [
        "**Slicing con Paso**\n",
        "El slicing con paso permite seleccionar elementos de una secuencia en intervalos específicos. La sintaxis es `secuencia[inicio:fin:paso]`, donde `inicio` es el índice del primer elemento incluido, `fin` es el índice del primer elemento excluido, y `paso` es el intervalo entre los elementos seleccionados. Veamos algunos ejemplos:"
      ]
    },
    {
      "cell_type": "code",
      "execution_count": 42,
      "metadata": {
        "colab": {
          "base_uri": "https://localhost:8080/"
        },
        "id": "CaxwcE_Lzzqb",
        "outputId": "9949627d-ed9d-4a9b-fca3-31ab8984fa17"
      },
      "outputs": [
        {
          "name": "stdout",
          "output_type": "stream",
          "text": [
            "Pto\n"
          ]
        }
      ],
      "source": [
        "print(mi_string[::2])  # Pto"
      ]
    },
    {
      "cell_type": "markdown",
      "metadata": {
        "id": "J5L9rqBA07zc"
      },
      "source": [
        "En este ejemplo, comenzamos desde el principio de la cadena (`inicio` se omite, por lo que es 0 por defecto), vamos hasta el final (`fin` se omite, por lo que se incluye toda la cadena), y seleccionamos 1 cada 2 caracteres (paso es 2). El resultado es \"Pto\".\n",
        "\n",
        "Veamos otro ejemplo:"
      ]
    },
    {
      "cell_type": "code",
      "execution_count": 43,
      "metadata": {
        "colab": {
          "base_uri": "https://localhost:8080/"
        },
        "id": "tmowdyrr1QAi",
        "outputId": "bcf2c082-0070-405e-cdb9-e80d1bd2c5e8"
      },
      "outputs": [
        {
          "name": "stdout",
          "output_type": "stream",
          "text": [
            "yh\n"
          ]
        }
      ],
      "source": [
        "print(mi_string[1:5:2])  # yh\n"
      ]
    },
    {
      "cell_type": "markdown",
      "metadata": {
        "id": "-970vrQE1Ug1"
      },
      "source": [
        "Aquí, comenzamos en el índice 1 (`y`), vamos hasta el índice 5 (`o` pero no incluido), y seleccionamos 1 de cada 2 caracteres. El resultado es \"yh\".\n",
        "\n",
        "Veamos ahora como invertir la cadena usando un paso negativo:"
      ]
    },
    {
      "cell_type": "code",
      "execution_count": 44,
      "metadata": {
        "colab": {
          "base_uri": "https://localhost:8080/"
        },
        "id": "IlqDfSg21TpD",
        "outputId": "58a8a82f-dc8d-4daf-8131-beb99c0e4c92"
      },
      "outputs": [
        {
          "name": "stdout",
          "output_type": "stream",
          "text": [
            "nohtyP\n"
          ]
        }
      ],
      "source": [
        "print(mi_string[::-1])  # nohtyP"
      ]
    },
    {
      "cell_type": "markdown",
      "metadata": {
        "id": "Ymh5UBUc12m8"
      },
      "source": [
        "**Indexación y Slicing en Listas y Tuplas**\n",
        "\n",
        "La indexación y el slicing funcionan de manera similar en listas y tuplas. Consideremos una lista de ejemplo:"
      ]
    },
    {
      "cell_type": "code",
      "execution_count": 45,
      "metadata": {
        "id": "m4Qfrjn51kTr"
      },
      "outputs": [],
      "source": [
        "mi_lista = [10, 20, 30, 40, 50]\n"
      ]
    },
    {
      "cell_type": "markdown",
      "metadata": {
        "id": "Pn8MdTxK17aX"
      },
      "source": [
        "Acceso a elementos individuales:"
      ]
    },
    {
      "cell_type": "code",
      "execution_count": 46,
      "metadata": {
        "colab": {
          "base_uri": "https://localhost:8080/"
        },
        "id": "2879CvN3166j",
        "outputId": "840a3308-d9e0-4bcf-c152-d83670ea2824"
      },
      "outputs": [
        {
          "name": "stdout",
          "output_type": "stream",
          "text": [
            "10\n",
            "50\n"
          ]
        }
      ],
      "source": [
        "print(mi_lista[0])  # 10\n",
        "print(mi_lista[-1]) # 50\n"
      ]
    },
    {
      "cell_type": "markdown",
      "metadata": {
        "id": "yCczpIsb2E1p"
      },
      "source": [
        "Slicing:"
      ]
    },
    {
      "cell_type": "code",
      "execution_count": 47,
      "metadata": {
        "colab": {
          "base_uri": "https://localhost:8080/"
        },
        "id": "84JrVmEP2Ha7",
        "outputId": "34ffa40e-91f6-4ebb-ca36-b0259ab968f4"
      },
      "outputs": [
        {
          "name": "stdout",
          "output_type": "stream",
          "text": [
            "[20, 30, 40]\n",
            "[10, 20, 30]\n",
            "[40, 50]\n",
            "[10, 30, 50]\n"
          ]
        }
      ],
      "source": [
        "print(mi_lista[1:4])  # [20, 30, 40]\n",
        "print(mi_lista[:3])   # [10, 20, 30]\n",
        "print(mi_lista[3:])   # [40, 50]\n",
        "print(mi_lista[::2])  # [10, 30, 50]\n"
      ]
    },
    {
      "cell_type": "markdown",
      "metadata": {
        "id": "FvhBxzd-4QXK"
      },
      "source": [
        "**Modificación de Listas**\n",
        "\n",
        "A diferencia de las cadenas de caracteres y las tuplas, las listas son mutables, lo que significa que sus elementos pueden ser modificados:"
      ]
    },
    {
      "cell_type": "code",
      "execution_count": 48,
      "metadata": {
        "colab": {
          "base_uri": "https://localhost:8080/"
        },
        "id": "wcw_mfAY2IUD",
        "outputId": "eb6068f3-5509-46d9-fe4e-40f93ad8da90"
      },
      "outputs": [
        {
          "name": "stdout",
          "output_type": "stream",
          "text": [
            "[10, 20, 35, 40, 50]\n",
            "[10, 25, 30, 40, 50]\n"
          ]
        }
      ],
      "source": [
        "mi_lista[2] = 35\n",
        "print(mi_lista)  # [10, 20, 35, 40, 50]\n",
        "\n",
        "# También podemos modificar sublistas mediante slicing\n",
        "mi_lista[1:3] = [25, 30]\n",
        "print(mi_lista)  # [10, 25, 30, 40, 50]\n"
      ]
    },
    {
      "cell_type": "markdown",
      "metadata": {
        "id": "OL4-clR__7HM"
      },
      "source": [
        "## 5. Profundizando sobre números complejos en Python\n",
        "\n",
        "Python tiene soporte nativo para números complejos y también ofrece la librería `cmath` para realizar operaciones avanzadas. Vamos a explorar estos conceptos paso a paso.\n",
        "\n",
        "**¿Qué es una librería en Python?**\n",
        "\n",
        "Una librería en Python es un conjunto de módulos y funciones que puedes utilizar para realizar tareas específicas sin tener que escribir todo el código desde cero. Las librerías te permiten reutilizar código ya existente, facilitando el desarrollo de tus programas. Para utilizar una librería, primero necesitas importarla en tu script.\n",
        "\n",
        "**Cómo importar una librería**\n",
        "\n",
        "Para importar una librería en Python, utilizas la palabra clave import seguida del nombre de la librería. Por ejemplo, para importar la librería cmath, que proporciona funciones avanzadas para trabajar con números complejos, escribes import cmath.\n",
        "\n",
        "\n",
        "### 5.1 Números Complejos Nativos\n",
        "\n",
        "En Python, puedes crear un número complejo usando la sintaxis `a + bj`, donde `a` es la parte real y `b` es la parte imaginaria. Aquí hay algunos ejemplos:"
      ]
    },
    {
      "cell_type": "code",
      "execution_count": 49,
      "metadata": {
        "colab": {
          "base_uri": "https://localhost:8080/"
        },
        "id": "khF4REAmA_B6",
        "outputId": "75ca0709-bb08-476a-8eb2-03c0a7aeb243"
      },
      "outputs": [
        {
          "name": "stdout",
          "output_type": "stream",
          "text": [
            "Número complejo z1: (3+4j)\n",
            "Número complejo z2: (2-3j)\n"
          ]
        }
      ],
      "source": [
        "# Creación de números complejos\n",
        "z1 = 3 + 4j\n",
        "z2 = 2 - 3j\n",
        "\n",
        "print(\"Número complejo z1:\", z1)\n",
        "print(\"Número complejo z2:\", z2)\n"
      ]
    },
    {
      "cell_type": "markdown",
      "metadata": {
        "id": "Q4DvW4qABB0M"
      },
      "source": [
        "### 5.2  Operaciones Básicas con Números Complejos\n",
        "\n",
        "**Suma y Resta**\n",
        "\n",
        "Puedes sumar y restar números complejos directamente:"
      ]
    },
    {
      "cell_type": "code",
      "execution_count": 50,
      "metadata": {
        "colab": {
          "base_uri": "https://localhost:8080/"
        },
        "id": "ozJvXqnQBIG0",
        "outputId": "fafa6ca2-2595-4c40-f20d-d69863d8af84"
      },
      "outputs": [
        {
          "name": "stdout",
          "output_type": "stream",
          "text": [
            "Suma: (5+1j)\n",
            "Resta: (1+7j)\n"
          ]
        }
      ],
      "source": [
        "# Suma de números complejos\n",
        "suma = z1 + z2\n",
        "print(\"Suma:\", suma)\n",
        "\n",
        "# Resta de números complejos\n",
        "resta = z1 - z2\n",
        "print(\"Resta:\", resta)\n"
      ]
    },
    {
      "cell_type": "markdown",
      "metadata": {
        "id": "bC4dBueXBKfb"
      },
      "source": [
        "**Multiplicación y División**\n",
        "\n",
        "La multiplicación y la división también son directas:"
      ]
    },
    {
      "cell_type": "code",
      "execution_count": 53,
      "metadata": {
        "colab": {
          "base_uri": "https://localhost:8080/"
        },
        "id": "6gFWZgCsBNjP",
        "outputId": "72a3a367-4695-401e-8c5b-ef343f92c97b"
      },
      "outputs": [
        {
          "name": "stdout",
          "output_type": "stream",
          "text": [
            "Multiplicación: (18-1j)\n",
            "División: (-0.46153846153846156+1.3076923076923077j)\n"
          ]
        }
      ],
      "source": [
        "# Multiplicación de números complejos\n",
        "multiplicacion = z1 * z2\n",
        "print(\"Multiplicación:\", multiplicacion)\n",
        "\n",
        "# División de números complejos\n",
        "division = z1 / z2\n",
        "print(\"División:\", division)\n"
      ]
    },
    {
      "cell_type": "markdown",
      "metadata": {
        "id": "huo4hxo3BPvg"
      },
      "source": [
        "**Parte Real e Imaginaria**\n",
        "\n",
        "Puedes obtener la parte real e imaginaria de un número complejo usando las propiedades `.real` y `.imag`:"
      ]
    },
    {
      "cell_type": "code",
      "execution_count": 51,
      "metadata": {
        "colab": {
          "base_uri": "https://localhost:8080/"
        },
        "id": "1g-7dBfgBVHt",
        "outputId": "991903bd-1b6f-434c-ca54-b230c26de38a"
      },
      "outputs": [
        {
          "name": "stdout",
          "output_type": "stream",
          "text": [
            "Parte real de z1: 3.0\n",
            "Parte imaginaria de z1: 4.0\n"
          ]
        }
      ],
      "source": [
        "# Parte real e imaginaria\n",
        "parte_real = z1.real\n",
        "parte_imaginaria = z1.imag\n",
        "\n",
        "print(\"Parte real de z1:\", parte_real)\n",
        "print(\"Parte imaginaria de z1:\", parte_imaginaria)\n"
      ]
    },
    {
      "cell_type": "markdown",
      "metadata": {
        "id": "hGP75mnHBcNJ"
      },
      "source": [
        "Módulo (o magnitud) y Fase (o argumento):\n",
        "\n",
        "La magnitud de un número complejo se calcula como:"
      ]
    },
    {
      "cell_type": "code",
      "execution_count": 54,
      "metadata": {
        "colab": {
          "base_uri": "https://localhost:8080/"
        },
        "id": "ny2GZrrwB18Z",
        "outputId": "ef701bff-5ff1-4fb2-de63-e33492d4d966"
      },
      "outputs": [
        {
          "name": "stdout",
          "output_type": "stream",
          "text": [
            "Magnitud de z1: 5.0\n"
          ]
        }
      ],
      "source": [
        "import cmath\n",
        "\n",
        "# Magnitud de un número complejo\n",
        "magnitud = abs(z1)\n",
        "print(\"Magnitud de z1:\", magnitud)\n"
      ]
    },
    {
      "cell_type": "markdown",
      "metadata": {
        "id": "rERswVUmB3rm"
      },
      "source": [
        "La fase de un número complejo medido en radianes se calcula como:"
      ]
    },
    {
      "cell_type": "code",
      "execution_count": 55,
      "metadata": {
        "colab": {
          "base_uri": "https://localhost:8080/"
        },
        "id": "C_PMacc4B9Jr",
        "outputId": "7cc6f9ff-6659-4d5a-a0f5-f35afc097ea0"
      },
      "outputs": [
        {
          "name": "stdout",
          "output_type": "stream",
          "text": [
            "Fase de z1: 0.9272952180016122\n"
          ]
        }
      ],
      "source": [
        "# Fase de un número complejo\n",
        "fase = cmath.phase(z1)\n",
        "print(\"Fase de z1:\", fase)\n"
      ]
    },
    {
      "cell_type": "markdown",
      "metadata": {
        "id": "Ga72HJkwCpaQ"
      },
      "source": [
        " ### 5.3 Operaciones Avanzadas\n",
        "\n",
        " **Funciones Trigonométricas**\n",
        "\n",
        "La librería cmath proporciona funciones para el seno, coseno y tangente de números complejos:"
      ]
    },
    {
      "cell_type": "code",
      "execution_count": 56,
      "metadata": {
        "colab": {
          "base_uri": "https://localhost:8080/"
        },
        "id": "aiyBF87GC04O",
        "outputId": "14444771-5c83-4dcf-f577-520c70703622"
      },
      "outputs": [
        {
          "name": "stdout",
          "output_type": "stream",
          "text": [
            "Seno de z1: (3.853738037919377-27.016813258003932j)\n",
            "Coseno de z1: (-27.034945603074224-3.851153334811777j)\n",
            "Tangente de z1: (-0.0001873462046294784+0.999355987381473j)\n"
          ]
        }
      ],
      "source": [
        "# Funciones trigonométricas\n",
        "seno = cmath.sin(z1)\n",
        "coseno = cmath.cos(z1)\n",
        "tangente = cmath.tan(z1)\n",
        "\n",
        "print(\"Seno de z1:\", seno)\n",
        "print(\"Coseno de z1:\", coseno)\n",
        "print(\"Tangente de z1:\", tangente)\n"
      ]
    },
    {
      "cell_type": "markdown",
      "metadata": {
        "id": "C2s_CdJIC5FZ"
      },
      "source": [
        "**Exponencial y Logaritmo**\n",
        "\n",
        "Puedes calcular el exponencial y el logaritmo de un número complejo:\n",
        "\n"
      ]
    },
    {
      "cell_type": "code",
      "execution_count": 57,
      "metadata": {
        "colab": {
          "base_uri": "https://localhost:8080/"
        },
        "id": "QaZIQcI5C78z",
        "outputId": "28bfb5b7-bf3a-4ebf-84a5-b3264ba720a5"
      },
      "outputs": [
        {
          "name": "stdout",
          "output_type": "stream",
          "text": [
            "Exponencial de z1: (-13.128783081462158-15.200784463067954j)\n",
            "Logaritmo de z1: (1.6094379124341003+0.9272952180016122j)\n"
          ]
        }
      ],
      "source": [
        "# Exponencial y logaritmo\n",
        "exponencial = cmath.exp(z1)\n",
        "logaritmo = cmath.log(z1)\n",
        "\n",
        "print(\"Exponencial de z1:\", exponencial)\n",
        "print(\"Logaritmo de z1:\", logaritmo)\n"
      ]
    },
    {
      "cell_type": "markdown",
      "metadata": {
        "id": "qq78ujs4DJ51"
      },
      "source": [
        "**Conversión a Forma Polar**\n",
        "\n",
        "La función `cmath.polar()` convierte un número complejo a su forma polar, devolviendo la magnitud y la fase:"
      ]
    },
    {
      "cell_type": "code",
      "execution_count": 65,
      "metadata": {
        "colab": {
          "base_uri": "https://localhost:8080/"
        },
        "id": "C3_M-PXbDzcR",
        "outputId": "a7a30d12-b5bf-4e63-fcfe-f35c5a6f9ccc"
      },
      "outputs": [
        {
          "name": "stdout",
          "output_type": "stream",
          "text": [
            "Forma polar de z1: (5.0, 0.9272952180016122)\n"
          ]
        }
      ],
      "source": [
        "# Conversión a forma polar\n",
        "forma_polar = cmath.polar(z1)\n",
        "print(\"Forma polar de z1:\", forma_polar)\n"
      ]
    },
    {
      "cell_type": "markdown",
      "metadata": {
        "id": "G1lg_V_LD3Xh"
      },
      "source": [
        "**Conversión de Forma Polar a Rectangular**\n",
        "\n",
        "La función `cmath.rect()` convierte coordenadas polares a un número complejo:\n",
        "\n"
      ]
    },
    {
      "cell_type": "code",
      "execution_count": 66,
      "metadata": {
        "colab": {
          "base_uri": "https://localhost:8080/"
        },
        "id": "OxK0wgvxD8Ne",
        "outputId": "d4ddabf1-e976-48fd-a7e5-a7f4db785c78"
      },
      "outputs": [
        {
          "name": "stdout",
          "output_type": "stream",
          "text": [
            "Forma rectangular desde polar: (3.0000000000000004+3.9999999999999996j)\n"
          ]
        }
      ],
      "source": [
        "# Conversión de forma polar a rectangular\n",
        "r, phi = forma_polar\n",
        "forma_rectangular = cmath.rect(r, phi)\n",
        "print(\"Forma rectangular desde polar:\", forma_rectangular)\n"
      ]
    },
    {
      "cell_type": "markdown",
      "metadata": {
        "id": "Gp67GnkJENwM"
      },
      "source": [
        "La librería `cmath` proporciona una serie de funciones adicionales y especializadas para trabajar con complejos. Aquí se presentan otras de las características y funciones que `cmath` ofrece:\n",
        "\n",
        "**Funciones Trigonométricas y Hiperbólicas**:"
      ]
    },
    {
      "cell_type": "code",
      "execution_count": 67,
      "metadata": {
        "colab": {
          "base_uri": "https://localhost:8080/"
        },
        "id": "0NJZbzRcEe5I",
        "outputId": "0dfade96-cc7b-41c1-e99a-6f9be846f51e"
      },
      "outputs": [
        {
          "name": "stdout",
          "output_type": "stream",
          "text": [
            "(3.853738037919377-27.016813258003932j)\n",
            "(3.853738037919377-27.016813258003932j)\n",
            "(-27.034945603074224-3.851153334811777j)\n",
            "(-0.0001873462046294784+0.999355987381473j)\n",
            "(-6.5481200409110025-7.61923172032141j)\n",
            "(-6.580663040551157-7.581552742746545j)\n",
            "(1.000709536067233+0.00490825806749606j)\n"
          ]
        }
      ],
      "source": [
        "print(cmath.sin(z1) )#Seno de un número complejo.\n",
        "print(cmath.sin(z1) )#Seno de un número complejo.\n",
        "print(cmath.cos(z1) )#Coseno de un número complejo.\n",
        "print(cmath.tan(z1) )#Tangente de un número complejo.\n",
        "print(cmath.sinh(z1)) #Seno hiperbólico de un número complejo.\n",
        "print(cmath.cosh(z1)) #Coseno hiperbólico de un número complejo.\n",
        "print(cmath.tanh(z1)) #Tangente hiperbólica de un número complejo."
      ]
    },
    {
      "cell_type": "markdown",
      "metadata": {
        "id": "3yfxo_1HEz3P"
      },
      "source": [
        "**Funciones Exponenciales y Logarítmicas**:"
      ]
    },
    {
      "cell_type": "code",
      "execution_count": 68,
      "metadata": {
        "colab": {
          "base_uri": "https://localhost:8080/"
        },
        "id": "whypKt-nE2yS",
        "outputId": "5e6bb7ee-5d49-442f-f8b3-cc513b3731ce"
      },
      "outputs": [
        {
          "name": "stdout",
          "output_type": "stream",
          "text": [
            "(-13.128783081462158-15.200784463067954j)\n",
            "(1.6094379124341003+0.9272952180016122j)\n",
            "(0.6989700043360187+0.4027191962733731j)\n"
          ]
        }
      ],
      "source": [
        "print(cmath.exp(z1)) # Exponencial de un número complejo.\n",
        "print(cmath.log(z1)) # Logaritmo natural (base e) de un número complejo.\n",
        "print(cmath.log10(z1)) # Logaritmo base 10 de un número complejo.\n"
      ]
    },
    {
      "cell_type": "markdown",
      "metadata": {
        "id": "WnuRh61QE54V"
      },
      "source": [
        "**Funciones de Potencia y Raíz cuadrada**:\n"
      ]
    },
    {
      "cell_type": "code",
      "execution_count": 73,
      "metadata": {
        "colab": {
          "base_uri": "https://localhost:8080/"
        },
        "id": "1OTFElpkFLwA",
        "outputId": "bbb26c56-2141-4ef9-aaf3-6962b3df9ff9"
      },
      "outputs": [
        {
          "name": "stdout",
          "output_type": "stream",
          "text": [
            "(2+1j)\n",
            "(-117+44j)\n"
          ]
        }
      ],
      "source": [
        "print(cmath.sqrt(z1)) #Raíz cuadrada de un número complejo.\n",
        "print(z1 ** 3)        # z1 al cubo\n"
      ]
    },
    {
      "cell_type": "markdown",
      "metadata": {
        "id": "s0ToBa5lGCRX"
      },
      "source": [
        "\n",
        "**Constantes**:\n"
      ]
    },
    {
      "cell_type": "code",
      "execution_count": 74,
      "metadata": {
        "colab": {
          "base_uri": "https://localhost:8080/"
        },
        "id": "VgLnTQkxGESf",
        "outputId": "5dbe3804-b790-4370-8554-f39c41ca671a"
      },
      "outputs": [
        {
          "name": "stdout",
          "output_type": "stream",
          "text": [
            "3.141592653589793\n",
            "2.718281828459045\n"
          ]
        }
      ],
      "source": [
        "print(cmath.pi) # El valor de π.\n",
        "print(cmath.e)  #El valor de e."
      ]
    },
    {
      "cell_type": "markdown",
      "metadata": {
        "id": "hGfXrOXc4jDd"
      },
      "source": [
        "----\n",
        "Con esto llegamos al final de este tutorial! Recuerda que los temas que desarrollamos en los tutoriales de la cátedra son tratados de manera básica y contienen solo lo necesario para poder presentar de forma didáctica los contenidos de la asignatura. Entender Python en profundidad requiere un curso completo dedicado a ello.\n",
        "\n",
        "En [este link](https://github.com/vinta/awesome-python)  encontrarás una extensa cantidad de librerías de python para trabajar prácticamente sobre cualquier temática que necesites.\n",
        "\n",
        "En [este link](https://docs.python.org/es/3.9/) encontrarás la documentación completa de Python\n",
        "\n",
        "Cualquier comentario no dudes en consultar con los profesores de la cátedra.\n",
        "\n"
      ]
    }
  ],
  "metadata": {
    "colab": {
      "provenance": []
    },
    "kernelspec": {
      "display_name": "Python 3",
      "language": "python",
      "name": "python3"
    },
    "language_info": {
      "codemirror_mode": {
        "name": "ipython",
        "version": 3
      },
      "file_extension": ".py",
      "mimetype": "text/x-python",
      "name": "python",
      "nbconvert_exporter": "python",
      "pygments_lexer": "ipython3",
      "version": "3.9.7"
    },
    "vscode": {
      "interpreter": {
        "hash": "c56527485b7c9dd36c8c8808345694ae9d0a642c0f00dfb6356f9a65494ceb50"
      }
    }
  },
  "nbformat": 4,
  "nbformat_minor": 0
}
